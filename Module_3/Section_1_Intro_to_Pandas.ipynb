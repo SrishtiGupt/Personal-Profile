{
  "nbformat": 4,
  "nbformat_minor": 0,
  "metadata": {
    "colab": {
      "provenance": []
    },
    "kernelspec": {
      "name": "python3",
      "display_name": "Python 3"
    },
    "language_info": {
      "name": "python"
    }
  },
  "cells": [
    {
      "cell_type": "markdown",
      "source": [
        "# Section 1. Intro to Pandas\n",
        "\n",
        "We have used Python lists and Numpy arrays to store and manipulate data.\n",
        "Each method has its place in a Python program.\n",
        "But there's an excellent Python package called Pandas that greatly facilitates handling data and more importantly, managing data from files.\n",
        "Pandas uses the DataFrame, which can be thought of as a large table with built-in functions to:\n",
        "- process rows and columns\n",
        "- read and write to many different formats on disk\n",
        "- interact with other DataFrames.\n",
        "\n",
        "One key advantage of pandas over other types of data storage is that it can easily handle manage many different data types.\n",
        "\n",
        "## 1.1 Getting Started\n",
        "\n",
        "First, we need to import the package. We should also import NumPy for other useful functions and matplotlib for when we plot\n",
        "```\n",
        "import pandas as pd\n",
        "import numpy as np\n",
        "import matplotlib.pyplot as plt\n",
        "```"
      ],
      "metadata": {
        "id": "rgFQ0jMkuMa8"
      }
    },
    {
      "cell_type": "code",
      "execution_count": 2,
      "metadata": {
        "id": "OdPe93y5uB-r"
      },
      "outputs": [],
      "source": [
        "import pandas as pd\n",
        "import numpy as np\n",
        "import matplotlib.pyplot as plt"
      ]
    },
    {
      "cell_type": "markdown",
      "source": [
        "### 1.1.1 The DataFrame\n",
        "\n",
        "Here, we will demonstrate how to create a DataFrame using lists.\n",
        "First, let's define some familiar looking Solar System data.\n",
        "\n",
        "```\n",
        "planets = [['Mercury', 0.0553, 0.4, 0],\n",
        "           ['Venus', 0.815, 0.7, 0],\n",
        "           ['Earth', 1.0, 1.0, 1],\n",
        "           ['Mars', 0.107, 1.5, 2],\n",
        "           ['Jupiter', 317.8, 5.2, 95],\n",
        "           ['Saturn', 95.2, 9.5, 146],\n",
        "           ['Uranus', 14.5, 19.2, 28],\n",
        "           ['Neptune', 17.1, 30.1, 16]]\n",
        "\n",
        "colnames = ['Name','Mass','Distance','N_moons']\n",
        "# Units: None, Earth Masses, AU, None\n",
        "```\n",
        "\n",
        "Take note of a few things here.\n",
        "\n",
        "First, unlike in NumPy arrays, where you can only have one data type (usually int or float), each row in the above table mixes three different types of data: string, float, and int. This is one of the advantages of Pandas: different columns are allowed to have different data types.\n",
        "\n",
        "Second, notice that the code above uses a second list to create names for the columns. This is a huge feature of the design philosophy of the DataFrame. While a NumPy 2D array can be thought of as a huge matrix of numbers, a DataFrame really is a table.\n",
        "\n",
        "Finally, the code included a comment with the units associated with this data. Units were not included in the column names to keep the column names short, which helps writing the code later on be much easier. As a reminder, it is good practice to label units in your code with comments to stay organized and to be able to share your code with others so they can easily understand it.\n",
        "\n",
        "Now, let's make a dataframe named `df` from the lists named `planets` and show it.\n",
        "```\n",
        "df = pd.DataFrame(planets, columns=colnames)\n",
        "print(df)\n",
        "\n",
        "```\n",
        "In the second cell, try running just `df` to see how the output may look different. This distinction is only relevant when working in a Jupyter notebook and when datasets are small enough to read and look over in Python.\n",
        "```\n",
        "df\n",
        "```"
      ],
      "metadata": {
        "id": "DhOD9Xto_DNx"
      }
    },
    {
      "cell_type": "code",
      "source": [
        "planets = [['Mercury', 0.0553, 0.4, 0],\n",
        "           ['Venus', 0.815, 0.7, 0],\n",
        "           ['Earth', 1.0, 1.0, 1],\n",
        "           ['Mars', 0.107, 1.5, 2],\n",
        "           ['Jupiter', 317.8, 5.2, 95],\n",
        "           ['Saturn', 95.2, 9.5, 146],\n",
        "           ['Uranus', 14.5, 19.2, 28],\n",
        "           ['Neptune', 17.1, 30.1, 16]]\n",
        "\n",
        "colnames = ['Name','Mass','Distance','N_moons']\n",
        "# Units: None, Earth Masses, AU, None\n",
        "df = pd.DataFrame(planets, columns=colnames)\n",
        "print(df)"
      ],
      "metadata": {
        "id": "WUlfOT4_gV8E",
        "outputId": "d1bb2169-5555-42d5-a775-d8303682bb58",
        "colab": {
          "base_uri": "https://localhost:8080/"
        }
      },
      "execution_count": 2,
      "outputs": [
        {
          "output_type": "stream",
          "name": "stdout",
          "text": [
            "      Name      Mass  Distance  N_moons\n",
            "0  Mercury    0.0553       0.4        0\n",
            "1    Venus    0.8150       0.7        0\n",
            "2    Earth    1.0000       1.0        1\n",
            "3     Mars    0.1070       1.5        2\n",
            "4  Jupiter  317.8000       5.2       95\n",
            "5   Saturn   95.2000       9.5      146\n",
            "6   Uranus   14.5000      19.2       28\n",
            "7  Neptune   17.1000      30.1       16\n"
          ]
        }
      ]
    },
    {
      "cell_type": "markdown",
      "source": [
        "### 1.1.2 Accessing Rows and Cells\n",
        "\n",
        "To access individual rows, we use the method `df.loc`, where you can replace df with the name of your DataFrame.\n",
        "\n",
        "In the previous example above, the indices ranged from 0 to 7. So, if we want to access the row for Earth, we can execute\n",
        "```\n",
        "df.loc[2]\n",
        "```\n",
        "Note that DataFrames can use different indexes. For instance, the indices may not correspond to their row number at all. In fact, you can even find tables where the indices are strings. When using `df.loc` you must remember to use the label given.\n",
        "\n",
        "To access a specific cell, we specify both the index (as above) and the column name. For example, if we want to get the mass of Venus, we can execute\n",
        "```\n",
        "df.loc[2,'Mass']\n",
        "```\n",
        "Try this in the cell below."
      ],
      "metadata": {
        "id": "bY4XVvbgfhsk"
      }
    },
    {
      "cell_type": "code",
      "source": [
        "df.loc[2,'Mass']"
      ],
      "metadata": {
        "id": "RYPeOdeciGKr",
        "outputId": "c2e1d1dd-6638-48a4-ec44-4bcf33c5f1a4",
        "colab": {
          "base_uri": "https://localhost:8080/"
        }
      },
      "execution_count": 3,
      "outputs": [
        {
          "output_type": "execute_result",
          "data": {
            "text/plain": [
              "np.float64(1.0)"
            ]
          },
          "metadata": {},
          "execution_count": 3
        }
      ]
    },
    {
      "cell_type": "markdown",
      "source": [
        "Note that we can also use this functionality with `.loc` to\n",
        "change the values of individual cells."
      ],
      "metadata": {
        "id": "A5pUCr2UB98p"
      }
    },
    {
      "cell_type": "markdown",
      "source": [
        "### 1.1.3 Accessing Columns\n",
        "\n",
        "Accessing individual rows and cells is less useful than you may think since each row only represents one data point. When we're using tables, we're often more interested in the statistics of many data points. The DataFrame structure represents this, because it's very easy to obtain different columns. For example, if we want masses, we could use\n",
        "```\n",
        "df['Mass']\n",
        "```\n",
        "If we want multiple columns, we enter a list of column names, e.g.,\n",
        "```\n",
        "df[['Mass','Distance']]\n",
        "```\n",
        "\n",
        "Note that this is why it is best to keep column names short by including units in a comment rather than in the column name as mentioned above. Since we need to write out the column names, adding the units can make the code unnecessarily long."
      ],
      "metadata": {
        "id": "sRxCRggdiZbk"
      }
    },
    {
      "cell_type": "code",
      "source": [
        "df[['Mass','Distance']]"
      ],
      "metadata": {
        "id": "evfVfW2CiN92",
        "outputId": "056f889a-1191-4155-cdc3-96c9ad6d9080",
        "colab": {
          "base_uri": "https://localhost:8080/",
          "height": 300
        }
      },
      "execution_count": 4,
      "outputs": [
        {
          "output_type": "execute_result",
          "data": {
            "text/plain": [
              "       Mass  Distance\n",
              "0    0.0553       0.4\n",
              "1    0.8150       0.7\n",
              "2    1.0000       1.0\n",
              "3    0.1070       1.5\n",
              "4  317.8000       5.2\n",
              "5   95.2000       9.5\n",
              "6   14.5000      19.2\n",
              "7   17.1000      30.1"
            ],
            "text/html": [
              "\n",
              "  <div id=\"df-22e8a936-b66c-4785-8656-7ae4ff6d313c\" class=\"colab-df-container\">\n",
              "    <div>\n",
              "<style scoped>\n",
              "    .dataframe tbody tr th:only-of-type {\n",
              "        vertical-align: middle;\n",
              "    }\n",
              "\n",
              "    .dataframe tbody tr th {\n",
              "        vertical-align: top;\n",
              "    }\n",
              "\n",
              "    .dataframe thead th {\n",
              "        text-align: right;\n",
              "    }\n",
              "</style>\n",
              "<table border=\"1\" class=\"dataframe\">\n",
              "  <thead>\n",
              "    <tr style=\"text-align: right;\">\n",
              "      <th></th>\n",
              "      <th>Mass</th>\n",
              "      <th>Distance</th>\n",
              "    </tr>\n",
              "  </thead>\n",
              "  <tbody>\n",
              "    <tr>\n",
              "      <th>0</th>\n",
              "      <td>0.0553</td>\n",
              "      <td>0.4</td>\n",
              "    </tr>\n",
              "    <tr>\n",
              "      <th>1</th>\n",
              "      <td>0.8150</td>\n",
              "      <td>0.7</td>\n",
              "    </tr>\n",
              "    <tr>\n",
              "      <th>2</th>\n",
              "      <td>1.0000</td>\n",
              "      <td>1.0</td>\n",
              "    </tr>\n",
              "    <tr>\n",
              "      <th>3</th>\n",
              "      <td>0.1070</td>\n",
              "      <td>1.5</td>\n",
              "    </tr>\n",
              "    <tr>\n",
              "      <th>4</th>\n",
              "      <td>317.8000</td>\n",
              "      <td>5.2</td>\n",
              "    </tr>\n",
              "    <tr>\n",
              "      <th>5</th>\n",
              "      <td>95.2000</td>\n",
              "      <td>9.5</td>\n",
              "    </tr>\n",
              "    <tr>\n",
              "      <th>6</th>\n",
              "      <td>14.5000</td>\n",
              "      <td>19.2</td>\n",
              "    </tr>\n",
              "    <tr>\n",
              "      <th>7</th>\n",
              "      <td>17.1000</td>\n",
              "      <td>30.1</td>\n",
              "    </tr>\n",
              "  </tbody>\n",
              "</table>\n",
              "</div>\n",
              "    <div class=\"colab-df-buttons\">\n",
              "\n",
              "  <div class=\"colab-df-container\">\n",
              "    <button class=\"colab-df-convert\" onclick=\"convertToInteractive('df-22e8a936-b66c-4785-8656-7ae4ff6d313c')\"\n",
              "            title=\"Convert this dataframe to an interactive table.\"\n",
              "            style=\"display:none;\">\n",
              "\n",
              "  <svg xmlns=\"http://www.w3.org/2000/svg\" height=\"24px\" viewBox=\"0 -960 960 960\">\n",
              "    <path d=\"M120-120v-720h720v720H120Zm60-500h600v-160H180v160Zm220 220h160v-160H400v160Zm0 220h160v-160H400v160ZM180-400h160v-160H180v160Zm440 0h160v-160H620v160ZM180-180h160v-160H180v160Zm440 0h160v-160H620v160Z\"/>\n",
              "  </svg>\n",
              "    </button>\n",
              "\n",
              "  <style>\n",
              "    .colab-df-container {\n",
              "      display:flex;\n",
              "      gap: 12px;\n",
              "    }\n",
              "\n",
              "    .colab-df-convert {\n",
              "      background-color: #E8F0FE;\n",
              "      border: none;\n",
              "      border-radius: 50%;\n",
              "      cursor: pointer;\n",
              "      display: none;\n",
              "      fill: #1967D2;\n",
              "      height: 32px;\n",
              "      padding: 0 0 0 0;\n",
              "      width: 32px;\n",
              "    }\n",
              "\n",
              "    .colab-df-convert:hover {\n",
              "      background-color: #E2EBFA;\n",
              "      box-shadow: 0px 1px 2px rgba(60, 64, 67, 0.3), 0px 1px 3px 1px rgba(60, 64, 67, 0.15);\n",
              "      fill: #174EA6;\n",
              "    }\n",
              "\n",
              "    .colab-df-buttons div {\n",
              "      margin-bottom: 4px;\n",
              "    }\n",
              "\n",
              "    [theme=dark] .colab-df-convert {\n",
              "      background-color: #3B4455;\n",
              "      fill: #D2E3FC;\n",
              "    }\n",
              "\n",
              "    [theme=dark] .colab-df-convert:hover {\n",
              "      background-color: #434B5C;\n",
              "      box-shadow: 0px 1px 3px 1px rgba(0, 0, 0, 0.15);\n",
              "      filter: drop-shadow(0px 1px 2px rgba(0, 0, 0, 0.3));\n",
              "      fill: #FFFFFF;\n",
              "    }\n",
              "  </style>\n",
              "\n",
              "    <script>\n",
              "      const buttonEl =\n",
              "        document.querySelector('#df-22e8a936-b66c-4785-8656-7ae4ff6d313c button.colab-df-convert');\n",
              "      buttonEl.style.display =\n",
              "        google.colab.kernel.accessAllowed ? 'block' : 'none';\n",
              "\n",
              "      async function convertToInteractive(key) {\n",
              "        const element = document.querySelector('#df-22e8a936-b66c-4785-8656-7ae4ff6d313c');\n",
              "        const dataTable =\n",
              "          await google.colab.kernel.invokeFunction('convertToInteractive',\n",
              "                                                    [key], {});\n",
              "        if (!dataTable) return;\n",
              "\n",
              "        const docLinkHtml = 'Like what you see? Visit the ' +\n",
              "          '<a target=\"_blank\" href=https://colab.research.google.com/notebooks/data_table.ipynb>data table notebook</a>'\n",
              "          + ' to learn more about interactive tables.';\n",
              "        element.innerHTML = '';\n",
              "        dataTable['output_type'] = 'display_data';\n",
              "        await google.colab.output.renderOutput(dataTable, element);\n",
              "        const docLink = document.createElement('div');\n",
              "        docLink.innerHTML = docLinkHtml;\n",
              "        element.appendChild(docLink);\n",
              "      }\n",
              "    </script>\n",
              "  </div>\n",
              "\n",
              "\n",
              "    <div id=\"df-e4c20d8e-da98-47ce-b32c-b3313e243b91\">\n",
              "      <button class=\"colab-df-quickchart\" onclick=\"quickchart('df-e4c20d8e-da98-47ce-b32c-b3313e243b91')\"\n",
              "                title=\"Suggest charts\"\n",
              "                style=\"display:none;\">\n",
              "\n",
              "<svg xmlns=\"http://www.w3.org/2000/svg\" height=\"24px\"viewBox=\"0 0 24 24\"\n",
              "     width=\"24px\">\n",
              "    <g>\n",
              "        <path d=\"M19 3H5c-1.1 0-2 .9-2 2v14c0 1.1.9 2 2 2h14c1.1 0 2-.9 2-2V5c0-1.1-.9-2-2-2zM9 17H7v-7h2v7zm4 0h-2V7h2v10zm4 0h-2v-4h2v4z\"/>\n",
              "    </g>\n",
              "</svg>\n",
              "      </button>\n",
              "\n",
              "<style>\n",
              "  .colab-df-quickchart {\n",
              "      --bg-color: #E8F0FE;\n",
              "      --fill-color: #1967D2;\n",
              "      --hover-bg-color: #E2EBFA;\n",
              "      --hover-fill-color: #174EA6;\n",
              "      --disabled-fill-color: #AAA;\n",
              "      --disabled-bg-color: #DDD;\n",
              "  }\n",
              "\n",
              "  [theme=dark] .colab-df-quickchart {\n",
              "      --bg-color: #3B4455;\n",
              "      --fill-color: #D2E3FC;\n",
              "      --hover-bg-color: #434B5C;\n",
              "      --hover-fill-color: #FFFFFF;\n",
              "      --disabled-bg-color: #3B4455;\n",
              "      --disabled-fill-color: #666;\n",
              "  }\n",
              "\n",
              "  .colab-df-quickchart {\n",
              "    background-color: var(--bg-color);\n",
              "    border: none;\n",
              "    border-radius: 50%;\n",
              "    cursor: pointer;\n",
              "    display: none;\n",
              "    fill: var(--fill-color);\n",
              "    height: 32px;\n",
              "    padding: 0;\n",
              "    width: 32px;\n",
              "  }\n",
              "\n",
              "  .colab-df-quickchart:hover {\n",
              "    background-color: var(--hover-bg-color);\n",
              "    box-shadow: 0 1px 2px rgba(60, 64, 67, 0.3), 0 1px 3px 1px rgba(60, 64, 67, 0.15);\n",
              "    fill: var(--button-hover-fill-color);\n",
              "  }\n",
              "\n",
              "  .colab-df-quickchart-complete:disabled,\n",
              "  .colab-df-quickchart-complete:disabled:hover {\n",
              "    background-color: var(--disabled-bg-color);\n",
              "    fill: var(--disabled-fill-color);\n",
              "    box-shadow: none;\n",
              "  }\n",
              "\n",
              "  .colab-df-spinner {\n",
              "    border: 2px solid var(--fill-color);\n",
              "    border-color: transparent;\n",
              "    border-bottom-color: var(--fill-color);\n",
              "    animation:\n",
              "      spin 1s steps(1) infinite;\n",
              "  }\n",
              "\n",
              "  @keyframes spin {\n",
              "    0% {\n",
              "      border-color: transparent;\n",
              "      border-bottom-color: var(--fill-color);\n",
              "      border-left-color: var(--fill-color);\n",
              "    }\n",
              "    20% {\n",
              "      border-color: transparent;\n",
              "      border-left-color: var(--fill-color);\n",
              "      border-top-color: var(--fill-color);\n",
              "    }\n",
              "    30% {\n",
              "      border-color: transparent;\n",
              "      border-left-color: var(--fill-color);\n",
              "      border-top-color: var(--fill-color);\n",
              "      border-right-color: var(--fill-color);\n",
              "    }\n",
              "    40% {\n",
              "      border-color: transparent;\n",
              "      border-right-color: var(--fill-color);\n",
              "      border-top-color: var(--fill-color);\n",
              "    }\n",
              "    60% {\n",
              "      border-color: transparent;\n",
              "      border-right-color: var(--fill-color);\n",
              "    }\n",
              "    80% {\n",
              "      border-color: transparent;\n",
              "      border-right-color: var(--fill-color);\n",
              "      border-bottom-color: var(--fill-color);\n",
              "    }\n",
              "    90% {\n",
              "      border-color: transparent;\n",
              "      border-bottom-color: var(--fill-color);\n",
              "    }\n",
              "  }\n",
              "</style>\n",
              "\n",
              "      <script>\n",
              "        async function quickchart(key) {\n",
              "          const quickchartButtonEl =\n",
              "            document.querySelector('#' + key + ' button');\n",
              "          quickchartButtonEl.disabled = true;  // To prevent multiple clicks.\n",
              "          quickchartButtonEl.classList.add('colab-df-spinner');\n",
              "          try {\n",
              "            const charts = await google.colab.kernel.invokeFunction(\n",
              "                'suggestCharts', [key], {});\n",
              "          } catch (error) {\n",
              "            console.error('Error during call to suggestCharts:', error);\n",
              "          }\n",
              "          quickchartButtonEl.classList.remove('colab-df-spinner');\n",
              "          quickchartButtonEl.classList.add('colab-df-quickchart-complete');\n",
              "        }\n",
              "        (() => {\n",
              "          let quickchartButtonEl =\n",
              "            document.querySelector('#df-e4c20d8e-da98-47ce-b32c-b3313e243b91 button');\n",
              "          quickchartButtonEl.style.display =\n",
              "            google.colab.kernel.accessAllowed ? 'block' : 'none';\n",
              "        })();\n",
              "      </script>\n",
              "    </div>\n",
              "\n",
              "    </div>\n",
              "  </div>\n"
            ],
            "application/vnd.google.colaboratory.intrinsic+json": {
              "type": "dataframe",
              "summary": "{\n  \"name\": \"df[['Mass','Distance']]\",\n  \"rows\": 8,\n  \"fields\": [\n    {\n      \"column\": \"Mass\",\n      \"properties\": {\n        \"dtype\": \"number\",\n        \"std\": 110.60567546964742,\n        \"min\": 0.0553,\n        \"max\": 317.8,\n        \"num_unique_values\": 8,\n        \"samples\": [\n          0.815,\n          95.2,\n          0.0553\n        ],\n        \"semantic_type\": \"\",\n        \"description\": \"\"\n      }\n    },\n    {\n      \"column\": \"Distance\",\n      \"properties\": {\n        \"dtype\": \"number\",\n        \"std\": 10.853702462425305,\n        \"min\": 0.4,\n        \"max\": 30.1,\n        \"num_unique_values\": 8,\n        \"samples\": [\n          0.7,\n          9.5,\n          0.4\n        ],\n        \"semantic_type\": \"\",\n        \"description\": \"\"\n      }\n    }\n  ]\n}"
            }
          },
          "metadata": {},
          "execution_count": 4
        }
      ]
    },
    {
      "cell_type": "markdown",
      "source": [
        "### 1.1.4 df.values\n",
        "When using some functions, such `plt.plot()`, we don't need a full Pandas DataFrame. Using `df.values` will extract the values and return a NumPy array.\n",
        "```\n",
        "df.values # returns a 2D array\n",
        "df.loc[2].values # returns a 1D array of the third row\n",
        "df['Mass'].values # returns a 1D array of the Mass column\n",
        "```"
      ],
      "metadata": {
        "id": "KtFBqIS7po2g"
      }
    },
    {
      "cell_type": "code",
      "source": [
        "print(df.values) # returns a 2D array\n",
        "print(df.loc[2].values) # returns a 1D array of the third row\n",
        "print(df['Mass'].values) # returns a 1D array of the Mass column"
      ],
      "metadata": {
        "id": "L9I5z5sGr1he",
        "outputId": "378d70d3-65c5-49de-915e-a282091c2c4c",
        "colab": {
          "base_uri": "https://localhost:8080/"
        }
      },
      "execution_count": 5,
      "outputs": [
        {
          "output_type": "stream",
          "name": "stdout",
          "text": [
            "[['Mercury' 0.0553 0.4 0]\n",
            " ['Venus' 0.815 0.7 0]\n",
            " ['Earth' 1.0 1.0 1]\n",
            " ['Mars' 0.107 1.5 2]\n",
            " ['Jupiter' 317.8 5.2 95]\n",
            " ['Saturn' 95.2 9.5 146]\n",
            " ['Uranus' 14.5 19.2 28]\n",
            " ['Neptune' 17.1 30.1 16]]\n",
            "['Earth' np.float64(1.0) np.float64(1.0) np.int64(1)]\n",
            "[5.530e-02 8.150e-01 1.000e+00 1.070e-01 3.178e+02 9.520e+01 1.450e+01\n",
            " 1.710e+01]\n"
          ]
        }
      ]
    },
    {
      "cell_type": "markdown",
      "source": [
        "## 1.2 Making Changes to a DataFrame\n",
        "### 1.2.1 Adding New Columns from Data\n",
        "\n",
        "Suppose we obtain additional data, and we want to add it to our DataFrame. We can do so like this.\n",
        "```\n",
        "radii = [0.383, 0.949, 1, 0.532, 11.21, 9.45, 4.01, 3.88] # in Earth radii\n",
        "\n",
        "df['Radius'] = radii\n",
        "```\n",
        "\n",
        "One big caveat: **your list must be ordered in the same way as your DataFrame.**\n",
        "\n",
        "Add this new column in the next code cell."
      ],
      "metadata": {
        "id": "_jFSOPt0r0oE"
      }
    },
    {
      "cell_type": "code",
      "source": [
        "radii = [0.383, 0.949, 1, 0.532, 11.21, 9.45, 4.01, 3.88] # in Earth radii\n",
        "\n",
        "df['Radius'] = radii\n",
        "\n",
        "df['Radius']"
      ],
      "metadata": {
        "id": "el9h05K5sRGl",
        "outputId": "0219e771-d856-4223-c7a0-0922903c481d",
        "colab": {
          "base_uri": "https://localhost:8080/",
          "height": 335
        }
      },
      "execution_count": 8,
      "outputs": [
        {
          "output_type": "execute_result",
          "data": {
            "text/plain": [
              "0     0.383\n",
              "1     0.949\n",
              "2     1.000\n",
              "3     0.532\n",
              "4    11.210\n",
              "5     9.450\n",
              "6     4.010\n",
              "7     3.880\n",
              "Name: Radius, dtype: float64"
            ],
            "text/html": [
              "<div>\n",
              "<style scoped>\n",
              "    .dataframe tbody tr th:only-of-type {\n",
              "        vertical-align: middle;\n",
              "    }\n",
              "\n",
              "    .dataframe tbody tr th {\n",
              "        vertical-align: top;\n",
              "    }\n",
              "\n",
              "    .dataframe thead th {\n",
              "        text-align: right;\n",
              "    }\n",
              "</style>\n",
              "<table border=\"1\" class=\"dataframe\">\n",
              "  <thead>\n",
              "    <tr style=\"text-align: right;\">\n",
              "      <th></th>\n",
              "      <th>Radius</th>\n",
              "    </tr>\n",
              "  </thead>\n",
              "  <tbody>\n",
              "    <tr>\n",
              "      <th>0</th>\n",
              "      <td>0.383</td>\n",
              "    </tr>\n",
              "    <tr>\n",
              "      <th>1</th>\n",
              "      <td>0.949</td>\n",
              "    </tr>\n",
              "    <tr>\n",
              "      <th>2</th>\n",
              "      <td>1.000</td>\n",
              "    </tr>\n",
              "    <tr>\n",
              "      <th>3</th>\n",
              "      <td>0.532</td>\n",
              "    </tr>\n",
              "    <tr>\n",
              "      <th>4</th>\n",
              "      <td>11.210</td>\n",
              "    </tr>\n",
              "    <tr>\n",
              "      <th>5</th>\n",
              "      <td>9.450</td>\n",
              "    </tr>\n",
              "    <tr>\n",
              "      <th>6</th>\n",
              "      <td>4.010</td>\n",
              "    </tr>\n",
              "    <tr>\n",
              "      <th>7</th>\n",
              "      <td>3.880</td>\n",
              "    </tr>\n",
              "  </tbody>\n",
              "</table>\n",
              "</div><br><label><b>dtype:</b> float64</label>"
            ]
          },
          "metadata": {},
          "execution_count": 8
        }
      ]
    },
    {
      "cell_type": "markdown",
      "source": [
        "### 1.2.2 Adding New Columns based on Existing Columns\n",
        "\n",
        "Columns are essentially NumPy arrays with extra information.\n",
        "As a result, we can do mathematical operations on columns just like we do with arrays.\n",
        "We can leverage this to create new columns.\n",
        "For example, we want to create a new column with the density of each planet. Density is the ratio of the mass of an object over its volume, and we can calculate the densities by using the formula $d = m / v$.  Our DataFrame contains planetary mass in Earth masses and radius data in Earth radius. As a result, we'll convert the masses and radii to SI units, calculate the densities using those values, and add a column named Density to the DataFrame `df`.\n",
        "```\n",
        "m_e = 5.9722e24 # kg\n",
        "r_e = 6.371e6 # m, using the average radius\n",
        "df['Density'] = m_e*df['Mass']/((4/3)*np.pi*(r_e*df['Radius'])**3)\n",
        "```\n",
        "\n",
        "What do you notice about the densities of the outer planets versus the inner planets? Compare these densities to the densities of various materials in this [wikipedia page](https://en.wikipedia.org/wiki/Density#Densities). Which materials are these densities most similar to?\n",
        "\n",
        "What you should find is that the inner planets are rocky, so their densities are more comparable to metals, while the gas giants have densities that are closer to that of water."
      ],
      "metadata": {
        "id": "OnyUwre6sRp2"
      }
    },
    {
      "cell_type": "code",
      "source": [
        "m_e = 5.9722e24 # kg\n",
        "r_e = 6.371e6 # m, using the average radius\n",
        "df['Density'] = m_e*df['Mass']/((4/3)*np.pi*(r_e*df['Radius'])**3)\n",
        "df['Density']"
      ],
      "metadata": {
        "id": "hhQvBYew5Y2g",
        "outputId": "b7c5d3f6-9ac6-450b-e0e8-4da0363422c3",
        "colab": {
          "base_uri": "https://localhost:8080/",
          "height": 335
        }
      },
      "execution_count": 10,
      "outputs": [
        {
          "output_type": "execute_result",
          "data": {
            "text/plain": [
              "0    5426.898863\n",
              "1    5257.531581\n",
              "2    5513.443376\n",
              "3    3918.066469\n",
              "4    1243.826982\n",
              "5     621.962845\n",
              "6    1239.817617\n",
              "7    1614.075525\n",
              "Name: Density, dtype: float64"
            ],
            "text/html": [
              "<div>\n",
              "<style scoped>\n",
              "    .dataframe tbody tr th:only-of-type {\n",
              "        vertical-align: middle;\n",
              "    }\n",
              "\n",
              "    .dataframe tbody tr th {\n",
              "        vertical-align: top;\n",
              "    }\n",
              "\n",
              "    .dataframe thead th {\n",
              "        text-align: right;\n",
              "    }\n",
              "</style>\n",
              "<table border=\"1\" class=\"dataframe\">\n",
              "  <thead>\n",
              "    <tr style=\"text-align: right;\">\n",
              "      <th></th>\n",
              "      <th>Density</th>\n",
              "    </tr>\n",
              "  </thead>\n",
              "  <tbody>\n",
              "    <tr>\n",
              "      <th>0</th>\n",
              "      <td>5426.898863</td>\n",
              "    </tr>\n",
              "    <tr>\n",
              "      <th>1</th>\n",
              "      <td>5257.531581</td>\n",
              "    </tr>\n",
              "    <tr>\n",
              "      <th>2</th>\n",
              "      <td>5513.443376</td>\n",
              "    </tr>\n",
              "    <tr>\n",
              "      <th>3</th>\n",
              "      <td>3918.066469</td>\n",
              "    </tr>\n",
              "    <tr>\n",
              "      <th>4</th>\n",
              "      <td>1243.826982</td>\n",
              "    </tr>\n",
              "    <tr>\n",
              "      <th>5</th>\n",
              "      <td>621.962845</td>\n",
              "    </tr>\n",
              "    <tr>\n",
              "      <th>6</th>\n",
              "      <td>1239.817617</td>\n",
              "    </tr>\n",
              "    <tr>\n",
              "      <th>7</th>\n",
              "      <td>1614.075525</td>\n",
              "    </tr>\n",
              "  </tbody>\n",
              "</table>\n",
              "</div><br><label><b>dtype:</b> float64</label>"
            ]
          },
          "metadata": {},
          "execution_count": 10
        }
      ]
    },
    {
      "cell_type": "markdown",
      "source": [
        "### 1.2.3 Practice Problem 1: Kepler's Law\n",
        "\n",
        "Using Kepler's Third Law, make another column that corresponds to the orbital period for each planet **in years.** Once again, Keplers Third Law is\n",
        "\n",
        "$$T = 2\\pi \\sqrt{\\frac{a^3}{G(M_1 + M_2)}}$$\n",
        "\n",
        "For the case of solar system planets, you may make the approximation that $M_1 + M_2 \\approx M_\\odot$.\n",
        "\n",
        "You can calculate by hand how many seconds are in a year, but note a year technically has 365.25 days.\n",
        "\n",
        "Use the Astronomical Quantities notebook for the other quantities you need."
      ],
      "metadata": {
        "id": "KTndNlqg0b1r"
      }
    },
    {
      "cell_type": "code",
      "source": [
        "df['Period'] = 2*np.pi*np.sqrt(df['Distance']**3/((4/3)*np.pi*(r_e*df['Radius'])**3))\n",
        "df['Period']"
      ],
      "metadata": {
        "id": "bMpWTjUhDBzl",
        "outputId": "6cf9bf42-6241-4b94-c444-e11b9b5c44ed",
        "colab": {
          "base_uri": "https://localhost:8080/",
          "height": 335
        }
      },
      "execution_count": 11,
      "outputs": [
        {
          "output_type": "execute_result",
          "data": {
            "text/plain": [
              "0    2.037586e-10\n",
              "1    1.209405e-10\n",
              "2    1.909080e-10\n",
              "3    9.038442e-10\n",
              "4    6.031436e-11\n",
              "5    1.924252e-10\n",
              "6    2.000136e-09\n",
              "7    4.125022e-09\n",
              "Name: Period, dtype: float64"
            ],
            "text/html": [
              "<div>\n",
              "<style scoped>\n",
              "    .dataframe tbody tr th:only-of-type {\n",
              "        vertical-align: middle;\n",
              "    }\n",
              "\n",
              "    .dataframe tbody tr th {\n",
              "        vertical-align: top;\n",
              "    }\n",
              "\n",
              "    .dataframe thead th {\n",
              "        text-align: right;\n",
              "    }\n",
              "</style>\n",
              "<table border=\"1\" class=\"dataframe\">\n",
              "  <thead>\n",
              "    <tr style=\"text-align: right;\">\n",
              "      <th></th>\n",
              "      <th>Period</th>\n",
              "    </tr>\n",
              "  </thead>\n",
              "  <tbody>\n",
              "    <tr>\n",
              "      <th>0</th>\n",
              "      <td>2.037586e-10</td>\n",
              "    </tr>\n",
              "    <tr>\n",
              "      <th>1</th>\n",
              "      <td>1.209405e-10</td>\n",
              "    </tr>\n",
              "    <tr>\n",
              "      <th>2</th>\n",
              "      <td>1.909080e-10</td>\n",
              "    </tr>\n",
              "    <tr>\n",
              "      <th>3</th>\n",
              "      <td>9.038442e-10</td>\n",
              "    </tr>\n",
              "    <tr>\n",
              "      <th>4</th>\n",
              "      <td>6.031436e-11</td>\n",
              "    </tr>\n",
              "    <tr>\n",
              "      <th>5</th>\n",
              "      <td>1.924252e-10</td>\n",
              "    </tr>\n",
              "    <tr>\n",
              "      <th>6</th>\n",
              "      <td>2.000136e-09</td>\n",
              "    </tr>\n",
              "    <tr>\n",
              "      <th>7</th>\n",
              "      <td>4.125022e-09</td>\n",
              "    </tr>\n",
              "  </tbody>\n",
              "</table>\n",
              "</div><br><label><b>dtype:</b> float64</label>"
            ]
          },
          "metadata": {},
          "execution_count": 11
        }
      ]
    },
    {
      "cell_type": "markdown",
      "source": [
        "### 1.2.4 Practice Problem 2: Equilibrium Temperature\n",
        "\n",
        "The [equilibrium temperature](https://en.wikipedia.org/wiki/Planetary_equilibrium_temperature) of a planet is defined as the temperature at which the power supplied by its star (due to solar radiation) is equal to the power emitted by the planet (due to blackbody radiation). The formula (in units of Kelvin) is as follows:\n",
        "\n",
        "$$ T_{\\rm eq} =  \\left( \\frac{L (1 - A_B)}{16\\sigma\\pi a^2} \\right)^{1/4}$$\n",
        "\n",
        "For the solar system, we would use $L_\\odot$, a is the distance between the planet and the Sun, $\\sigma$ is the Stefan-Boltzmann constant, and $A_B$ is the [Bond Albedo](https://en.wikipedia.org/wiki/Bond_albedo).\n",
        "\n",
        "Your task:\n",
        "1. Create a new column for the Bond albedo of each planet, taking the data from the linked wikipedia article\n",
        "2. Create a new column for the equilibrium temperature using the formula above.\n",
        "3. Create a new column for the effective/surface temperature of each planet using the values listed below.\n",
        "4. Create a scatter plot of the predicted equilibrium temperature versus the actual surface temperature. Show the 1-to-1 line using a dotted line for comparison. After reading the first linked wikipedia article, can you think of at least one reason why they may be different? (Hint: you've definitely learned about one of them in other science classes or the news)\n",
        "\n",
        "```\n",
        "Teff = [412.5, 737, 288, 215, 124.4, 95, 59.1, 59.3]\n",
        "```\n",
        "These values were taken from de Pater and Lissauer (2010).\n",
        "\n"
      ],
      "metadata": {
        "id": "N-weF6RUDCqV"
      }
    },
    {
      "cell_type": "code",
      "source": [
        "df['Bond Albedo'] = [0.088,0.76, 0.306, 0.25, 0.503, 0.342, 0.3, 0.29]\n",
        "df['T_eq'] = ((1-df['Bond Albedo'])/(16*np.pi*5.67e-8*df['Distance']**2))**(1/4)\n",
        "df['Teff'] = [412.5, 737, 288, 215, 124.4, 95, 59.1, 59.3]\n",
        "plt.scatter(df['Teff'],df['T_eq'])\n",
        "plt.plot([0,500],[0,500],linestyle=':')\n",
        "plt.xlabel('Effective Temperature (K)')\n",
        "plt.ylabel('Equilibrium Temperature (K)')\n",
        "plt.title('Equilibrium Temperature vs Effective Temperature')\n",
        "\n",
        "# The two are different because the albedo of each planet affects the amount of incident light on the planets surface, which makes the expected surface temperature very different from the expected surface temperature.\n",
        "#The expcted surface temperature is calculated assuming all light form the sun reaches the surface."
      ],
      "metadata": {
        "id": "quCOQWQmI_HI",
        "outputId": "700ccd89-faf2-44a4-8d56-c702d30fbe42",
        "colab": {
          "base_uri": "https://localhost:8080/",
          "height": 489
        }
      },
      "execution_count": 16,
      "outputs": [
        {
          "output_type": "execute_result",
          "data": {
            "text/plain": [
              "Text(0.5, 1.0, 'Equilibrium Temperature vs Effective Temperature')"
            ]
          },
          "metadata": {},
          "execution_count": 16
        },
        {
          "output_type": "display_data",
          "data": {
            "text/plain": [
              "<Figure size 640x480 with 1 Axes>"
            ],
            "image/png": "[encoded data removed]"
          },
          "metadata": {}
        }
      ]
    },
    {
      "cell_type": "markdown",
      "source": [
        "## 1.3 Intermediate Pandas\n",
        "\n",
        "### 1.3.1 Boolean Indexing with DataFrames\n",
        "\n",
        "When using data, we are often only interested in a subset based on certain conditions. In pandas, we can filter DataFrames using a similar method that we used for NumPy. The key difference is that we will use the column names instead of their indices. For example, suppose we are only interested in planets that have moons.\n",
        "\n",
        "```\n",
        "df[df['N_moons'] > 0]\n",
        "```\n",
        "\n",
        "As before, we can chain multiple conditionals together. For example, let's get  the planets that have moons **and** that are further than 5 au from the Sun.\n",
        "\n",
        "```\n",
        "df[(df['N_moons'] > 0) & (df['Distance'] > 5)]\n",
        "```\n",
        "\n",
        "As a reminder, here is a list of the logical operators you can use:\n",
        "\n",
        "```\n",
        "== # equal to\n",
        "!= # not equal to\n",
        "<= # less than or equal to\n",
        "<  # less than\n",
        ">= # greater than or equal to\n",
        ">  # greater than\n",
        "\n",
        "& # logical and\n",
        "| # logical or\n",
        "~ # logical not\n",
        "```\n"
      ],
      "metadata": {
        "id": "-yQ-Rr3-I_cX"
      }
    },
    {
      "cell_type": "code",
      "source": [
        "df[(df['N_moons'] > 0) & (df['Distance'] > 5)]"
      ],
      "metadata": {
        "id": "-gFDgRL4UEAD",
        "outputId": "1c89a32d-830e-40d3-b75f-ebf4da1cb09a",
        "colab": {
          "base_uri": "https://localhost:8080/",
          "height": 174
        }
      },
      "execution_count": 17,
      "outputs": [
        {
          "output_type": "execute_result",
          "data": {
            "text/plain": [
              "      Name   Mass  Distance  N_moons  Radius      Density        Period  \\\n",
              "4  Jupiter  317.8       5.2       95   11.21  1243.826982  6.031436e-11   \n",
              "5   Saturn   95.2       9.5      146    9.45   621.962845  1.924252e-10   \n",
              "6   Uranus   14.5      19.2       28    4.01  1239.817617  2.000136e-09   \n",
              "7  Neptune   17.1      30.1       16    3.88  1614.075525  4.125022e-09   \n",
              "\n",
              "   Bond Albedo      T_eq   Teff  \n",
              "4        0.503  8.961366  124.4  \n",
              "5        0.342  7.111831   95.0  \n",
              "6        0.300  5.080549   59.1  \n",
              "7        0.290  4.072097   59.3  "
            ],
            "text/html": [
              "\n",
              "  <div id=\"df-523f4d5d-322d-436f-8dea-d1afc82c9ade\" class=\"colab-df-container\">\n",
              "    <div>\n",
              "<style scoped>\n",
              "    .dataframe tbody tr th:only-of-type {\n",
              "        vertical-align: middle;\n",
              "    }\n",
              "\n",
              "    .dataframe tbody tr th {\n",
              "        vertical-align: top;\n",
              "    }\n",
              "\n",
              "    .dataframe thead th {\n",
              "        text-align: right;\n",
              "    }\n",
              "</style>\n",
              "<table border=\"1\" class=\"dataframe\">\n",
              "  <thead>\n",
              "    <tr style=\"text-align: right;\">\n",
              "      <th></th>\n",
              "      <th>Name</th>\n",
              "      <th>Mass</th>\n",
              "      <th>Distance</th>\n",
              "      <th>N_moons</th>\n",
              "      <th>Radius</th>\n",
              "      <th>Density</th>\n",
              "      <th>Period</th>\n",
              "      <th>Bond Albedo</th>\n",
              "      <th>T_eq</th>\n",
              "      <th>Teff</th>\n",
              "    </tr>\n",
              "  </thead>\n",
              "  <tbody>\n",
              "    <tr>\n",
              "      <th>4</th>\n",
              "      <td>Jupiter</td>\n",
              "      <td>317.8</td>\n",
              "      <td>5.2</td>\n",
              "      <td>95</td>\n",
              "      <td>11.21</td>\n",
              "      <td>1243.826982</td>\n",
              "      <td>6.031436e-11</td>\n",
              "      <td>0.503</td>\n",
              "      <td>8.961366</td>\n",
              "      <td>124.4</td>\n",
              "    </tr>\n",
              "    <tr>\n",
              "      <th>5</th>\n",
              "      <td>Saturn</td>\n",
              "      <td>95.2</td>\n",
              "      <td>9.5</td>\n",
              "      <td>146</td>\n",
              "      <td>9.45</td>\n",
              "      <td>621.962845</td>\n",
              "      <td>1.924252e-10</td>\n",
              "      <td>0.342</td>\n",
              "      <td>7.111831</td>\n",
              "      <td>95.0</td>\n",
              "    </tr>\n",
              "    <tr>\n",
              "      <th>6</th>\n",
              "      <td>Uranus</td>\n",
              "      <td>14.5</td>\n",
              "      <td>19.2</td>\n",
              "      <td>28</td>\n",
              "      <td>4.01</td>\n",
              "      <td>1239.817617</td>\n",
              "      <td>2.000136e-09</td>\n",
              "      <td>0.300</td>\n",
              "      <td>5.080549</td>\n",
              "      <td>59.1</td>\n",
              "    </tr>\n",
              "    <tr>\n",
              "      <th>7</th>\n",
              "      <td>Neptune</td>\n",
              "      <td>17.1</td>\n",
              "      <td>30.1</td>\n",
              "      <td>16</td>\n",
              "      <td>3.88</td>\n",
              "      <td>1614.075525</td>\n",
              "      <td>4.125022e-09</td>\n",
              "      <td>0.290</td>\n",
              "      <td>4.072097</td>\n",
              "      <td>59.3</td>\n",
              "    </tr>\n",
              "  </tbody>\n",
              "</table>\n",
              "</div>\n",
              "    <div class=\"colab-df-buttons\">\n",
              "\n",
              "  <div class=\"colab-df-container\">\n",
              "    <button class=\"colab-df-convert\" onclick=\"convertToInteractive('df-523f4d5d-322d-436f-8dea-d1afc82c9ade')\"\n",
              "            title=\"Convert this dataframe to an interactive table.\"\n",
              "            style=\"display:none;\">\n",
              "\n",
              "  <svg xmlns=\"http://www.w3.org/2000/svg\" height=\"24px\" viewBox=\"0 -960 960 960\">\n",
              "    <path d=\"M120-120v-720h720v720H120Zm60-500h600v-160H180v160Zm220 220h160v-160H400v160Zm0 220h160v-160H400v160ZM180-400h160v-160H180v160Zm440 0h160v-160H620v160ZM180-180h160v-160H180v160Zm440 0h160v-160H620v160Z\"/>\n",
              "  </svg>\n",
              "    </button>\n",
              "\n",
              "  <style>\n",
              "    .colab-df-container {\n",
              "      display:flex;\n",
              "      gap: 12px;\n",
              "    }\n",
              "\n",
              "    .colab-df-convert {\n",
              "      background-color: #E8F0FE;\n",
              "      border: none;\n",
              "      border-radius: 50%;\n",
              "      cursor: pointer;\n",
              "      display: none;\n",
              "      fill: #1967D2;\n",
              "      height: 32px;\n",
              "      padding: 0 0 0 0;\n",
              "      width: 32px;\n",
              "    }\n",
              "\n",
              "    .colab-df-convert:hover {\n",
              "      background-color: #E2EBFA;\n",
              "      box-shadow: 0px 1px 2px rgba(60, 64, 67, 0.3), 0px 1px 3px 1px rgba(60, 64, 67, 0.15);\n",
              "      fill: #174EA6;\n",
              "    }\n",
              "\n",
              "    .colab-df-buttons div {\n",
              "      margin-bottom: 4px;\n",
              "    }\n",
              "\n",
              "    [theme=dark] .colab-df-convert {\n",
              "      background-color: #3B4455;\n",
              "      fill: #D2E3FC;\n",
              "    }\n",
              "\n",
              "    [theme=dark] .colab-df-convert:hover {\n",
              "      background-color: #434B5C;\n",
              "      box-shadow: 0px 1px 3px 1px rgba(0, 0, 0, 0.15);\n",
              "      filter: drop-shadow(0px 1px 2px rgba(0, 0, 0, 0.3));\n",
              "      fill: #FFFFFF;\n",
              "    }\n",
              "  </style>\n",
              "\n",
              "    <script>\n",
              "      const buttonEl =\n",
              "        document.querySelector('#df-523f4d5d-322d-436f-8dea-d1afc82c9ade button.colab-df-convert');\n",
              "      buttonEl.style.display =\n",
              "        google.colab.kernel.accessAllowed ? 'block' : 'none';\n",
              "\n",
              "      async function convertToInteractive(key) {\n",
              "        const element = document.querySelector('#df-523f4d5d-322d-436f-8dea-d1afc82c9ade');\n",
              "        const dataTable =\n",
              "          await google.colab.kernel.invokeFunction('convertToInteractive',\n",
              "                                                    [key], {});\n",
              "        if (!dataTable) return;\n",
              "\n",
              "        const docLinkHtml = 'Like what you see? Visit the ' +\n",
              "          '<a target=\"_blank\" href=https://colab.research.google.com/notebooks/data_table.ipynb>data table notebook</a>'\n",
              "          + ' to learn more about interactive tables.';\n",
              "        element.innerHTML = '';\n",
              "        dataTable['output_type'] = 'display_data';\n",
              "        await google.colab.output.renderOutput(dataTable, element);\n",
              "        const docLink = document.createElement('div');\n",
              "        docLink.innerHTML = docLinkHtml;\n",
              "        element.appendChild(docLink);\n",
              "      }\n",
              "    </script>\n",
              "  </div>\n",
              "\n",
              "\n",
              "    <div id=\"df-08241b39-8da1-4313-9e99-37d65fd48648\">\n",
              "      <button class=\"colab-df-quickchart\" onclick=\"quickchart('df-08241b39-8da1-4313-9e99-37d65fd48648')\"\n",
              "                title=\"Suggest charts\"\n",
              "                style=\"display:none;\">\n",
              "\n",
              "<svg xmlns=\"http://www.w3.org/2000/svg\" height=\"24px\"viewBox=\"0 0 24 24\"\n",
              "     width=\"24px\">\n",
              "    <g>\n",
              "        <path d=\"M19 3H5c-1.1 0-2 .9-2 2v14c0 1.1.9 2 2 2h14c1.1 0 2-.9 2-2V5c0-1.1-.9-2-2-2zM9 17H7v-7h2v7zm4 0h-2V7h2v10zm4 0h-2v-4h2v4z\"/>\n",
              "    </g>\n",
              "</svg>\n",
              "      </button>\n",
              "\n",
              "<style>\n",
              "  .colab-df-quickchart {\n",
              "      --bg-color: #E8F0FE;\n",
              "      --fill-color: #1967D2;\n",
              "      --hover-bg-color: #E2EBFA;\n",
              "      --hover-fill-color: #174EA6;\n",
              "      --disabled-fill-color: #AAA;\n",
              "      --disabled-bg-color: #DDD;\n",
              "  }\n",
              "\n",
              "  [theme=dark] .colab-df-quickchart {\n",
              "      --bg-color: #3B4455;\n",
              "      --fill-color: #D2E3FC;\n",
              "      --hover-bg-color: #434B5C;\n",
              "      --hover-fill-color: #FFFFFF;\n",
              "      --disabled-bg-color: #3B4455;\n",
              "      --disabled-fill-color: #666;\n",
              "  }\n",
              "\n",
              "  .colab-df-quickchart {\n",
              "    background-color: var(--bg-color);\n",
              "    border: none;\n",
              "    border-radius: 50%;\n",
              "    cursor: pointer;\n",
              "    display: none;\n",
              "    fill: var(--fill-color);\n",
              "    height: 32px;\n",
              "    padding: 0;\n",
              "    width: 32px;\n",
              "  }\n",
              "\n",
              "  .colab-df-quickchart:hover {\n",
              "    background-color: var(--hover-bg-color);\n",
              "    box-shadow: 0 1px 2px rgba(60, 64, 67, 0.3), 0 1px 3px 1px rgba(60, 64, 67, 0.15);\n",
              "    fill: var(--button-hover-fill-color);\n",
              "  }\n",
              "\n",
              "  .colab-df-quickchart-complete:disabled,\n",
              "  .colab-df-quickchart-complete:disabled:hover {\n",
              "    background-color: var(--disabled-bg-color);\n",
              "    fill: var(--disabled-fill-color);\n",
              "    box-shadow: none;\n",
              "  }\n",
              "\n",
              "  .colab-df-spinner {\n",
              "    border: 2px solid var(--fill-color);\n",
              "    border-color: transparent;\n",
              "    border-bottom-color: var(--fill-color);\n",
              "    animation:\n",
              "      spin 1s steps(1) infinite;\n",
              "  }\n",
              "\n",
              "  @keyframes spin {\n",
              "    0% {\n",
              "      border-color: transparent;\n",
              "      border-bottom-color: var(--fill-color);\n",
              "      border-left-color: var(--fill-color);\n",
              "    }\n",
              "    20% {\n",
              "      border-color: transparent;\n",
              "      border-left-color: var(--fill-color);\n",
              "      border-top-color: var(--fill-color);\n",
              "    }\n",
              "    30% {\n",
              "      border-color: transparent;\n",
              "      border-left-color: var(--fill-color);\n",
              "      border-top-color: var(--fill-color);\n",
              "      border-right-color: var(--fill-color);\n",
              "    }\n",
              "    40% {\n",
              "      border-color: transparent;\n",
              "      border-right-color: var(--fill-color);\n",
              "      border-top-color: var(--fill-color);\n",
              "    }\n",
              "    60% {\n",
              "      border-color: transparent;\n",
              "      border-right-color: var(--fill-color);\n",
              "    }\n",
              "    80% {\n",
              "      border-color: transparent;\n",
              "      border-right-color: var(--fill-color);\n",
              "      border-bottom-color: var(--fill-color);\n",
              "    }\n",
              "    90% {\n",
              "      border-color: transparent;\n",
              "      border-bottom-color: var(--fill-color);\n",
              "    }\n",
              "  }\n",
              "</style>\n",
              "\n",
              "      <script>\n",
              "        async function quickchart(key) {\n",
              "          const quickchartButtonEl =\n",
              "            document.querySelector('#' + key + ' button');\n",
              "          quickchartButtonEl.disabled = true;  // To prevent multiple clicks.\n",
              "          quickchartButtonEl.classList.add('colab-df-spinner');\n",
              "          try {\n",
              "            const charts = await google.colab.kernel.invokeFunction(\n",
              "                'suggestCharts', [key], {});\n",
              "          } catch (error) {\n",
              "            console.error('Error during call to suggestCharts:', error);\n",
              "          }\n",
              "          quickchartButtonEl.classList.remove('colab-df-spinner');\n",
              "          quickchartButtonEl.classList.add('colab-df-quickchart-complete');\n",
              "        }\n",
              "        (() => {\n",
              "          let quickchartButtonEl =\n",
              "            document.querySelector('#df-08241b39-8da1-4313-9e99-37d65fd48648 button');\n",
              "          quickchartButtonEl.style.display =\n",
              "            google.colab.kernel.accessAllowed ? 'block' : 'none';\n",
              "        })();\n",
              "      </script>\n",
              "    </div>\n",
              "\n",
              "    </div>\n",
              "  </div>\n"
            ],
            "application/vnd.google.colaboratory.intrinsic+json": {
              "type": "dataframe",
              "summary": "{\n  \"name\": \"df[(df['N_moons'] > 0) & (df['Distance'] > 5)]\",\n  \"rows\": 4,\n  \"fields\": [\n    {\n      \"column\": \"Name\",\n      \"properties\": {\n        \"dtype\": \"string\",\n        \"num_unique_values\": 4,\n        \"samples\": [\n          \"Saturn\",\n          \"Neptune\",\n          \"Jupiter\"\n        ],\n        \"semantic_type\": \"\",\n        \"description\": \"\"\n      }\n    },\n    {\n      \"column\": \"Mass\",\n      \"properties\": {\n        \"dtype\": \"number\",\n        \"std\": 142.7646664970013,\n        \"min\": 14.5,\n        \"max\": 317.8,\n        \"num_unique_values\": 4,\n        \"samples\": [\n          95.2,\n          17.1,\n          317.8\n        ],\n        \"semantic_type\": \"\",\n        \"description\": \"\"\n      }\n    },\n    {\n      \"column\": \"Distance\",\n      \"properties\": {\n        \"dtype\": \"number\",\n        \"std\": 11.074595553186883,\n        \"min\": 5.2,\n        \"max\": 30.1,\n        \"num_unique_values\": 4,\n        \"samples\": [\n          9.5,\n          30.1,\n          5.2\n        ],\n        \"semantic_type\": \"\",\n        \"description\": \"\"\n      }\n    },\n    {\n      \"column\": \"N_moons\",\n      \"properties\": {\n        \"dtype\": \"number\",\n        \"std\": 60,\n        \"min\": 16,\n        \"max\": 146,\n        \"num_unique_values\": 4,\n        \"samples\": [\n          146,\n          16,\n          95\n        ],\n        \"semantic_type\": \"\",\n        \"description\": \"\"\n      }\n    },\n    {\n      \"column\": \"Radius\",\n      \"properties\": {\n        \"dtype\": \"number\",\n        \"std\": 3.756127216517921,\n        \"min\": 3.88,\n        \"max\": 11.21,\n        \"num_unique_values\": 4,\n        \"samples\": [\n          9.45,\n          3.88,\n          11.21\n        ],\n        \"semantic_type\": \"\",\n        \"description\": \"\"\n      }\n    },\n    {\n      \"column\": \"Density\",\n      \"properties\": {\n        \"dtype\": \"number\",\n        \"std\": 411.29025995092144,\n        \"min\": 621.9628450289223,\n        \"max\": 1614.0755252939296,\n        \"num_unique_values\": 4,\n        \"samples\": [\n          621.9628450289223,\n          1614.0755252939296,\n          1243.826982263802\n        ],\n        \"semantic_type\": \"\",\n        \"description\": \"\"\n      }\n    },\n    {\n      \"column\": \"Period\",\n      \"properties\": {\n        \"dtype\": \"number\",\n        \"std\": 1.905047967691068e-09,\n        \"min\": 6.031436399838477e-11,\n        \"max\": 4.125022398604792e-09,\n        \"num_unique_values\": 4,\n        \"samples\": [\n          1.9242515774435503e-10,\n          4.125022398604792e-09,\n          6.031436399838477e-11\n        ],\n        \"semantic_type\": \"\",\n        \"description\": \"\"\n      }\n    },\n    {\n      \"column\": \"Bond Albedo\",\n      \"properties\": {\n        \"dtype\": \"number\",\n        \"std\": 0.09877035655161591,\n        \"min\": 0.29,\n        \"max\": 0.503,\n        \"num_unique_values\": 4,\n        \"samples\": [\n          0.342,\n          0.29,\n          0.503\n        ],\n        \"semantic_type\": \"\",\n        \"description\": \"\"\n      }\n    },\n    {\n      \"column\": \"T_eq\",\n      \"properties\": {\n        \"dtype\": \"number\",\n        \"std\": 2.1750388493756296,\n        \"min\": 4.072096964304797,\n        \"max\": 8.961365621758384,\n        \"num_unique_values\": 4,\n        \"samples\": [\n          7.111831234966575,\n          4.072096964304797,\n          8.961365621758384\n        ],\n        \"semantic_type\": \"\",\n        \"description\": \"\"\n      }\n    },\n    {\n      \"column\": \"Teff\",\n      \"properties\": {\n        \"dtype\": \"number\",\n        \"std\": 31.53014430667897,\n        \"min\": 59.1,\n        \"max\": 124.4,\n        \"num_unique_values\": 4,\n        \"samples\": [\n          95.0,\n          59.3,\n          124.4\n        ],\n        \"semantic_type\": \"\",\n        \"description\": \"\"\n      }\n    }\n  ]\n}"
            }
          },
          "metadata": {},
          "execution_count": 17
        }
      ]
    },
    {
      "cell_type": "markdown",
      "source": [
        "### 1.3.2 df.iterrows()\n",
        "\n",
        "Most times, iterating through the rows of a pandas DataFrame is not the best way to approach your problems. Most problems are best accomplished by using the columns of a DataFrame in your calculation similar to how we previously used NumPy.\n",
        "\n",
        "If you find it necessary to iterate over the rows of a DataFrame, we can use the function `df.iterrows()` which will iterate over all the rows in the DataFrame. In the following example\n",
        "```\n",
        "for i, row in df.iterrows():\n",
        "    print(row['Name'],'has',row['N_moons'],'moons.')\n",
        "```\n",
        "In this example, `df.iterrows()` returns an index, series pair for each row in the dataframe. Since each row is returned as a Pandas Series, we can use the original column names to access the columns.\n",
        "\n",
        "Note for reference we could have performed this example in a completely vectorized way:\n",
        "```\n",
        "str_ser = df['Name']+' has '+ df['N_moons'].astype(str) + ' moons.'\n",
        "print('\\n'.join(str_ser))\n",
        "```\n",
        "In the above example, I make a new Series by adding the different strings together. Notice the use of the `Series.astype(str)` function to turn the integers into strings. Then, I use the join function to turn the Series of strings into one long string, where the original strings are separated by a return character. Thus, we have reproduced the output of the previous for loop."
      ],
      "metadata": {
        "id": "5KomXNChLeix"
      }
    },
    {
      "cell_type": "code",
      "source": [
        "str_ser = df['Name']+' has '+ df['N_moons'].astype(str) + ' moons.'\n",
        "print('\\n'.join(str_ser))"
      ],
      "metadata": {
        "id": "MKA8rBnHZOzZ",
        "outputId": "389c2323-6e37-4100-bb2b-ba69128b77e4",
        "colab": {
          "base_uri": "https://localhost:8080/"
        }
      },
      "execution_count": 18,
      "outputs": [
        {
          "output_type": "stream",
          "name": "stdout",
          "text": [
            "Mercury has 0 moons.\n",
            "Venus has 0 moons.\n",
            "Earth has 1 moons.\n",
            "Mars has 2 moons.\n",
            "Jupiter has 95 moons.\n",
            "Saturn has 146 moons.\n",
            "Uranus has 28 moons.\n",
            "Neptune has 16 moons.\n"
          ]
        }
      ]
    },
    {
      "cell_type": "markdown",
      "source": [
        "### 1.3.3 Using Other People's Data\n",
        "\n",
        "You will likely never create your own DataFrame from scratch, instead almost all data you analyze will either be data you get from somewhere else.\n",
        "\n",
        "A common format for data is called a CSV file for comma separated values. In a CSV file, each row contains the same amount of numbers, each separated by a comma. It's possible to use other \"separators\" as well. A commonly used one is whitespace, where some number of whitespaces (whether tabs or spaces) are used to separate different values in a row.\n",
        "\n",
        "One of the main ways to read such files in Pandas is to use `pd.read_csv()`.\n",
        "\n",
        "```\n",
        "filename = 'path/to/file'\n",
        "df = pd.read_csv(filename,...)\n",
        "```\n",
        "There are multiple optional parameters worth mentioning.\n",
        "\n",
        "*   `sep`/`delimiter`: The separator to use. Defaults to `sep=','`. Another useful one is whitespace, which would be `sep='\\s+'`.\n",
        "*   `header`: Often, files will include a first row with a list of names. In this is the case, `header=0` will adopt those column names.\n",
        "*   `names`: If your file doesn't contain a header (or you don't like the names provided), you can supply your own list of names. If you pass a header in the option above, this parameter will be overwritten, so remember to use either `header` or `names`.\n",
        "*   `usecols`: If you don't want to read all the columns of a file (e.g. because of memory constraints) then you can pass a subset of columns to use. For example, if you wanted the first two and the fifth column only, then you'd use `usecols=[0,1,4]`.\n",
        "*   `comment`: It's common for files to be prepended with some number of lines telling you what the file contains and additional details. These lines will begin with some character or combination of characters so that when the computer reads them it's easy to tell which lines to ignore. One common choice is `comment='#'`.\n",
        "\n",
        "Another important thing to keep in mind: the real world is typically much messier than we would prefer. As a result, we don't always have all the information we want. So, it's common for real data to have a lot of missing values. `read_csv()` will take care of this by filling in the missing values with `np.nan`. Consider these two rows from the data you'll use in the practice problem:\n",
        "```\n",
        "324,EPIC 201427007 b,EPIC 201427007,1,1,1,Transit,2021,0.72091000,,1.500,0.134,,,,,,0,5633.00,0.94,,706.3910000\n",
        "325,EPIC 201497682 b,EPIC 201497682,1,1,1,Transit,2019,2.13174000,,0.692,0.062,,,,,,0,,,0.78,253.0260000\n",
        "```\n",
        "Ignoring what these mean for now, notice that in the middle of both rows, there are a lot of commas in a row. These correspond to five columns where either the data doesn't exist. Also, the second row is shorter because it's missing two more values than the first row. When values are missing, they will be filled in with `np.nan`.\n",
        "\n",
        "### 1.3.4 Practice Problem 3: Binaries\n",
        "\n",
        "Redo the problem from the NumPy section, but this time using Pandas. This time, the file will be a csv.\n",
        "\n",
        "Also, additional tasks:\n",
        "1. Make a scatter plot of mass vs k-type\n",
        "2. Histograms of binary total mass, mass ratio (smaller mass over larger mass), and the masses of all the individual stars.\n",
        "3. Histogram of eccentricities.\n",
        "4. Scatter plot of the total mass vs the mass ratio.\n",
        "5. Anything else you may think of."
      ],
      "metadata": {
        "id": "hkAzK_u7UEOi"
      }
    },
    {
      "cell_type": "code",
      "source": [
        "# Running in Google Colab? Run this cell to download the file for this problem\n",
        "!wget https://raw.githubusercontent.com/CIERA-Northwestern/REACHpy/main/Module_3/data/binaries.csv\n",
        "\n",
        "# If you're not running in Colab, this file should be in the data directory.\n",
        "# Change the loading path of the file to include 'data/' when the file is loaded"
      ],
      "metadata": {
        "id": "pADNdPQ2PnSS",
        "outputId": "77a14976-6916-4e80-e956-75482bae48ab",
        "colab": {
          "base_uri": "https://localhost:8080/"
        }
      },
      "execution_count": 22,
      "outputs": [
        {
          "output_type": "stream",
          "name": "stdout",
          "text": [
            "--2025-06-10 06:15:59--  https://raw.githubusercontent.com/CIERA-Northwestern/REACHpy/main/Module_3/data/binaries.csv\n",
            "Resolving raw.githubusercontent.com (raw.githubusercontent.com)... 185.199.108.133, 185.199.109.133, 185.199.110.133, ...\n",
            "Connecting to raw.githubusercontent.com (raw.githubusercontent.com)|185.199.108.133|:443... connected.\n",
            "HTTP request sent, awaiting response... 200 OK\n",
            "Length: 17333 (17K) [text/plain]\n",
            "Saving to: ‘binaries.csv.1’\n",
            "\n",
            "\rbinaries.csv.1        0%[                    ]       0  --.-KB/s               \rbinaries.csv.1      100%[===================>]  16.93K  --.-KB/s    in 0.001s  \n",
            "\n",
            "2025-06-10 06:15:59 (15.2 MB/s) - ‘binaries.csv.1’ saved [17333/17333]\n",
            "\n"
          ]
        }
      ]
    },
    {
      "cell_type": "code",
      "source": [
        "filename = 'https://raw.githubusercontent.com/CIERA-Northwestern/REACHpy/main/Module_3/data/binaries.csv'\n",
        "df = pd.read_csv(filename,header = 0)\n",
        "plt.scatter(df['mass_1'],df['kstar_1'])\n",
        "plt.scatter(df['mass_2'],df['kstar_2'])\n",
        "plt.xlabel('Mass (Msun)')\n",
        "plt.ylabel('K-Type')\n",
        "plt.show()\n",
        "\n",
        "df['total_mass'] = df['mass_1'] + df['mass_2']\n",
        "df['mass_ratio'] = df['mass_1']/df['mass_2']\n",
        "\n",
        "plt.hist(df['total_mass'])\n",
        "plt.xlabel('Total Mass (Msun)')\n",
        "plt.ylabel('Number of Binaries')\n",
        "plt.show()\n",
        "\n",
        "plt.hist(df['mass_ratio'])\n",
        "plt.xlabel('Mass Ratio')\n",
        "plt.ylabel('Number of Binaries')\n",
        "plt.show()\n",
        "\n",
        "plt.hist(df['mass_1'],color = 'b')\n",
        "plt.hist(df['mass_2'],color = 'r')\n",
        "plt.xlabel('Mass (Msun)')\n",
        "plt.ylabel('Number of Binaries')\n",
        "plt.show()\n",
        "\n",
        "plt.hist(df['ecc'])\n",
        "plt.xlabel('Eccentricity')\n",
        "plt.ylabel('Number of Binaries')\n",
        "plt.show()\n",
        "\n",
        "plt.scatter(df['total_mass'],df['mass_ratio'])\n",
        "plt.xlabel('Total Mass (Msun)')\n",
        "plt.ylabel('Mass Ratio')\n",
        "plt.show()"
      ],
      "metadata": {
        "id": "TdZmdDaIPq0y",
        "outputId": "33798b85-9b46-47ae-846b-e1384e4baf9e",
        "colab": {
          "base_uri": "https://localhost:8080/",
          "height": 1000
        }
      },
      "execution_count": 35,
      "outputs": [
        {
          "output_type": "display_data",
          "data": {
            "text/plain": [
              "<Figure size 640x480 with 1 Axes>"
            ],
            "image/png": "[encoded data removed]"
          },
          "metadata": {}
        },
        {
          "output_type": "display_data",
          "data": {
            "text/plain": [
              "<Figure size 640x480 with 1 Axes>"
            ],
            "image/png": "[encoded data removed]"
          },
          "metadata": {}
        },
        {
          "output_type": "display_data",
          "data": {
            "text/plain": [
              "<Figure size 640x480 with 1 Axes>"
            ],
            "image/png": "[encoded data removed]"
          },
          "metadata": {}
        },
        {
          "output_type": "display_data",
          "data": {
            "text/plain": [
              "<Figure size 640x480 with 1 Axes>"
            ],
            "image/png": "[encoded data removed]"
          },
          "metadata": {}
        },
        {
          "output_type": "display_data",
          "data": {
            "text/plain": [
              "<Figure size 640x480 with 1 Axes>"
            ],
            "image/png": "[encoded data removed]"
          },
          "metadata": {}
        },
        {
          "output_type": "display_data",
          "data": {
            "text/plain": [
              "<Figure size 640x480 with 1 Axes>"
            ],
            "image/png": "[encoded data removed]"
          },
          "metadata": {}
        }
      ]
    },
    {
      "cell_type": "markdown",
      "source": [
        "### 1.3.5 Practice Problem 4: Potentially Hazardous Asteroids"
      ],
      "metadata": {
        "id": "4GE3XgCp4ftw"
      }
    },
    {
      "cell_type": "code",
      "source": [
        "# Running in Google Colab? Run this cell to download the file for this problem\n",
        "!wget https://raw.githubusercontent.com/CIERA-Northwestern/REACHpy/main/Module_3/data/PHA_data.csv\n",
        "\n",
        "# If you're not running in Colab, this file should be in the data directory.\n",
        "# Change the loading path of the file to include 'data/' when the file is loaded"
      ],
      "metadata": {
        "id": "rMxpsa1_LwmJ",
        "outputId": "fdee8306-487c-4d6a-80d7-ab0c54724aad",
        "colab": {
          "base_uri": "https://localhost:8080/"
        }
      },
      "execution_count": 36,
      "outputs": [
        {
          "output_type": "stream",
          "name": "stdout",
          "text": [
            "--2025-06-10 06:27:19--  https://raw.githubusercontent.com/CIERA-Northwestern/REACHpy/main/Module_3/data/PHA_data.csv\n",
            "Resolving raw.githubusercontent.com (raw.githubusercontent.com)... 185.199.108.133, 185.199.109.133, 185.199.110.133, ...\n",
            "Connecting to raw.githubusercontent.com (raw.githubusercontent.com)|185.199.108.133|:443... connected.\n",
            "HTTP request sent, awaiting response... 200 OK\n",
            "Length: 315721 (308K) [text/plain]\n",
            "Saving to: ‘PHA_data.csv’\n",
            "\n",
            "PHA_data.csv        100%[===================>] 308.32K  --.-KB/s    in 0.03s   \n",
            "\n",
            "2025-06-10 06:27:19 (10.2 MB/s) - ‘PHA_data.csv’ saved [315721/315721]\n",
            "\n"
          ]
        }
      ]
    },
    {
      "cell_type": "markdown",
      "source": [
        "In this problem, you will look at a dataset describing Potentially Hazardous Asteroids (PHAs) which are cataloged by the Minor Planets Center, hosted at the Harvard-Smithsonian Center for Astrophysics. You will find out why these are called Potentially Hazardous.\n",
        "\n",
        "The original version of this data can be found [here](https://www.minorplanetcenter.net/data). The version supplied here has been reformatted for easier reading by `pd.read_csv()`. Note that the Center updates this data frequently, so the version here, made in early 2023, may be wildly inaccurate.\n",
        "\n",
        "The first thing to do is to open the file and look at the contents. Notice that the first line of the file contains a description of the columns. Therefore, it would be a good idea to use the keyword argument `header=0`. Similarly, the first column of data is an index, so you should use the keyword argument `index_col=0`. Finally, the last column contains a bunch of dates. In order to make sure pandas parses this data correctly, we can use the keyword argument `parse_dates=['Date of last observation']`. In the cell below, put this all together and read the file using `pd.read_csv()`. Print the dataframe and inspect it to make sure nothing is out of the ordinary. Report the total number of rows."
      ],
      "metadata": {
        "id": "8QvK4-INOI2G"
      }
    },
    {
      "cell_type": "code",
      "source": [
        "filename = 'https://raw.githubusercontent.com/CIERA-Northwestern/REACHpy/main/Module_3/data/PHA_data.csv'\n",
        "df = pd.read_csv(filename,header = 0,index_col = 0,parse_dates=['Date of last observation'])\n",
        "print(df)\n",
        "print(len(df))"
      ],
      "metadata": {
        "id": "2DwWlobqUXI3",
        "outputId": "224fb54f-cf6b-4787-f08e-35b4ccccf1a5",
        "colab": {
          "base_uri": "https://localhost:8080/"
        }
      },
      "execution_count": 3,
      "outputs": [
        {
          "output_type": "stream",
          "name": "stdout",
          "text": [
            "     Designation  Abs Mag  Slope Param  Epoch  Mean anom (deg)  \\\n",
            "0          01566    16.50         0.15  K232P        352.54819   \n",
            "1          01620    15.32         0.15  K232P        224.05341   \n",
            "2          01862    16.11         0.09  K232P        281.24750   \n",
            "3          01981    15.28         0.15  K232P          9.03147   \n",
            "4          02101    18.72         0.15  K232P          0.32752   \n",
            "...          ...      ...          ...    ...              ...   \n",
            "2325       z4433    20.58         0.15  K232P        134.23024   \n",
            "2326       z4470    18.39         0.15  K232P        256.53119   \n",
            "2327       z8350    19.96         0.15  K232P        312.19876   \n",
            "2328       z9106    20.11         0.15  K232P        110.97642   \n",
            "2329       z9920    19.74         0.15  K232P        304.12567   \n",
            "\n",
            "      Argument of Perihelion (deg)  Longitude of Ascending Node (deg)  \\\n",
            "0                         31.44177                           87.95165   \n",
            "1                        276.96118                          337.17213   \n",
            "2                        286.05510                           35.56144   \n",
            "3                        267.81921                          356.85489   \n",
            "4                         43.63171                          349.47384   \n",
            "...                            ...                                ...   \n",
            "2325                     247.33996                           68.12942   \n",
            "2326                     336.90766                            0.16183   \n",
            "2327                      78.86174                          163.38127   \n",
            "2328                     294.87859                          317.20798   \n",
            "2329                     321.64470                          222.29539   \n",
            "\n",
            "      Inclination to Ecliptic (deg)  Eccentricity  \\\n",
            "0                          22.79955      0.826869   \n",
            "1                          13.33636      0.335535   \n",
            "2                           6.35319      0.559874   \n",
            "3                          39.82990      0.649989   \n",
            "4                           1.32170      0.764346   \n",
            "...                             ...           ...   \n",
            "2325                       18.21503      0.455263   \n",
            "2326                        6.72972      0.594930   \n",
            "2327                        7.92586      0.473430   \n",
            "2328                        1.19960      0.574266   \n",
            "2329                        7.46870      0.648584   \n",
            "\n",
            "      Mean daily motion (deg/day)  Semimajor Axis (AU)  Reference  \\\n",
            "0                        0.880439             1.078127  MPO719076   \n",
            "1                        0.708921             1.245673  E2023-C50   \n",
            "2                        0.552634             1.470656  E2023-C29   \n",
            "3                        0.416223             1.776582  MPO691531   \n",
            "4                        0.384249             1.873819  MPO727488   \n",
            "...                           ...                  ...        ...   \n",
            "2325                     0.535376             1.502092  MPO732367   \n",
            "2326                     0.271636             2.361263  MPO732367   \n",
            "2327                     0.508819             1.553914  E2023-BF5   \n",
            "2328                     0.463054             1.654685  MPO723643   \n",
            "2329                     0.283530             2.294756  MPO714905   \n",
            "\n",
            "      N observation  N oppositions Readable Designation  \\\n",
            "0              1330             39        (1566) Icarus   \n",
            "1              5375             40    (1620) Geographos   \n",
            "2              2204             34        (1862) Apollo   \n",
            "3              1052             25         (1981) Midas   \n",
            "4               134             11        (2101) Adonis   \n",
            "...             ...            ...                  ...   \n",
            "2325            187              6     (614433) 2009 KK   \n",
            "2326            430              5   (614470) 2009 ST19   \n",
            "2327            227              6    (618350) 2021 PS2   \n",
            "2328            477              6     (619106) 2005 SQ   \n",
            "2329            301              5   (619920) 2006 KY86   \n",
            "\n",
            "     Date of last observation  \n",
            "0                  2022-08-01  \n",
            "1                  2023-02-07  \n",
            "2                  2023-02-01  \n",
            "3                  2021-10-20  \n",
            "4                  2020-06-09  \n",
            "...                       ...  \n",
            "2325               2022-12-15  \n",
            "2326               2021-01-06  \n",
            "2327               2023-01-27  \n",
            "2328               2022-10-02  \n",
            "2329               2020-07-01  \n",
            "\n",
            "[2330 rows x 16 columns]\n",
            "2330\n"
          ]
        }
      ]
    },
    {
      "cell_type": "markdown",
      "source": [
        "Next, make two histograms, one for the pericenter and one for the apocenter of each object. Add additional lines using `plt.axvline()` representing the semimajor axis of the inner planets. Optionally, also add dashed lines around these solid lines corresponding to the pericenter and apocenter of the inner planets and Jupiter. If you can, add shading to the region in between the dashed lines using `plt.axvspan`.\n",
        "\n",
        "The documentation of `plt.axvline()` can be found [here](https://matplotlib.org/stable/api/_as_gen/matplotlib.pyplot.axvline.html#matplotlib.pyplot.axvline). The documentation of `plt.axvspan()` can be found [here](https://matplotlib.org/stable/api/_as_gen/matplotlib.pyplot.axvspan.html). Here's an example for how you'd do this for Mars. Note I am shading the region but without the dashed lines for the pericenter and apocenter. When doing this for multiple planets, it would be easier to do so with a for loop.\n",
        "```\n",
        "Mars_SMA = 1.524 # AU\n",
        "Mars_ecc = 0.0934\n",
        "\n",
        "Mars_peri = Mars_SMA*(1 - Mars_ecc)\n",
        "Mars_apo = Mars_SMA*(1 + Mars_ecc)\n",
        "\n",
        "plt.axvline(x = Mars_SMA, color='g')\n",
        "plt.axvspan(Mars_peri, Mars_apo, facecolor='g', alpha=0.5)\n",
        "```\n",
        "\n",
        "Do you notice anything potentially alarming? In order to make this a more quantitative claim, how many objects in the dataset have a pericenter smaller than Earth's semimajor axis AND an apocenter larger than Earth's semimajor axis? Repeat this for each of the inner planets and Jupiter.\n",
        "\n",
        "You should notice that some of these objects do not seem to have Earth-crossing orbits. Why do you think they're on this list?"
      ],
      "metadata": {
        "id": "BBrlhqkaNJwB"
      }
    },
    {
      "cell_type": "code",
      "source": [
        "peri = df['Semimajor Axis (AU)']*(1 - df['Eccentricity'])\n",
        "apo = df['Semimajor Axis (AU)']*(1 + df['Eccentricity'])\n",
        "\n",
        "plt.hist(peri,color = 'b')\n",
        "plt.hist(apo,color = 'r')\n",
        "plt.axvline(x = 1, color='g')\n",
        "plt.axvspan(peri.max(), apo.min(), facecolor='g', alpha=0.5)\n",
        "plt.xlabel('Semimajor Axis (AU)')\n",
        "plt.ylabel('Number of Asteroids')\n",
        "plt.xlim(0,8)\n",
        "\n",
        "len(df.where((peri < 1) & (apo > 1)))\n",
        "#There are a many asteroids with an apocenter greater than the pericenter\n",
        "#there are 2330"
      ],
      "metadata": {
        "id": "YLhdDoHmNLXW",
        "outputId": "56aea397-405b-4d92-a44c-94f8b8096a58",
        "colab": {
          "base_uri": "https://localhost:8080/",
          "height": 466
        }
      },
      "execution_count": 13,
      "outputs": [
        {
          "output_type": "execute_result",
          "data": {
            "text/plain": [
              "2330"
            ]
          },
          "metadata": {},
          "execution_count": 13
        },
        {
          "output_type": "display_data",
          "data": {
            "text/plain": [
              "<Figure size 640x480 with 1 Axes>"
            ],
            "image/png": "[encoded data removed]"
          },
          "metadata": {}
        }
      ]
    },
    {
      "cell_type": "markdown",
      "source": [
        "Make an additional histogram showing the dates of last observation. Since this is datetime data, which pandas handles internally quite efficiently, you can use the method `df['Date of Last Observation'].hist()` to do this quickly. Look at the range on the x-axis. Is this concerning?\n"
      ],
      "metadata": {
        "id": "sQTyaK6CNL_w"
      }
    },
    {
      "cell_type": "code",
      "source": [
        "plt.hist(df['Date of last observation'])\n",
        "plt.xlabel('Date of Last Observation')\n",
        "plt.ylabel('Number of Asteroids')"
      ],
      "metadata": {
        "id": "vY6d_ogbNP4S",
        "outputId": "32ed964f-ce25-4ebf-ab21-2080f0563fe4",
        "colab": {
          "base_uri": "https://localhost:8080/",
          "height": 466
        }
      },
      "execution_count": 14,
      "outputs": [
        {
          "output_type": "execute_result",
          "data": {
            "text/plain": [
              "Text(0, 0.5, 'Number of Asteroids')"
            ]
          },
          "metadata": {},
          "execution_count": 14
        },
        {
          "output_type": "display_data",
          "data": {
            "text/plain": [
              "<Figure size 640x480 with 1 Axes>"
            ],
            "image/png": "[encoded data removed]"
          },
          "metadata": {}
        }
      ]
    },
    {
      "cell_type": "markdown",
      "source": [
        "***Optional***\n",
        "\n",
        "We can make a better version of the first two histograms in a way that's visually more intuitive. For the purposes of the code below, I'll assume you named your Dataframe `df`.\n",
        "\n",
        "First, let's reorder the rows to sort by pericenter and apocenter values in ascending order.\n",
        "```\n",
        "df = df.sort_values(by=['peri', 'apo'])\n",
        "```\n",
        "Next, since the dataset is so large, let's select only a subset of the rows to visualize. However, we still want to show the whole extent of the dataset, so choosing the first chunk of the data would not be a good option. Instead, let's choose every nth row. For this case, I'll use `n=40`, though you should feel free to play around with this number. I will make this a variable so it is easy to change later.\n",
        "```\n",
        "nth_row = 40\n",
        "df_reduced = df.iloc[::nth_row, :]\n",
        "```\n",
        "One more step. In order to make our plot look nice, let's also reset the index. Optionally, you can add the keyword argument `drop=True`. If you don't (I will not), then your new dataframe will add the old indices as a new column.\n",
        "```\n",
        "df_reduced = df_reduced.reset_index()\n",
        "```\n",
        "Now, we can get to plotting. What we will do is use the index value as the y-value so that each object gets its own line. For the x-values, we will use the semimajor axis. We will also include the extent of the orbit by plotting the pericenter and apocenter using errorbar.\n",
        "```\n",
        "xdata = df_reduced['Semimajor Axis (AU)'].values\n",
        "ydata = df_reduced.index\n",
        "xerr_low = xdata - df_reduced['peri'].values\n",
        "xerr_high = df_reduced['apo'].values - xdata\n",
        "xerr = (xerr_low, xerr_high)\n",
        "plt.errorbar(xdata, ydata, xerr = xerr, linestyle='')\n",
        "```\n",
        "As before, also added some vertical lines and shaded regions representing the inner planets."
      ],
      "metadata": {
        "id": "szfgP_GqNQrS"
      }
    },
    {
      "cell_type": "code",
      "source": [],
      "metadata": {
        "id": "XEUZkvitNSdW"
      },
      "execution_count": null,
      "outputs": []
    }
  ]
}