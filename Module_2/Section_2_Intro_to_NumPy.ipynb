{
  "nbformat": 4,
  "nbformat_minor": 0,
  "metadata": {
    "colab": {
      "provenance": []
    },
    "kernelspec": {
      "name": "python3",
      "display_name": "Python 3"
    },
    "language_info": {
      "name": "python"
    }
  },
  "cells": [
    {
      "cell_type": "markdown",
      "source": [
        "# Section 2. Intro to NumPy\n",
        "## 2.1 Getting Started with NumPy\n",
        "\n",
        "NumPy (often pronounced \"num-pie\") is a widely used module that is optimized to efficiently execute a variety of mathematical operations. The name Numpy hints at its usefulness for us: Numerical Python. Numpy will be extremely useful for your budding career as an astronomer because of everything it can help you do - read in and manipulate large amounts of data, quickly do simple or complex math, and much much more.\n",
        "\n",
        "Before we do anything else, we must import the module.\n",
        "Try doing this yourself in the cell below.\n",
        "```\n",
        "import numpy as np\n",
        "```\n",
        "Importing this module under the alias \"np\" isn't necessary, strictly speaking, but it will make your life easier by taking up less space on a line of code.\n",
        "It is standard practice to import numpy as np."
      ],
      "metadata": {
        "id": "N3EUWNsfQqLI"
      }
    },
    {
      "cell_type": "code",
      "execution_count": 2,
      "metadata": {
        "id": "x5sKc4xrQpxM"
      },
      "outputs": [],
      "source": [
        "import numpy as np"
      ]
    },
    {
      "cell_type": "markdown",
      "source": [
        "### 2.1.1 Making your first arrays\n",
        "\n",
        "Now that we've imported the module, we can now start talking about why we want to use NumPy.\n",
        "\n",
        "The biggest and main advantage of using NumPy is the use of arrays.\n",
        "An array is similar to a list, except that arrays are optimized for use in mathematical applications.\n",
        "\n",
        "We can turn a list into an array as follows:\n",
        "```\n",
        "list1 = [0, 3, 8, 10, 14]\n",
        "list2 = [9, 5, 3, 2, 4]\n",
        "\n",
        "array1 = np.array([0, 3, 8, 10, 14])\n",
        "array2 = np.array([9, 5, 3, 2, 4])\n",
        "```\n",
        "Above, we defined two lists, list1 and list2.\n",
        "Then, we created two arrays, array1 and array2, using the same numerical values as the lists.\n",
        "We could have also performed the following:\n",
        "```\n",
        "array1 = np.array(list1)\n",
        "```\n",
        "Note that arrays in NumPy have a couple of restrictions regarding what can go in them.\n",
        "For our purposes, arrays should only contain numbers.\n",
        "There are ways to put strings, or other non-numerical items into arrays, but that's beyond the scope of this course.\n",
        "\n",
        "In the code block below, define your own set of lists and arrays using your own values."
      ],
      "metadata": {
        "id": "I2oAOBbmRrSu"
      }
    },
    {
      "cell_type": "code",
      "source": [
        "list1 = [0, 3, 8, 10, 14]\n",
        "list2 = [9, 5, 3, 2, 4]\n",
        "\n",
        "array1 = np.array([0, 3, 8, 10, 14])\n",
        "array2 = np.array([9, 5, 3, 2, 4])\n",
        "\n",
        "array1 = np.array(list1)\n",
        "array1"
      ],
      "metadata": {
        "id": "MFz_2Lb23UX-",
        "outputId": "11f17d2c-fc91-4c62-9d95-cc29e42f1b23",
        "colab": {
          "base_uri": "https://localhost:8080/"
        }
      },
      "execution_count": 3,
      "outputs": [
        {
          "output_type": "execute_result",
          "data": {
            "text/plain": [
              "array([ 0,  3,  8, 10, 14])"
            ]
          },
          "metadata": {},
          "execution_count": 3
        }
      ]
    },
    {
      "cell_type": "markdown",
      "source": [
        "### 2.1.2 Mathematical Manipulation of Arrays\n",
        "To illustrate the difference, let's go back to lists. In the previous module, you were asked to do mathematical operations on two lists. If you wanted to add the entries of two lists together, your code would probably look something like this:\n",
        "```\n",
        "list3 = len(list1)*[0] # first line\n",
        "\n",
        "for i in range(len(list1)): # second line\n",
        "    list3[i] = list1[i] + list2[i] # third line\n",
        "```\n",
        "This took three lines of code, not including where we initialize list1 and list2.\n",
        "\n",
        "Now, here's how you can accomplish the same thing with NumPy:\n",
        "```\n",
        "array3 = array1 + array2\n",
        "```\n",
        "Only one line of code!\n",
        "We won't show it here, but it takes a computer much less time to do this type of operation with arrays instead of lists, especially as the number of entries in your array grows larger and larger.\n",
        "[(Apparently NumPy starts being faster around n=8)](https://stackoverflow.com/a/18713494)\n",
        "\n",
        "What else can we do?\n",
        "Anything you can do to two numbers in Python, you can do to two lists with NumPy.\n",
        "```\n",
        "array1 + array2 # addition\n",
        "array1 * array2 # multiplication\n",
        "array1 - array2 # subtraction\n",
        "array1 / array2 # division\n",
        "array1**array2 # exponentiation\n",
        "```\n",
        "The catch is that if you're doing element-wise operations, both arrays must be the same length.\n",
        "Sometimes we want to do something to all the numbers in a single array.\n",
        "In this case, we can do operations with an array and a number (int or float). For example,\n",
        "```\n",
        "array1 + 2 # add 2 to all numbers\n",
        "array1 / 2 # divide all numbers by 2\n",
        "```\n",
        "In these cases, the rules for the order of operations are the same as for normal mathematical operations."
      ],
      "metadata": {
        "id": "3E52sqvq0155"
      }
    },
    {
      "cell_type": "markdown",
      "source": [
        "### Problem: 3D Function\n",
        "\n",
        "Mathematical functions commonly depend on two or more variables. Let's say we have a function $z=f(x,y)$ which we want to evaluate at different $(x,y)$ locations. Let's say we have the function:\n",
        "\n",
        "$$ z = f(x,y) = \\frac{xy^2}{3} + 2. $$\n",
        "\n",
        "Suppose we want to evaluate the function at the four (x, y) data points:\n",
        "*   (0, 0)\n",
        "*   (1, 2)\n",
        "*   (2, 5)\n",
        "*   (3, 9)\n",
        "\n",
        "In the cell below, write code that solves for z using the function at the four points.\n",
        "Define two arrays, one for $x$ and one for $y$.\n",
        "To check to see if your code is accurate, use one or two of the points to find the value of z either with a calculator or with pencil and paper."
      ],
      "metadata": {
        "id": "pkzu3Brz3aOm"
      }
    },
    {
      "cell_type": "code",
      "source": [
        "x=np.array([0,1,2,3])\n",
        "y=np.array([0,2,5,9])\n",
        "z=x*y**2/3+2\n",
        "z"
      ],
      "metadata": {
        "id": "8yzy4wjG0zrL",
        "outputId": "aa15dc2b-397d-49f3-a65d-e6081dd820bf",
        "colab": {
          "base_uri": "https://localhost:8080/"
        }
      },
      "execution_count": 4,
      "outputs": [
        {
          "output_type": "execute_result",
          "data": {
            "text/plain": [
              "array([ 2.        ,  3.33333333, 18.66666667, 83.        ])"
            ]
          },
          "metadata": {},
          "execution_count": 4
        }
      ]
    },
    {
      "cell_type": "markdown",
      "source": [
        "### 2.1.3 Special NumPy Functions\n",
        "\n",
        "There are many special mathematical functions that you'll probably often use.\n",
        "We can divide these into different categories.\n",
        "\n",
        "First, there are functions that exist in Python already, like $\\sin(x)$, $\\log(x)$, or $\\exp(x)$.\n",
        "However, the native Python functions only work on single numbers (i.e. floats or ints), so we need a version that works for multidimensional objects.\n",
        "Here are some examples provided by NumPy:\n",
        "```\n",
        "np.sin(x) # sin of each element in x\n",
        "np.log10(x) # log base 10 of each element in x\n",
        "np.exp(x) # e^x for each element in x\n",
        "```\n",
        "\n",
        "Then, there are some functions that only have meaning when we're dealing with collections of numbers.\n",
        "Some of these should be familiar from statistics, like the average, median, or range.\n",
        "Others include things like the product or sum of all elements,\n",
        "the difference between successive elements, or the maximum and minimum values of an array (and their indices).\n",
        "Here are some examples:\n",
        "```\n",
        "np.mean(x) # mean of x\n",
        "np.std(x) # standard deviation of x\n",
        "np.sum(x) # sum of array elements or along an axis\n",
        "np.diff(x) # difference between consecutive elements along an axis\n",
        "np.amin(x) # min value of array or along a given axis\n",
        "np.argmax(x) # indices of max values of array or along a given axis\n",
        "```\n",
        "\n",
        "One nice thing about using these functions is that they typically take \"array-like\" arguments.\n",
        "In other words, you can give these functions a list and they'll convert the list to an array for you! These are also much faster than their Python analogs since they're optimized for arrays.\n",
        "\n",
        "You can find details and additional functions that could be useful to you [here](https://numpy.org/doc/stable/reference/routines.math.html)."
      ],
      "metadata": {
        "id": "0hAAs_GNvxnn"
      }
    },
    {
      "cell_type": "markdown",
      "source": [
        "### 2.1.4 Concatenate Arrays\n",
        "\n",
        "You can also combine separate arrays into a single array using the concatenate function. Consider the two arrays containing the semimajor axes of the inner and outer planets in the Solar System:\n",
        "```python\n",
        "a_inner = np.array([5.76e10, 1.082e11, 1.496e11, 2.280e11])\n",
        "a_outer = np.array([7.785e11, 1.432e12, 2.867e12, 4.515e12])\n",
        "```\n",
        "We can combine both arrays into a single array using the concatenate command. Notice that we need two sets of parenthesis!\n",
        "```python\n",
        "a_all = np.concatenate((a_inner, a_outer))\n",
        "print(a_all)\n",
        "```\n",
        "Try yourself in the following code cell."
      ],
      "metadata": {
        "id": "Y-9NFyKzuBnb"
      }
    },
    {
      "cell_type": "code",
      "source": [
        "a_inner = np.array([5.76e10, 1.082e11, 1.496e11, 2.280e11])\n",
        "a_outer = np.array([7.785e11, 1.432e12, 2.867e12, 4.515e12])\n",
        "a_all = np.concatenate((a_inner, a_outer))\n",
        "print(a_all)"
      ],
      "metadata": {
        "id": "F6b2IqVhuxpa",
        "outputId": "8952353e-6b7f-4c26-df15-9e4ab57baaca",
        "colab": {
          "base_uri": "https://localhost:8080/"
        }
      },
      "execution_count": 5,
      "outputs": [
        {
          "output_type": "stream",
          "name": "stdout",
          "text": [
            "[5.760e+10 1.082e+11 1.496e+11 2.280e+11 7.785e+11 1.432e+12 2.867e+12\n",
            " 4.515e+12]\n"
          ]
        }
      ]
    },
    {
      "cell_type": "markdown",
      "source": [
        "## 2.2 Multidimensional Arrays\n",
        "\n",
        "Useful data can rarely be described in a single dimension. To describe the motion of a point particle, we need seven numbers: position ($x$, $y$, and $z$) and velocities ($v_x$, $v_y$, and $v_z$) as well as time ($t$).\n",
        "Stars have numerous properties, such as mass, radius, composition, position in the sky, distance, etc.\n",
        "In these cases, it would be unwieldy to have many separate lists of numbers. Luckily for us, the NumPy array datatype is actually called an ndarray, where n stands for N and d stands for dimensions.\n",
        "In other words, our arrays can have any dimensionality we require!\n",
        "For now, let's restrict ourselves to two dimensions, which will be sufficient for most of our use cases.\n",
        "You might have three dimensions (for example, making a 2D animation or running a simulation of particles) and more rarely four or more, but luckily everything we are about see works the same for arrays with higher dimensions.\n",
        "\n",
        "### 2.2.1 Creating Multidimensional Arrays + .shape\n",
        "\n",
        "When you initialize 2D arrays, you should give a list of rows.\n",
        "```\n",
        "A = np.array([[1, 2, 3],\n",
        "              [4, 5, 6]])\n",
        "```\n",
        "In this example, the array has 6 elements, arranged in two rows and three columns. The first row is [1, 2, 3] and the first column is [1, 4]. We could instead arrange these six elements in a host of different ways. For example:\n",
        "```\n",
        "B = np.array([[1, 2], # three rows and two columns\n",
        "              [3, 4],\n",
        "              [5, 6]])\n",
        "C = np.array([[1, 2, 3, 4, 5, 6]]) # one row and six columns\n",
        "D = np.array([[1], # six rows and one column\n",
        "              [2],\n",
        "              [3],\n",
        "              [4],\n",
        "              [5],\n",
        "              [6]])\n",
        "```\n",
        "That's four different ways to arrange six numbers! For larger collections of numbers, there can be even more combinations. We may need to check the shape our arrays, which can can do with the shape parameter:\n",
        "```\n",
        "A.shape # (2, 3)\n",
        "```\n",
        "The shape parameter outputs (# of rows, # of columns) for 2D arrays.\n",
        "\n",
        "In the cell below, create some 2D arrays and make sure they have the shape you expect by printing the shape parameter."
      ],
      "metadata": {
        "id": "rnMGSMLlrghE"
      }
    },
    {
      "cell_type": "code",
      "source": [
        "A = np.array([[1, 2, 3],\n",
        "              [4, 5, 6]])\n",
        "B = np.array([[1, 2], # three rows and two columns\n",
        "              [3, 4],\n",
        "              [5, 6]])\n",
        "C = np.array([[1, 2, 3, 4, 5, 6]]) # one row and six columns\n",
        "D = np.array([[1], # six rows and one column\n",
        "              [2],\n",
        "              [3],\n",
        "              [4],\n",
        "              [5],\n",
        "              [6]])\n",
        "print(A.shape )\n",
        "print(B.shape)\n",
        "print(C.shape)\n",
        "print(D.shape)"
      ],
      "metadata": {
        "id": "APv5e6DM4-7c",
        "outputId": "9e0c770a-14c0-47ff-c311-0a5546af224c",
        "colab": {
          "base_uri": "https://localhost:8080/"
        }
      },
      "execution_count": 6,
      "outputs": [
        {
          "output_type": "stream",
          "name": "stdout",
          "text": [
            "(2, 3)\n",
            "(3, 2)\n",
            "(1, 6)\n",
            "(6, 1)\n"
          ]
        }
      ]
    },
    {
      "cell_type": "markdown",
      "source": [
        "It's common for data to be given to us. For example, maybe I can give you three lists of planetary mass, radii, and distances (units in SI, first four planets only). We can combine them like this:\n",
        "```\n",
        "masses = [3.3e23, 4.9e24, 6.0e24, 6.4e23] # kg\n",
        "radii = [2439, 6052, 6378, 3398] # m\n",
        "periods = [5.7e10, 1.1e11, 1.5e11, 2.3e11] # m\n",
        "\n",
        "planets = np.array([masses, radii, periods])\n",
        "```\n",
        "Thus each column describes a planet, and each property is a row.\n",
        "If you want to make it the other way around, you can do so by taking the transpose of the array.\n",
        "```\n",
        "planets_T = planets.transpose()\n",
        "```\n",
        "Try this yourself below.\n",
        "Also, compare the shapes and entries of planets and planets_T to make sure everything looks right."
      ],
      "metadata": {
        "id": "CnGM8IsBYs8t"
      }
    },
    {
      "cell_type": "code",
      "source": [
        "masses = [3.3e23, 4.9e24, 6.0e24, 6.4e23] # kg\n",
        "radii = [2439, 6052, 6378, 3398] # m\n",
        "periods = [5.7e10, 1.1e11, 1.5e11, 2.3e11] # m\n",
        "\n",
        "planets = np.array([masses, radii, periods])\n",
        "planets_T = planets.transpose()\n",
        "print(planets.shape)\n",
        "print(planets_T.shape)"
      ],
      "metadata": {
        "id": "-twFB-nmZJ1Y",
        "outputId": "e6140a43-7634-48f2-87ea-7ceb7db99719",
        "colab": {
          "base_uri": "https://localhost:8080/"
        }
      },
      "execution_count": 7,
      "outputs": [
        {
          "output_type": "stream",
          "name": "stdout",
          "text": [
            "(3, 4)\n",
            "(4, 3)\n"
          ]
        }
      ]
    },
    {
      "cell_type": "markdown",
      "source": [
        "### 2.2.2 np.zeros() and np.ones()\n",
        "\n",
        "It's extremely unwieldy to make 2D arrays.\n",
        "Just as we are able to make lists with placeholders very quickly, there are some functions that make simple arrays for you very easily.\n",
        "The two most common are np.zeros() and np.ones().\n",
        "The first gives you an array with all zeros and the second an array with all ones.\n",
        "Both functions take the same arguments.\n",
        "As an example, let's consider np.zeros().\n",
        "The main argument is the shape of the array you want.\n",
        "\n",
        "For example,\n",
        "```\n",
        "np.zeros(5) # this returns an array of length 5\n",
        "\n",
        "np.zeros((2, 6)) # this returns an array with 2 rows and 6 columns\n",
        "```\n",
        "Try yourself in the code cell."
      ],
      "metadata": {
        "id": "ayVxVgPd4_Q7"
      }
    },
    {
      "cell_type": "code",
      "source": [
        "np.zeros(5) # this returns an array of length 5\n",
        "\n",
        "np.zeros((2, 6)) # this returns an array with 2 rows and 6 columns"
      ],
      "metadata": {
        "id": "m8z2-VHjgaSQ",
        "outputId": "2d51acb0-6660-4907-847a-aa44bc85816b",
        "colab": {
          "base_uri": "https://localhost:8080/"
        }
      },
      "execution_count": 8,
      "outputs": [
        {
          "output_type": "execute_result",
          "data": {
            "text/plain": [
              "array([[0., 0., 0., 0., 0., 0.],\n",
              "       [0., 0., 0., 0., 0., 0.]])"
            ]
          },
          "metadata": {},
          "execution_count": 8
        }
      ]
    },
    {
      "cell_type": "markdown",
      "source": [
        "### 2.2.3 np.arange and np.linspace()\n",
        "\n",
        "The np.arange function is exactly the same as range() from before, but it returns an array. Technically, the other main difference is that we can use non-integer step sizes. However, in those cases, it's better to use the next function.\n",
        "\n",
        "np.linspace is a little different. This lets us make an array with equally spaced numbers by specifying the start, end, and number of points. This is extremely useful in a variety of applications, especially plotting. Note that, given the nature of these functions, we can only make 1D arrays in this manner.\n",
        "\n",
        "```\n",
        "# 50 (default) linearly-spaced numbers from 0 to 10\n",
        "np.linspace(0, 10)\n",
        "\n",
        "# With 3 arguments, this generates 200 numbers should generated\n",
        "np.linspace(0, 10, 200)\n",
        "\n",
        "# This is helpful, for example, if you wanted to plot the sin( ) function\n",
        "x = np.linspace(0, 2*np.pi, 100)\n",
        "```\n",
        "It is possible to reshape arrays.\n",
        "In the cell below, compare the output from these two lines of code.\n",
        "```\n",
        "print(np.arange(12))\n",
        "print(np.arange(12).reshape(4, 3))\n",
        "```"
      ],
      "metadata": {
        "id": "ndIhvYsUgaxS"
      }
    },
    {
      "cell_type": "code",
      "source": [
        "print(np.arange(12))\n",
        "print(np.arange(12).reshape(4, 3))"
      ],
      "metadata": {
        "id": "8GTNCxEVj_7B",
        "outputId": "c0f42b0e-1ab6-41fe-8d47-a4aa37266b94",
        "colab": {
          "base_uri": "https://localhost:8080/"
        }
      },
      "execution_count": 9,
      "outputs": [
        {
          "output_type": "stream",
          "name": "stdout",
          "text": [
            "[ 0  1  2  3  4  5  6  7  8  9 10 11]\n",
            "[[ 0  1  2]\n",
            " [ 3  4  5]\n",
            " [ 6  7  8]\n",
            " [ 9 10 11]]\n"
          ]
        }
      ]
    },
    {
      "cell_type": "markdown",
      "source": [
        "### 2.2.4 np.loadtxt()\n",
        "\n",
        "We can also import a data file into an array.\n",
        "All you need to do is supply a filename. In this case,  we will load the file named 'example.txt'\n",
        "```\n",
        "data = np.loadtxt('example.txt')\n",
        "```\n",
        "After you load the data, do the following:\n",
        "1. Get the shape of the array\n",
        "2. Sum all the elements of the array\n",
        "3. The the max values of each row (axis=0) and each column (axis=1)\n",
        "4. Finally, sum each row and column individually. Your answer might surprise you."
      ],
      "metadata": {
        "id": "LsDT2aqQkAUa"
      }
    },
    {
      "cell_type": "code",
      "source": [
        "# Running in Google Colab? Run this cell to download the file\n",
        "!wget https://raw.githubusercontent.com/CIERA-Northwestern/REACHpy/main/Module_2/data/example.txt\n",
        "\n",
        "# If you're not running in Colab, this file should be in the data directory.\n",
        "# Change the loading path of the file to include 'data/' when the file is loaded"
      ],
      "metadata": {
        "id": "i7M1XTlXH2_Y",
        "outputId": "0c408bc2-ff14-4a2e-abe1-b2d2d4eebd6b",
        "colab": {
          "base_uri": "https://localhost:8080/"
        }
      },
      "execution_count": 10,
      "outputs": [
        {
          "output_type": "stream",
          "name": "stdout",
          "text": [
            "--2025-06-10 03:22:37--  https://raw.githubusercontent.com/CIERA-Northwestern/REACHpy/main/Module_2/data/example.txt\n",
            "Resolving raw.githubusercontent.com (raw.githubusercontent.com)... 185.199.108.133, 185.199.109.133, 185.199.110.133, ...\n",
            "Connecting to raw.githubusercontent.com (raw.githubusercontent.com)|185.199.108.133|:443... connected.\n",
            "HTTP request sent, awaiting response... 200 OK\n",
            "Length: 189 [text/plain]\n",
            "Saving to: ‘example.txt’\n",
            "\n",
            "example.txt         100%[===================>]     189  --.-KB/s    in 0s      \n",
            "\n",
            "2025-06-10 03:22:37 (2.40 MB/s) - ‘example.txt’ saved [189/189]\n",
            "\n"
          ]
        }
      ]
    },
    {
      "cell_type": "code",
      "source": [
        "data = np.loadtxt('example.txt')"
      ],
      "metadata": {
        "id": "rcRzFCmxlQV-"
      },
      "execution_count": 11,
      "outputs": []
    },
    {
      "cell_type": "markdown",
      "source": [
        "In the above example, the file assumed the columns are separated by whitespace, which loadtxt assumes by default.\n",
        "This isn't always the case.\n",
        "For example, some files may instead separate values by commas. In the case of comma-separated values (CSV) file format, you would need to pass a delimiter option:\n",
        "```\n",
        "data = np.loadtxt('example.txt', delimiter=',')\n",
        "```\n",
        "We will not be doing an example here, but we may see it in future Challenge Problems."
      ],
      "metadata": {
        "id": "Bfx8ex9dlQhn"
      }
    },
    {
      "cell_type": "markdown",
      "source": [
        "### 2.2.5 np.meshgrid()\n",
        "\n",
        "In the lists section, we discussed a way of evaluating a function on a *grid* of points by using nested for loops. We can accomplish something similar without needing to use loops with the function `np.meshgrid`. The example from that section was\n",
        "```\n",
        "xs = [0,1,3,5,6]\n",
        "ys = [1,3,6,7,10]\n",
        "\n",
        "zs = len(xs)*[0]\n",
        "for i in range(len(xs)):\n",
        "    zs[i] = len(ys)*[0]\n",
        "\n",
        "for i, x in enumerate(xs):\n",
        "    for j, y in enumerate(ys):\n",
        "        zs[i][j] = x*x + y\n",
        "\n",
        "print(zs)\n",
        "```\n",
        "Here's one way we could do this in numpy:\n",
        "\n",
        "```\n",
        "xs = np.array([0, 1, 3, 5, 6])\n",
        "ys = np.array([1, 3, 6, 7, 10])\n",
        "\n",
        "xx, yy = np.meshgrid(xs, ys)\n",
        "zz = xx*xx + yy\n",
        "```\n",
        "Run the NumPy example below and print out xx and yy to see what's going on. Essentially, the function takes your x and y values and clones the x values along each row and the y values along each column so you work with 2D arrays."
      ],
      "metadata": {
        "id": "m8zG05ZsIxUB"
      }
    },
    {
      "cell_type": "code",
      "source": [
        "xs = np.array([0, 1, 3, 5, 6])\n",
        "ys = np.array([1, 3, 6, 7, 10])\n",
        "\n",
        "xx, yy = np.meshgrid(xs, ys)\n",
        "zz = xx*xx + yy\n",
        "print(xx)\n",
        "print(yy)"
      ],
      "metadata": {
        "id": "ja7Rkx3LC4CD",
        "outputId": "331b333c-b436-4f9e-ea12-1aab40c8c117",
        "colab": {
          "base_uri": "https://localhost:8080/"
        }
      },
      "execution_count": 12,
      "outputs": [
        {
          "output_type": "stream",
          "name": "stdout",
          "text": [
            "[[0 1 3 5 6]\n",
            " [0 1 3 5 6]\n",
            " [0 1 3 5 6]\n",
            " [0 1 3 5 6]\n",
            " [0 1 3 5 6]]\n",
            "[[ 1  1  1  1  1]\n",
            " [ 3  3  3  3  3]\n",
            " [ 6  6  6  6  6]\n",
            " [ 7  7  7  7  7]\n",
            " [10 10 10 10 10]]\n"
          ]
        }
      ]
    },
    {
      "cell_type": "markdown",
      "source": [
        "## 2.3 Indexing and Slicing in NumPy\n",
        "\n",
        "### 2.3.1 Commonalities with Lists\n",
        "\n",
        "Luckily for us, accessing the data in 1D arrays is essentially the same as working with normal lists! Just to review with some examples,\n",
        "```\n",
        "my_array = np.arange(8)\n",
        "\n",
        "my_array[3] # this gets the 4th element of my_array\n",
        "my_array[-5:] # this gets the last 5 elements of my_array\n",
        "my_array[1:6:2] # this gets every other element of my_array, starting with the 2nd and stopping by the 7th\n",
        "```\n",
        "Try yourself in the code cell."
      ],
      "metadata": {
        "id": "aLRNHiQ1IvSd"
      }
    },
    {
      "cell_type": "code",
      "source": [
        "my_array = np.arange(8)\n",
        "\n",
        "my_array[3] # this gets the 4th element of my_array\n",
        "my_array[-5:] # this gets the last 5 elements of my_array\n",
        "my_array[1:6:2] # this gets every other element of my_array, starting with the 2nd and stopping by the 7th"
      ],
      "metadata": {
        "id": "V78nMcIGrNk8",
        "outputId": "f00e0f0d-0147-4436-89e9-fe613ef93aac",
        "colab": {
          "base_uri": "https://localhost:8080/"
        }
      },
      "execution_count": 13,
      "outputs": [
        {
          "output_type": "execute_result",
          "data": {
            "text/plain": [
              "array([1, 3, 5])"
            ]
          },
          "metadata": {},
          "execution_count": 13
        }
      ]
    },
    {
      "cell_type": "markdown",
      "source": [
        "### 2.3.2 Working with 2D Arrays\n",
        "\n",
        "Now that we have multiple dimensions, we can access the arrays along multiple dimensions.\n",
        "In order to specify multiple axes, we can separate them with commas:\n",
        "```\n",
        "my_array = np.arange(48).reshape(6, 8)\n",
        "\n",
        "my_array[2, 3] # accesses the element in the 3rd row, 4th column\n",
        "```\n",
        "The various rules for slicing also apply here.\n",
        "```\n",
        "my_array[1:-1,::2] # get all but the first and last row, every other column\n",
        "```\n",
        "What if we only want to get certain rows? Since a 2D array is basically an array of arrays, we can access rows by pretending we're working with a 1D array.\n",
        "```\n",
        "my_array[4] # access the 5th row\n",
        "my_array[2:5] # access rows 3 through 6\n",
        "```\n",
        "What about columns? If we want to access part or all of a column in every row, use a colon before the comma:\n",
        "```\n",
        "my_array[:, 4] # access the 5th col\n",
        "my_array[:, 2:5] # access cols 3 through 6\n",
        "```\n",
        "Try to work through these examples in your head before you try to run them in the cell below."
      ],
      "metadata": {
        "id": "1L4RdtHsrOCU"
      }
    },
    {
      "cell_type": "code",
      "source": [
        "my_array = np.arange(48).reshape(6, 8)\n",
        "\n",
        "print(my_array)\n",
        "print(my_array[2, 3]) # accesses the element in the 3rd row, 4th column\n",
        "print(my_array[1:-1,::2]) # get all but the first and last row, every other column"
      ],
      "metadata": {
        "id": "BJmZy3cytxPQ",
        "outputId": "a47484a7-915e-45b8-ef85-9f121a0f98eb",
        "colab": {
          "base_uri": "https://localhost:8080/"
        }
      },
      "execution_count": 14,
      "outputs": [
        {
          "output_type": "stream",
          "name": "stdout",
          "text": [
            "[[ 0  1  2  3  4  5  6  7]\n",
            " [ 8  9 10 11 12 13 14 15]\n",
            " [16 17 18 19 20 21 22 23]\n",
            " [24 25 26 27 28 29 30 31]\n",
            " [32 33 34 35 36 37 38 39]\n",
            " [40 41 42 43 44 45 46 47]]\n",
            "19\n",
            "[[ 8 10 12 14]\n",
            " [16 18 20 22]\n",
            " [24 26 28 30]\n",
            " [32 34 36 38]]\n"
          ]
        }
      ]
    },
    {
      "cell_type": "markdown",
      "source": [
        "### 2.3.3 Accessing Specific Indices\n",
        "\n",
        "NumPy can access multiple indices and values at once. For example,\n",
        "```\n",
        "my_array = np.arange(8)\n",
        "\n",
        "my_array[[0, 2, 3, 6]] # this gets the elements at all the specified positions\n",
        "```\n",
        "\n",
        "Try the example in the code cell."
      ],
      "metadata": {
        "id": "n252YVGJtxZ9"
      }
    },
    {
      "cell_type": "code",
      "source": [
        "my_array = np.arange(8)\n",
        "\n",
        "my_array[[0, 2, 3, 6]]"
      ],
      "metadata": {
        "id": "9tsZa9V_t1t6",
        "outputId": "da6c71cb-934d-4761-d64a-0b8834a88ae8",
        "colab": {
          "base_uri": "https://localhost:8080/"
        }
      },
      "execution_count": 15,
      "outputs": [
        {
          "output_type": "execute_result",
          "data": {
            "text/plain": [
              "array([0, 2, 3, 6])"
            ]
          },
          "metadata": {},
          "execution_count": 15
        }
      ]
    },
    {
      "cell_type": "markdown",
      "source": [
        "### 2.3.4 Boolean Indexing\n",
        "\n",
        "The word Boolean means we're dealing with conditional logic (True or False).\n",
        "\n",
        "Instead of accessing data based on the index, we can do it based on the nature of the data itself! For example, in the following list, suppose we want only the even numbers.\n",
        "```\n",
        "a = np.arange(12)\n",
        "\n",
        "a[a%2 == 0]\n",
        "```\n",
        "Here, the == means 'is equal to', as opposed to =, which is just assignment. Here's a list of the different comparison operators you'll probably use:\n",
        "```\n",
        "== # equal to\n",
        "!= # not equal to\n",
        "<= # less than or equal to\n",
        "<  # less than\n",
        ">= # greater than or equal to\n",
        ">  # greater than\n",
        "```\n",
        "In addition, we can chain logical statements together with these operators:\n",
        "```\n",
        "& # logical and\n",
        "| # logical or\n",
        "~ # logical not\n",
        "```\n",
        "Here's an example. Note that we need to enclose different logical statements in parentheses.\n",
        "```\n",
        "a[(a%2 == 0) & (a > 7)] # return elements even and greater than 7\n",
        "a[(a%2 == 0) & ((a > 7) | (a < 3))] # return elements even and greater than 7 or less than 3\n",
        "a[~(a%2 == 0) & ((a > 7) | (a < 3))] # return elements NOT even (ie odd) and greater than 7 or less than 3\n",
        "```\n",
        "Try to predict the output of each of these lines before running the code below."
      ],
      "metadata": {
        "id": "C4LS3gnit11P"
      }
    },
    {
      "cell_type": "code",
      "source": [
        "a = np.arange(12)\n",
        "\n",
        "print(a[a%2 == 0])\n",
        "print(a[(a%2 == 0) & (a > 7)]) # return elements even and greater than 7\n",
        "print(a[(a%2 == 0) & ((a > 7) | (a < 3))]) # return elements even and greater than 7 or less than 3\n",
        "print(a[~(a%2 == 0) & ((a > 7) | (a < 3))])"
      ],
      "metadata": {
        "id": "JtNtjudvt8aj",
        "outputId": "a191b48e-c4c8-472b-acc0-038825fd69d8",
        "colab": {
          "base_uri": "https://localhost:8080/"
        }
      },
      "execution_count": 17,
      "outputs": [
        {
          "output_type": "stream",
          "name": "stdout",
          "text": [
            "[ 0  2  4  6  8 10]\n",
            "[ 8 10]\n",
            "[ 0  2  8 10]\n",
            "[ 1  9 11]\n"
          ]
        }
      ]
    },
    {
      "cell_type": "markdown",
      "source": [
        "### 2.3.5 Boolean Indexing in 2D\n",
        "\n",
        "For two dimensions, we need to specify the row or column.\n",
        "\n",
        "First, consider selecting rows based on different column values:\n",
        "```\n",
        "b = np.arange(48).reshape(6,8)\n",
        "b[b[:,4] > 20] # get all rows where column 5 is greater than 20\n",
        "b[(b[:,4] > 20) | (b[:,2] < 30)] # get all rows where column 5 is greater than 20 or column 3 is less than 30\n",
        "```\n",
        "Next, consider selecting columns based on different row values:\n",
        "```\n",
        "b[:,b[0,:] > 3] # get all columns where first row value is greater than 3\n",
        "b[:,(b[0,:] > 3) & b[0,:]%2 == 1] # get all columns where first row value is greater than 3 and odd\n",
        "```\n",
        "Try to predict the output of each of these lines before running the code below."
      ],
      "metadata": {
        "id": "ENgOKPhE5uL2"
      }
    },
    {
      "cell_type": "code",
      "source": [
        "b = np.arange(48).reshape(6,8)\n",
        "print(b[b[:,4] > 20]) # get all rows where column 5 is greater than 20\n",
        "print(b[(b[:,4] > 20) | (b[:,2] < 30)]) # get all rows where column 5 is greater than 20 or column 3 is less than 30\n",
        "print(b[:,b[0,:] > 3]) # get all columns where first row value is greater than 3\n",
        "print(b[:,(b[0,:] > 3) & b[0,:]%2 == 1]) # get all columns where first row value is greater than 3 and odd\n"
      ],
      "metadata": {
        "id": "vuZg80xh-ARb",
        "outputId": "cccce2b7-614f-479c-9673-a1d377061697",
        "colab": {
          "base_uri": "https://localhost:8080/"
        }
      },
      "execution_count": 18,
      "outputs": [
        {
          "output_type": "stream",
          "name": "stdout",
          "text": [
            "[[24 25 26 27 28 29 30 31]\n",
            " [32 33 34 35 36 37 38 39]\n",
            " [40 41 42 43 44 45 46 47]]\n",
            "[[ 0  1  2  3  4  5  6  7]\n",
            " [ 8  9 10 11 12 13 14 15]\n",
            " [16 17 18 19 20 21 22 23]\n",
            " [24 25 26 27 28 29 30 31]\n",
            " [32 33 34 35 36 37 38 39]\n",
            " [40 41 42 43 44 45 46 47]]\n",
            "[[ 4  5  6  7]\n",
            " [12 13 14 15]\n",
            " [20 21 22 23]\n",
            " [28 29 30 31]\n",
            " [36 37 38 39]\n",
            " [44 45 46 47]]\n",
            "[[ 5  7]\n",
            " [13 15]\n",
            " [21 23]\n",
            " [29 31]\n",
            " [37 39]\n",
            " [45 47]]\n"
          ]
        }
      ]
    },
    {
      "cell_type": "markdown",
      "source": [
        "### 2.3.6 np.where()\n",
        "\n",
        "Boolean indexing is extremely useful, but sometimes we want to work with data in the same column(s) differently based on some condition. This is where the function `np.where` comes in handy. The syntax for `np.where` is\n",
        "```\n",
        "np.where(condition,if true do this, else do this)\n",
        "```\n",
        "This is simply an if-else statement.\n",
        "An example of this is as follows:\n",
        "```\n",
        "# Create masses of black holes\n",
        "m1 = np.random.uniform(5, 50, size=10)\n",
        "m2 = np.random.uniform(5, 50, size=10)\n",
        "\n",
        "# Define mass ratio to always be less than 1\n",
        "q = np.where(m2 < m1, m2/m1, m1/m2)\n",
        "print(q)\n",
        "```\n",
        "In the above example, the first two lines create masses of objects in a binary star system to be between 5 and 50 (in some unit system).\n",
        "Typically, in binary star system, the mass ratio is defined such that we divide the smaller mass by the larger mass.\n",
        "We could do this with a for loop and an if-else statement.\n",
        "This way is more compact and faster!\n",
        "\n",
        "There is a second use case for `np.where`.\n",
        "If you leave off the second and third arguments of the function, then the function will return a list. The first element of this list contains the indices where the condition is true.\n",
        "For example, the following code will return all the indices where the number is negative.\n",
        "```\n",
        "a = np.random.uniform(-1, 1, size=10)\n",
        "b = np.where(a < 0)[0]\n",
        "print(b)\n",
        "```\n"
      ],
      "metadata": {
        "id": "b-_VU0nTCo-h"
      }
    },
    {
      "cell_type": "code",
      "source": [
        "a = np.random.uniform(-1, 1, size=10)\n",
        "b = np.where(a < 0)[0]\n",
        "print(a)\n",
        "print(b)"
      ],
      "metadata": {
        "id": "TIS-kXE7CoFC",
        "outputId": "6b0c9776-d93e-48a0-939b-0d32835038c9",
        "colab": {
          "base_uri": "https://localhost:8080/"
        }
      },
      "execution_count": 20,
      "outputs": [
        {
          "output_type": "stream",
          "name": "stdout",
          "text": [
            "[-0.00353996  0.89563861 -0.50898361 -0.8481701  -0.94116777 -0.88888933\n",
            " -0.57080891  0.48838663 -0.90801819 -0.96273505]\n",
            "[0 2 3 4 5 6 8 9]\n"
          ]
        }
      ]
    },
    {
      "cell_type": "markdown",
      "source": [
        "## 2.4 Practice Problem\n",
        "\n",
        "Use np.loadtxt to open the file named 'binaries.txt'. Characterize it. In particular,\n",
        "\n",
        "1. How many rows does it have?\n",
        "2. How many columns does it have?\n",
        "3. What kinds of values do each column contain? That is, how big or small are the numbers in each column? What's the smallest/largest number? The median? The average? If you notice anything else interesting, write that down too.\n",
        "\n",
        "Answer: Write your answers here.\n"
      ],
      "metadata": {
        "id": "mXZXUcint8lv"
      }
    },
    {
      "cell_type": "code",
      "source": [
        "# Running in Google Colab? Run this cell to download the file\n",
        "!wget https://raw.githubusercontent.com/CIERA-Northwestern/REACHpy/main/Module_2/data/binaries.txt\n",
        "\n",
        "# If you're not running in Colab, this file should be in the data directory.\n",
        "# Change the loading path of the file to include 'data/' when the file is loaded"
      ],
      "metadata": {
        "id": "qrJ8tafHIz6-",
        "outputId": "6ef86dd9-b221-457d-eea3-e10eaab83645",
        "colab": {
          "base_uri": "https://localhost:8080/"
        }
      },
      "execution_count": 21,
      "outputs": [
        {
          "output_type": "stream",
          "name": "stdout",
          "text": [
            "--2025-06-10 04:19:59--  https://raw.githubusercontent.com/CIERA-Northwestern/REACHpy/main/Module_2/data/binaries.txt\n",
            "Resolving raw.githubusercontent.com (raw.githubusercontent.com)... 185.199.108.133, 185.199.109.133, 185.199.110.133, ...\n",
            "Connecting to raw.githubusercontent.com (raw.githubusercontent.com)|185.199.108.133|:443... connected.\n",
            "HTTP request sent, awaiting response... 200 OK\n",
            "Length: 30000 (29K) [text/plain]\n",
            "Saving to: ‘binaries.txt’\n",
            "\n",
            "\rbinaries.txt          0%[                    ]       0  --.-KB/s               \rbinaries.txt        100%[===================>]  29.30K  --.-KB/s    in 0.003s  \n",
            "\n",
            "2025-06-10 04:20:00 (8.63 MB/s) - ‘binaries.txt’ saved [30000/30000]\n",
            "\n"
          ]
        }
      ]
    },
    {
      "cell_type": "code",
      "source": [
        "data = np.loadtxt('binaries.txt')\n",
        "print(data.shape)\n",
        "print(np.min(data))\n",
        "print(np.max(data))\n",
        "print(np.median(data))\n",
        "print(np.average(data))"
      ],
      "metadata": {
        "id": "T_Dvm8a40RLy",
        "outputId": "cf5c56a7-e501-466d-f3af-7c43fca31709",
        "colab": {
          "base_uri": "https://localhost:8080/"
        }
      },
      "execution_count": 22,
      "outputs": [
        {
          "output_type": "stream",
          "name": "stdout",
          "text": [
            "(200, 6)\n",
            "0.0\n",
            "67915281.32414712\n",
            "1.0\n",
            "215137.73309043908\n"
          ]
        }
      ]
    },
    {
      "cell_type": "markdown",
      "source": [
        "Now that you've done that, I should tell you what you're looking at. I used a program called [COSMIC](https://cosmic-popsynth.github.io/docs/stable/index.html) to create a list of binary star systems based on the properties of observed systems. To be clear, the data here is completely synthetic. Each row represents a different binary star system. The columns are as follows\n",
        "\n",
        "1) The k-type of star 1\n",
        "\n",
        "2) The k-type of star 2\n",
        "\n",
        "3) The mass of star 1 in units of solar mass\n",
        "\n",
        "4) The mass of star 2 in units of solar mass\n",
        "\n",
        "5) The orbital period in days.\n",
        "\n",
        "6) The orbital eccentricity which ranges between 0 and 1.\n",
        "\n",
        "The k-type is related to the evolutionary state of the star. Here, all of the k-types are either 0 or 1, both of which correspond to main-sequence stars.\n",
        "\n",
        "Now, here are your next tasks:\n",
        "\n",
        "1. How many binaries have stars where at least one is above 1 solar mass? 5 solar masses? 10?\n",
        "2. How many stars in this sample have masses above 1, 5 and 10 solar masses?\n",
        "3. How many binaries have orbital periods shorter than a month? A year? What are the shortest and longest orbital periods?\n",
        "4. As stated before, the k-type for all these stars are either 0 or 1. A main-sequence star will have k-type 0 below a certain mass and k-type 1 above that mass. See if you can find a range of values where the cutoff mass might be. State your answer in solar masses.\n",
        "5. Using Kepler's Third Law, make another array that corresponds to the semimajor axis of each binary system. Make sure you explicitly state what units you're using (ie meters, kilometers, AU). Once again, Keplers Third Law is\n",
        "\n",
        "$$T = 2\\pi \\sqrt{\\frac{a^3}{G(M_1 + M_2)}}$$"
      ],
      "metadata": {
        "id": "KTndNlqg0b1r"
      }
    },
    {
      "cell_type": "code",
      "source": [
        "#1\n",
        "print(np.where(data[:,2] > 1))\n",
        "print(np.where(data[:,2] > 5))\n",
        "print(np.where(data[:,2] > 10))\n",
        "\n",
        "#2\n",
        "print(np.where(data[:,3] > 1))\n",
        "print(np.where(data[:,3] > 5))\n",
        "print(np.where(data[:,3] > 10))\n",
        "\n",
        "#3\n",
        "print(np.where(data[:,4] < 28))\n",
        "print(np.where(data[:,4] < 365))\n",
        "print(np.where(data[:,4] < 730))\n",
        "\n",
        "#4\n",
        "print(np.min(data[:,4]))\n",
        "print(np.max(data[:,4]))\n",
        "\n",
        "#5\n",
        "T = 2*np.pi*(data[:,4]**3/(6.674e-11*(data[:,2]+data[:,3])))\n",
        "print(T)"
      ],
      "metadata": {
        "id": "ZsqxFhPZtbqo",
        "outputId": "2c879149-5e73-4256-ecd3-67c77e8ddc77",
        "colab": {
          "base_uri": "https://localhost:8080/"
        }
      },
      "execution_count": 25,
      "outputs": [
        {
          "output_type": "stream",
          "name": "stdout",
          "text": [
            "(array([  1,   3,   4,   5,   6,   8,   9,  10,  11,  12,  14,  15,  16,\n",
            "        18,  19,  20,  22,  23,  26,  27,  28,  29,  30,  31,  32,  34,\n",
            "        36,  37,  39,  41,  42,  43,  44,  45,  46,  48,  49,  50,  51,\n",
            "        52,  53,  54,  55,  56,  58,  59,  60,  61,  63,  65,  66,  67,\n",
            "        68,  70,  72,  73,  74,  75,  76,  77,  78,  80,  83,  84,  87,\n",
            "        88,  89,  90,  91,  92,  93,  94,  95,  96,  99, 100, 101, 102,\n",
            "       103, 104, 105, 106, 107, 108, 111, 112, 114, 115, 116, 117, 120,\n",
            "       121, 122, 125, 126, 127, 128, 129, 132, 133, 135, 136, 137, 138,\n",
            "       140, 141, 142, 144, 146, 147, 148, 149, 150, 152, 154, 155, 157,\n",
            "       158, 159, 160, 161, 162, 163, 164, 165, 167, 168, 169, 170, 171,\n",
            "       172, 173, 175, 176, 178, 179, 180, 182, 183, 184, 186, 190, 191,\n",
            "       192, 195, 197, 198, 199]),)\n",
            "(array([  6,  12,  14,  18,  19,  27,  32,  34,  36,  41,  44,  52,  55,\n",
            "        56,  58,  61,  70,  72,  77,  83,  90,  92,  93,  94,  96,  99,\n",
            "       104, 106, 108, 112, 121, 133, 135, 140, 154, 163, 173, 178, 179,\n",
            "       180, 183, 192]),)\n",
            "(array([ 19,  32,  34,  36,  52,  56,  58,  70,  72,  90,  94, 104, 112,\n",
            "       133, 140, 173, 179, 180]),)\n",
            "(array([  1,   3,   4,   6,   8,   9,  11,  12,  15,  16,  18,  19,  20,\n",
            "        23,  27,  29,  31,  32,  34,  36,  39,  41,  42,  43,  44,  46,\n",
            "        48,  49,  50,  51,  52,  54,  55,  56,  58,  59,  61,  63,  70,\n",
            "        72,  74,  75,  80,  90,  92,  93,  94,  95,  96,  99, 100, 103,\n",
            "       104, 105, 107, 108, 112, 116, 117, 120, 121, 127, 128, 132, 133,\n",
            "       135, 136, 140, 142, 147, 148, 152, 154, 155, 157, 158, 159, 163,\n",
            "       164, 165, 170, 171, 172, 173, 178, 179, 180, 182, 184, 192, 198,\n",
            "       199]),)\n",
            "(array([ 12,  19,  32,  34,  36,  44,  52,  56,  58,  70,  72,  90, 108,\n",
            "       112, 133, 140, 163, 173, 179, 180]),)\n",
            "(array([ 19,  32,  36,  52,  70, 133, 140]),)\n",
            "(array([ 18,  25,  29,  30,  32,  34,  36,  44,  50,  52,  55,  62,  74,\n",
            "        83,  90, 103, 112, 117, 121, 123, 125, 129, 130, 133, 140, 149,\n",
            "       163, 164, 170, 179, 180, 181, 182]),)\n",
            "(array([  6,  12,  18,  19,  25,  29,  30,  32,  34,  36,  42,  44,  48,\n",
            "        50,  52,  55,  61,  62,  70,  74,  83,  85,  86,  90,  93,  95,\n",
            "       103, 107, 108, 112, 117, 120, 121, 123, 125, 126, 129, 130, 133,\n",
            "       134, 140, 147, 149, 154, 158, 163, 164, 169, 170, 173, 176, 177,\n",
            "       179, 180, 181, 182, 191]),)\n",
            "(array([  6,  12,  18,  19,  23,  25,  29,  30,  32,  34,  36,  42,  44,\n",
            "        48,  49,  50,  52,  55,  61,  62,  70,  74,  76,  83,  84,  85,\n",
            "        86,  90,  93,  95, 103, 107, 108, 112, 117, 120, 121, 123, 125,\n",
            "       126, 129, 130, 133, 134, 136, 140, 143, 147, 149, 154, 158, 159,\n",
            "       163, 164, 169, 170, 173, 175, 176, 177, 179, 180, 181, 182, 190,\n",
            "       191, 195]),)\n",
            "1.801811702332768\n",
            "67915281.32414712\n",
            "[1.41046004e+25 9.63248595e+22 9.49077696e+23 8.05245408e+22\n",
            " 1.42315887e+19 4.98533296e+22 1.85873410e+15 1.52779644e+21\n",
            " 7.40068780e+20 1.27684785e+27 1.57848567e+28 2.40938175e+25\n",
            " 1.42985152e+17 2.68185229e+20 1.37791673e+25 1.67888202e+22\n",
            " 1.10118993e+25 6.01165111e+24 2.30557794e+13 2.61561177e+16\n",
            " 7.76601591e+26 1.42892512e+21 3.70631328e+26 7.31928129e+18\n",
            " 3.60593341e+22 6.61578916e+11 7.67701789e+26 4.35539659e+20\n",
            " 5.93315340e+26 4.15111616e+12 1.61604785e+13 8.02622177e+28\n",
            " 1.33648152e+13 5.49298576e+19 1.14238815e+14 1.19923259e+31\n",
            " 1.89117818e+12 2.20487833e+30 9.65551418e+20 1.93138323e+21\n",
            " 5.16158778e+19 7.32017251e+18 3.34203855e+16 1.55040938e+27\n",
            " 1.24834775e+11 1.42470756e+31 2.29511706e+21 7.12632033e+22\n",
            " 1.31907865e+16 2.56966140e+18 4.58298359e+13 7.75321801e+21\n",
            " 7.36884359e+09 5.22468800e+31 6.83621419e+25 9.86833276e+12\n",
            " 3.98634317e+19 1.71076613e+31 3.47570723e+25 6.62128969e+33\n",
            " 6.55864868e+28 5.45342072e+15 5.93561650e+12 7.35523999e+26\n",
            " 1.75647069e+28 9.87982661e+20 3.06701418e+20 2.55964799e+22\n",
            " 5.94963858e+24 6.68403957e+24 1.82777623e+14 6.99178461e+19\n",
            " 2.12878598e+20 1.70425425e+32 3.94217810e+13 9.92404341e+22\n",
            " 9.93430062e+18 1.32029505e+26 2.37644676e+32 2.06217788e+29\n",
            " 2.59617279e+22 3.58975744e+30 6.73417655e+19 5.29962077e+13\n",
            " 9.83519988e+18 3.99733278e+17 1.84621969e+15 1.31484241e+34\n",
            " 8.00305734e+19 9.32724061e+26 1.51108567e+12 2.16091990e+30\n",
            " 5.03143720e+18 3.35668508e+16 4.17654861e+25 1.98203553e+17\n",
            " 1.96533052e+19 2.78440333e+27 2.03484792e+23 6.01958296e+23\n",
            " 1.50123641e+28 8.03611051e+27 2.03395652e+27 3.02395836e+13\n",
            " 1.60317912e+19 4.65855108e+23 5.78263882e+30 3.98526162e+17\n",
            " 8.56218057e+14 7.66363092e+23 1.01508414e+25 1.53597257e+21\n",
            " 6.83315071e+10 1.67021491e+28 1.79624857e+26 9.40102376e+31\n",
            " 2.85373496e+23 3.72811031e+12 1.11110487e+21 3.70245946e+29\n",
            " 2.89246676e+15 2.34237676e+13 3.69781292e+30 4.38162346e+12\n",
            " 5.27065912e+20 1.64513436e+14 3.93164224e+16 1.80008061e+22\n",
            " 3.11264928e+21 9.48074160e+12 3.70812634e+12 8.62559639e+24\n",
            " 6.02572970e+26 1.65898464e+12 1.83393742e+16 8.18349834e+23\n",
            " 1.60914772e+18 3.38390464e+22 5.00391395e+28 1.13192185e+27\n",
            " 1.38022849e+10 1.76094190e+22 9.00714666e+22 2.58134037e+19\n",
            " 1.22123483e+21 6.82649945e+21 1.02197541e+29 5.90808653e+17\n",
            " 2.35540794e+27 3.26786560e+13 1.70796751e+22 3.17221706e+26\n",
            " 6.32965197e+21 2.14925341e+28 5.71057525e+15 1.47015904e+19\n",
            " 2.86970496e+20 2.90849085e+24 7.93532896e+16 3.13235429e+18\n",
            " 4.15596267e+22 1.73451416e+22 2.55189120e+25 4.45418523e+10\n",
            " 1.93941741e+14 1.37712305e+24 1.86707677e+29 3.35695147e+26\n",
            " 2.75876549e+23 2.78169439e+15 2.66303586e+12 7.83423538e+28\n",
            " 1.45812176e+23 2.26684724e+14 3.38737169e+19 2.69757929e+18\n",
            " 1.32462582e+16 1.40173018e+18 1.07560327e+22 6.76348562e+13\n",
            " 3.18478230e+11 5.12208839e+14 7.23947506e+11 1.90069206e+26\n",
            " 2.88520751e+27 1.03254115e+22 2.69194318e+22 5.25279968e+24\n",
            " 9.34016495e+21 1.23736407e+27 4.97641723e+18 1.13225978e+17\n",
            " 8.12013321e+18 4.85786407e+26 6.49190036e+23 8.50752783e+18\n",
            " 6.29472003e+30 7.61239823e+24 2.94888027e+30 6.54536550e+24]\n"
          ]
        }
      ]
    },
    {
      "cell_type": "code",
      "source": [],
      "metadata": {
        "id": "G2q5-EZ7GJ9D"
      },
      "execution_count": null,
      "outputs": []
    }
  ]
}