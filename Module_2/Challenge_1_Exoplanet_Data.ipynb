{
  "cells": [
    {
      "cell_type": "code",
      "execution_count": 1,
      "metadata": {
        "id": "CBa64UjKl1U8",
        "outputId": "1f67ea03-6be3-4c78-a26a-e06784724667",
        "colab": {
          "base_uri": "https://localhost:8080/"
        }
      },
      "outputs": [
        {
          "output_type": "stream",
          "name": "stdout",
          "text": [
            "--2025-06-10 04:37:47--  https://raw.githubusercontent.com/CIERA-Northwestern/REACHpy/main/Module_2/data/exoplanets_subset.txt\n",
            "Resolving raw.githubusercontent.com (raw.githubusercontent.com)... 185.199.108.133, 185.199.109.133, 185.199.110.133, ...\n",
            "Connecting to raw.githubusercontent.com (raw.githubusercontent.com)|185.199.108.133|:443... connected.\n",
            "HTTP request sent, awaiting response... 200 OK\n",
            "Length: 16581 (16K) [text/plain]\n",
            "Saving to: ‘exoplanets_subset.txt’\n",
            "\n",
            "exoplanets_subset.t 100%[===================>]  16.19K  --.-KB/s    in 0s      \n",
            "\n",
            "2025-06-10 04:37:48 (35.2 MB/s) - ‘exoplanets_subset.txt’ saved [16581/16581]\n",
            "\n"
          ]
        }
      ],
      "source": [
        "# Running in Google Colab? Run this cell to download the data\n",
        "!wget https://raw.githubusercontent.com/CIERA-Northwestern/REACHpy/main/Module_2/data/exoplanets_subset.txt\n",
        "\n",
        "# If you're not running in Colab, this file should be in the data directory.\n",
        "# Change the loading path of the file to include 'data/' when the file is loaded"
      ]
    },
    {
      "cell_type": "markdown",
      "metadata": {
        "id": "ceKmNNxml1U8"
      },
      "source": [
        "# Challenge 1 | Using Python to Analyze and Plot Exoplanet Data\n",
        "\n",
        "## Section 1: Background\n",
        "\n",
        "In the last several years, the Kepler telescope has provided a wealth of data on new exoplanets, not to mention the exoplanets detected previously with other methods and other telescopes. It's a gold mine of data to be explored by astronomers who want to better understand the properties of these planets, such as their sizes, masses, and orbital periods around their host stars.\n",
        "\n",
        "Here you'll work with a subset of exoplanet data to make a plot similar to the one shown below (Credit: NASA Ames/W. Stenzel). While astronomers have been finding exoplanets since the 1990s, the __[Kepler Mission](https://www.nasa.gov/mission_pages/kepler/overview/index.html)__ has led to an explosion of new expoplanet detections. The Kepler telescope detects planets in a special way called the transit method, whereby it monitors the brightness of stars, and watches for dips in the brightness that occur when a planet transits, or passes in front of, the star. While these brightness dips are incredibly small, Kepler can measure stars' brightness precisely to capture these transit events.\n",
        "\n",
        "![Kepler Planet Candidates](https://github.com/mcstroh/REACHpy/blob/ideaspy_updates/Module_2/images/Kepler_planets.jpg?raw=1)\n",
        "\n",
        "Several alternative methods exist for detecting planets, and to date, all method combined, astronomers have detected more than 4700 confirmed exoplanets.\n",
        "\n",
        "The __[Open Exoplanet Catalogue](http://www.openexoplanetcatalogue.com/)__ is a catalogue of all discovered exoplanets, and is available to the public and can be accessed from your browser or downloaded from Github. For this challenge, we've collected a sample of exoplanet data that you'll use to explore the sizes and orbital periods of a subset of these exoplanets.\n",
        "\n",
        "To complete this challenge, you will:\n",
        "\n",
        " - Create and work with Python lists.\n",
        " - Read in and parse data to put it into a useful format.\n",
        " - Define your own functions and modules, which helps you to keep your code readable and organized.\n",
        " - Create simple plots using the plotting package matplotlib.\n",
        "\n",
        "You will work with exoplanet data to study the radii and orbital periods around the host stars. We'll need to read in the data from a file, parse the data to extract what we need, write a function to do some unit conversions, and make a couple of plots."
      ]
    },
    {
      "cell_type": "markdown",
      "source": [
        "## Section 2: Read and parse data\n",
        "\n",
        "The file you're using contains comments at the start of the file. We are interested in the *planetary radius* and *orbital period*.\n",
        "\n",
        "Instead of using Python to read in the file, we will first use a Unix command `cat` to browse the entire file. Run the next cell and use the output to figure out which columns are important.\n",
        "\n",
        "If you are not using Google Colab, you can instead open this file using your favorite text editor."
      ],
      "metadata": {
        "id": "-pQTKMc039BQ"
      }
    },
    {
      "cell_type": "code",
      "source": [
        "# Use the following command to see the first 20 lines of the file we're using. - This not Python\n",
        "!head -20 exoplanets_subset.txt"
      ],
      "metadata": {
        "id": "64OsT4Ub3mPc",
        "outputId": "b7c79d44-b377-48da-d10f-cb4bf3bd0c13",
        "colab": {
          "base_uri": "https://localhost:8080/"
        }
      },
      "execution_count": 2,
      "outputs": [
        {
          "output_type": "stream",
          "name": "stdout",
          "text": [
            "# This data is taken from the Open Exoplanet Catalogue\n",
            "# https://github.com/hannorein/open_exoplanet_catalogue\n",
            "#\n",
            "# The data included below is a subset of the full dataset, and includes \n",
            "# ONLY those systems which contain non-null entries for the five quantities below\n",
            "#\n",
            "# Columns:\n",
            "#\n",
            "#  1: Planetary mass [Jupiter masses]  \n",
            "#  2: Radius [Jupiter radii]\n",
            "#  3: Period [days] \n",
            "#  4: Discovery method\n",
            "#  5: Discovery year\n",
            "#\n",
            "0.0014 0.054 0.1768913 transit 2012\n",
            "0.25 0.84 19.22418 transit 2010\n",
            "0.17 0.82 39.03106 transit 2010\n",
            "0.022 0.147 1.592851 transit 2010\n",
            "0.6 1.24 3.372650 transit 2016\n",
            "1.24 1.67 2.705782 transit 2013\n"
          ]
        }
      ]
    },
    {
      "cell_type": "markdown",
      "source": [
        "Now read in the file using the `numpy.loadtxt()` introduced in Section 2. You may want to use the `usecols` keyword to only read in certain columns."
      ],
      "metadata": {
        "id": "F1wrZR-K63yY"
      }
    },
    {
      "cell_type": "code",
      "execution_count": 4,
      "metadata": {
        "id": "kQj837L5l1U8"
      },
      "outputs": [],
      "source": [
        "# Open and read all lines using NumPy.\n",
        "import numpy as np\n",
        "data = np.loadtxt('exoplanets_subset.txt', usecols=(1,2))"
      ]
    },
    {
      "cell_type": "markdown",
      "source": [
        "Create two arrays where one contains the planetary radii, and another that stores the orbital periods."
      ],
      "metadata": {
        "id": "lLESjdRW7asw"
      }
    },
    {
      "cell_type": "code",
      "execution_count": 11,
      "metadata": {
        "id": "vqHE4BzEl1U8"
      },
      "outputs": [],
      "source": [
        "# Create the two arrays\n",
        "radii = data[:,0]\n",
        "periods = data[:,1]"
      ]
    },
    {
      "cell_type": "markdown",
      "metadata": {
        "id": "_OoRlkrRl1U8"
      },
      "source": [
        "## Section 3: Creating Figures"
      ]
    },
    {
      "cell_type": "markdown",
      "source": [
        "Create a histogram of the planetary radii. Twenty bins is a good starting value for your histogram."
      ],
      "metadata": {
        "id": "E4HB4QFh728k"
      }
    },
    {
      "cell_type": "code",
      "source": [
        "# Create your histogram\n",
        "import matplotlib.pyplot as plt\n",
        "bins = 20\n",
        "plt.hist(radii, bins)"
      ],
      "metadata": {
        "id": "c13AWXy88NFw",
        "outputId": "404a09bc-5a23-435a-c9c5-e654cc7e81f6",
        "colab": {
          "base_uri": "https://localhost:8080/",
          "height": 551
        }
      },
      "execution_count": 7,
      "outputs": [
        {
          "output_type": "execute_result",
          "data": {
            "text/plain": [
              "(array([35., 34., 22., 15.,  7., 10.,  9., 14., 19., 45., 50., 58., 48.,\n",
              "        37., 27.,  8., 17.,  8.,  3.,  6.]),\n",
              " array([0.04757  , 0.1470415, 0.246513 , 0.3459845, 0.445456 , 0.5449275,\n",
              "        0.644399 , 0.7438705, 0.843342 , 0.9428135, 1.042285 , 1.1417565,\n",
              "        1.241228 , 1.3406995, 1.440171 , 1.5396425, 1.639114 , 1.7385855,\n",
              "        1.838057 , 1.9375285, 2.037    ]),\n",
              " <BarContainer object of 20 artists>)"
            ]
          },
          "metadata": {},
          "execution_count": 7
        },
        {
          "output_type": "display_data",
          "data": {
            "text/plain": [
              "<Figure size 640x480 with 1 Axes>"
            ],
            "image/png": "[encoded data removed]"
          },
          "metadata": {}
        }
      ]
    },
    {
      "cell_type": "markdown",
      "source": [
        "Create a figure with the planetary radii (y-axis) versus the orbital period (x-axis). Use dots as your marker symbols, and do not connect the data points with lines (it would be meaningless here)."
      ],
      "metadata": {
        "id": "Bu5O-yp58Pxo"
      }
    },
    {
      "cell_type": "code",
      "source": [
        "# Create your planetary radii versus orbital period figure\n",
        "plt.scatter(periods, radii, marker='.')\n",
        "plt.xlabel('Orbital Period (days)')\n",
        "plt.ylabel('Planetary Radius (Earth radii)')\n",
        "plt.title('Planetary Radii vs. Orbital Period')"
      ],
      "metadata": {
        "id": "LbADnLFN8iuI",
        "collapsed": true,
        "outputId": "2f518fc3-8b24-47a5-8dae-310cdaf06091",
        "colab": {
          "base_uri": "https://localhost:8080/",
          "height": 489
        }
      },
      "execution_count": 9,
      "outputs": [
        {
          "output_type": "execute_result",
          "data": {
            "text/plain": [
              "Text(0.5, 1.0, 'Planetary Radii vs. Orbital Period')"
            ]
          },
          "metadata": {},
          "execution_count": 9
        },
        {
          "output_type": "display_data",
          "data": {
            "text/plain": [
              "<Figure size 640x480 with 1 Axes>"
            ],
            "image/png": "[encoded data removed]"
          },
          "metadata": {}
        }
      ]
    },
    {
      "cell_type": "markdown",
      "source": [
        "Make sure you've used appropriate x- and y-labels to each of the figures you created. The figure in Section 1 used logarithmic scaling on the x- and y-axes. Use `plt.xscale('log')` and `plt.yscale('log')` to obtain a similar scaling."
      ],
      "metadata": {
        "id": "uyrWZgXL8mjc"
      }
    }
  ],
  "metadata": {
    "kernelspec": {
      "display_name": "Python 3",
      "language": "python",
      "name": "python3"
    },
    "language_info": {
      "codemirror_mode": {
        "name": "ipython",
        "version": 3
      },
      "file_extension": ".py",
      "mimetype": "text/x-python",
      "name": "python",
      "nbconvert_exporter": "python",
      "pygments_lexer": "ipython3",
      "version": "3.8.5"
    },
    "colab": {
      "provenance": []
    }
  },
  "nbformat": 4,
  "nbformat_minor": 0
}