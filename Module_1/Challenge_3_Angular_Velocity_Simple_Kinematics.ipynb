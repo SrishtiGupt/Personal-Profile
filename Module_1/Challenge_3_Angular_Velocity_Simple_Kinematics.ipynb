{
  "cells": [
    {
      "cell_type": "markdown",
      "metadata": {
        "id": "kzycpa7X7GEE"
      },
      "source": [
        "# Challenge 3 | Using Python to Analyze Seismic Data On Mars\n",
        "\n",
        "Imagine you are a planetary scientist, trying to get some rest after a long day of potato farming on Mars. Your alarm starts buzzing, and you check your email to find that a meteorite has just impacted, causing the equivalent shaking of a magnitude 5.7 earthquake. Your main research interest involves using data collected from instruments all over Mars to determine whether the crust of the northern hemisphere is as thick as that of the southern hemisphere.  You jump out of bed, ready to begin processing the new data, and be the first to map structural differences within Mars' interior.\n",
        "\n",
        "In this module, you'll be working toward calculating the theoretical travel times of seismic waves radiating away from a hypothetical meteorite impact on Mars. We'll focus on _surface waves_, known as Rayleigh waves, which represent seismic energy trapped primarily in the surface layer of the planet. These waves are the strongest, but the slowest traveling, among the various seismic waves that are released from the impact (such as P- and S-waves). The diagram below illustrates the different strengths, speeds, and paths of these three different types of seismic waves.\n",
        "\n",
        "![Seismic waves](https://github.com/CIERA-Northwestern/REACHpy/blob/ideaspy_updates/Module_1/images/waves.jpg?raw=1)\n",
        "\n",
        "The speeds at which these waves travel depends on the composition of the planet they're passing through. Therefore, the arrival time differences between P, S, and Rayleigh waves, hold critical information on the state of the subsurface of the planet.\n",
        "\n",
        "While you won't yet be analyzing real data in this challenge, you'll be building a starter code that has the basic elements that would be needed to analyze data from this meteorite impact. Specifically, in this challenge you'll do the following:\n",
        "\n",
        "> - Use Python interactively<br>\n",
        "> - Perform basic mathematical operations<br>\n",
        "> - Define and use variables and equations<br>\n",
        "> - Use different data types<br>\n",
        "> - Print and format output<br>\n",
        "> - Create while loops<br>\n",
        "> - Create and execute your first standalone Python program<br>\n",
        "\n",
        "\n",
        "Since we're trying to calculate the theoretical travel times of the surface waves radiating away from the impact, we'll need to write a code that can compute the travel time for a wave that has traveled for any arbitrary distance, based on the properties of these surface waves. Then, we'll want our code to be able to loop over a series of provided distances, finally printing out a list of the theoretical travel times. And now, you've got the skills to do just that!\n",
        "\n"
      ]
    },
    {
      "cell_type": "markdown",
      "metadata": {
        "id": "B-QQs0W17GEE"
      },
      "source": [
        "## The Physics\n",
        "\n",
        "To compute the theoretical travel time, you just need this simple equation:\n",
        "\n",
        "$t=\\frac{d \\, \\times \\, kpd}{v}$\n",
        "\n",
        "Let's define each of these variables:\n",
        "\n",
        "> - $t$ is the theoretical travel time of the wave in seconds<br>\n",
        "><br>\n",
        "> - $d$ is the angular distance in degrees from the origin of the impact to the detector<br>\n",
        "><br>\n",
        "> - $kpd$ is a conversion factor from (km per degree): $kpd=\\frac{\\pi R}{180}$<br>\n",
        "><br>\n",
        "> - $R$ (above) is the average radius of the Mars:  $R = 3390$ km<br>\n",
        "><br>\n",
        "> - $v$ is the average velocity of the surface waves through the Mars in km/sec<br>\n",
        "><br>\n",
        "\n",
        "\n",
        "If you think about the units of these quantities, the equation should make sense.\n",
        "\n",
        "## Build Your Code"
      ]
    },
    {
      "cell_type": "markdown",
      "metadata": {
        "id": "nHK3pK_s7GEE"
      },
      "source": [
        "Set the variables needed (the constants in this problem) in the cell below:\n",
        "> - Assume the average radius of Mars, R,  3390.0 (km)<br>\n",
        "> - Assume average surface-wave velocity v = 4 (km/s)<br>\n",
        "> - Set the conversion factor kpd<br>\n",
        "> - Convert angular distances between degrees to kilometers<br>"
      ]
    },
    {
      "cell_type": "code",
      "execution_count": 1,
      "metadata": {
        "id": "eCcJwAOS7GEE"
      },
      "outputs": [],
      "source": [
        "import numpy as np\n",
        "R = 3390.0  # km\n",
        "v = 4.0  # km/s\n",
        "kpd = (np.pi * R) / 180.0 # km/degree"
      ]
    },
    {
      "cell_type": "markdown",
      "metadata": {
        "id": "GmNUEMTx7GEE"
      },
      "source": [
        "Write an equation to calculate the travel time of a surface wave travel time, t, in seconds for a distance of 10 degrees in the cell below:"
      ]
    },
    {
      "cell_type": "code",
      "execution_count": 2,
      "metadata": {
        "id": "eBlM4wLa7GEE",
        "outputId": "c92d89f1-aa04-4d07-c7f9-b8ee9519f849",
        "colab": {
          "base_uri": "https://localhost:8080/"
        }
      },
      "outputs": [
        {
          "output_type": "stream",
          "name": "stdout",
          "text": [
            "The theoretical travel time for a distance of 10.0 degrees is 147.91665410651942 seconds.\n"
          ]
        }
      ],
      "source": [
        "d = 10.0\n",
        "t = (d * kpd) / v\n",
        "print(f\"The theoretical travel time for a distance of {d} degrees is {t} seconds.\")"
      ]
    },
    {
      "cell_type": "markdown",
      "metadata": {
        "id": "i31n9DeM7GEE"
      },
      "source": [
        "Print both the distance d, and the travel time t, on the same line, for all\n",
        "distances 0 through 100 degrees."
      ]
    },
    {
      "cell_type": "code",
      "execution_count": 3,
      "metadata": {
        "id": "fjnxJDTf7GEE",
        "outputId": "5a36665e-fdba-4bd2-cda9-df46b84392a1",
        "colab": {
          "base_uri": "https://localhost:8080/"
        }
      },
      "outputs": [
        {
          "output_type": "stream",
          "name": "stdout",
          "text": [
            "Distance: 0.0 degrees, Travel Time: 0.0 seconds\n",
            "Distance: 1.0 degrees, Travel Time: 14.791665410651943 seconds\n",
            "Distance: 2.0 degrees, Travel Time: 29.583330821303885 seconds\n",
            "Distance: 3.0 degrees, Travel Time: 44.374996231955826 seconds\n",
            "Distance: 4.0 degrees, Travel Time: 59.16666164260777 seconds\n",
            "Distance: 5.0 degrees, Travel Time: 73.95832705325971 seconds\n",
            "Distance: 6.0 degrees, Travel Time: 88.74999246391165 seconds\n",
            "Distance: 7.0 degrees, Travel Time: 103.5416578745636 seconds\n",
            "Distance: 8.0 degrees, Travel Time: 118.33332328521554 seconds\n",
            "Distance: 9.0 degrees, Travel Time: 133.12498869586747 seconds\n",
            "Distance: 10.0 degrees, Travel Time: 147.91665410651942 seconds\n",
            "Distance: 11.0 degrees, Travel Time: 162.70831951717136 seconds\n",
            "Distance: 12.0 degrees, Travel Time: 177.4999849278233 seconds\n",
            "Distance: 13.0 degrees, Travel Time: 192.29165033847525 seconds\n",
            "Distance: 14.0 degrees, Travel Time: 207.0833157491272 seconds\n",
            "Distance: 15.0 degrees, Travel Time: 221.87498115977914 seconds\n",
            "Distance: 16.0 degrees, Travel Time: 236.66664657043108 seconds\n",
            "Distance: 17.0 degrees, Travel Time: 251.45831198108303 seconds\n",
            "Distance: 18.0 degrees, Travel Time: 266.24997739173494 seconds\n",
            "Distance: 19.0 degrees, Travel Time: 281.0416428023869 seconds\n",
            "Distance: 20.0 degrees, Travel Time: 295.83330821303883 seconds\n",
            "Distance: 21.0 degrees, Travel Time: 310.6249736236908 seconds\n",
            "Distance: 22.0 degrees, Travel Time: 325.4166390343427 seconds\n",
            "Distance: 23.0 degrees, Travel Time: 340.20830444499467 seconds\n",
            "Distance: 24.0 degrees, Travel Time: 354.9999698556466 seconds\n",
            "Distance: 25.0 degrees, Travel Time: 369.79163526629856 seconds\n",
            "Distance: 26.0 degrees, Travel Time: 384.5833006769505 seconds\n",
            "Distance: 27.0 degrees, Travel Time: 399.37496608760244 seconds\n",
            "Distance: 28.0 degrees, Travel Time: 414.1666314982544 seconds\n",
            "Distance: 29.0 degrees, Travel Time: 428.95829690890633 seconds\n",
            "Distance: 30.0 degrees, Travel Time: 443.7499623195583 seconds\n",
            "Distance: 31.0 degrees, Travel Time: 458.5416277302102 seconds\n",
            "Distance: 32.0 degrees, Travel Time: 473.33329314086217 seconds\n",
            "Distance: 33.0 degrees, Travel Time: 488.1249585515141 seconds\n",
            "Distance: 34.0 degrees, Travel Time: 502.91662396216606 seconds\n",
            "Distance: 35.0 degrees, Travel Time: 517.708289372818 seconds\n",
            "Distance: 36.0 degrees, Travel Time: 532.4999547834699 seconds\n",
            "Distance: 37.0 degrees, Travel Time: 547.2916201941218 seconds\n",
            "Distance: 38.0 degrees, Travel Time: 562.0832856047738 seconds\n",
            "Distance: 39.0 degrees, Travel Time: 576.8749510154257 seconds\n",
            "Distance: 40.0 degrees, Travel Time: 591.6666164260777 seconds\n",
            "Distance: 41.0 degrees, Travel Time: 606.4582818367296 seconds\n",
            "Distance: 42.0 degrees, Travel Time: 621.2499472473816 seconds\n",
            "Distance: 43.0 degrees, Travel Time: 636.0416126580335 seconds\n",
            "Distance: 44.0 degrees, Travel Time: 650.8332780686854 seconds\n",
            "Distance: 45.0 degrees, Travel Time: 665.6249434793374 seconds\n",
            "Distance: 46.0 degrees, Travel Time: 680.4166088899893 seconds\n",
            "Distance: 47.0 degrees, Travel Time: 695.2082743006413 seconds\n",
            "Distance: 48.0 degrees, Travel Time: 709.9999397112932 seconds\n",
            "Distance: 49.0 degrees, Travel Time: 724.7916051219452 seconds\n",
            "Distance: 50.0 degrees, Travel Time: 739.5832705325971 seconds\n",
            "Distance: 51.0 degrees, Travel Time: 754.374935943249 seconds\n",
            "Distance: 52.0 degrees, Travel Time: 769.166601353901 seconds\n",
            "Distance: 53.0 degrees, Travel Time: 783.958266764553 seconds\n",
            "Distance: 54.0 degrees, Travel Time: 798.7499321752049 seconds\n",
            "Distance: 55.0 degrees, Travel Time: 813.5415975858568 seconds\n",
            "Distance: 56.0 degrees, Travel Time: 828.3332629965088 seconds\n",
            "Distance: 57.0 degrees, Travel Time: 843.1249284071607 seconds\n",
            "Distance: 58.0 degrees, Travel Time: 857.9165938178127 seconds\n",
            "Distance: 59.0 degrees, Travel Time: 872.7082592284646 seconds\n",
            "Distance: 60.0 degrees, Travel Time: 887.4999246391166 seconds\n",
            "Distance: 61.0 degrees, Travel Time: 902.2915900497685 seconds\n",
            "Distance: 62.0 degrees, Travel Time: 917.0832554604204 seconds\n",
            "Distance: 63.0 degrees, Travel Time: 931.8749208710724 seconds\n",
            "Distance: 64.0 degrees, Travel Time: 946.6665862817243 seconds\n",
            "Distance: 65.0 degrees, Travel Time: 961.4582516923763 seconds\n",
            "Distance: 66.0 degrees, Travel Time: 976.2499171030282 seconds\n",
            "Distance: 67.0 degrees, Travel Time: 991.0415825136802 seconds\n",
            "Distance: 68.0 degrees, Travel Time: 1005.8332479243321 seconds\n",
            "Distance: 69.0 degrees, Travel Time: 1020.6249133349841 seconds\n",
            "Distance: 70.0 degrees, Travel Time: 1035.416578745636 seconds\n",
            "Distance: 71.0 degrees, Travel Time: 1050.208244156288 seconds\n",
            "Distance: 72.0 degrees, Travel Time: 1064.9999095669398 seconds\n",
            "Distance: 73.0 degrees, Travel Time: 1079.7915749775918 seconds\n",
            "Distance: 74.0 degrees, Travel Time: 1094.5832403882437 seconds\n",
            "Distance: 75.0 degrees, Travel Time: 1109.3749057988957 seconds\n",
            "Distance: 76.0 degrees, Travel Time: 1124.1665712095476 seconds\n",
            "Distance: 77.0 degrees, Travel Time: 1138.9582366201996 seconds\n",
            "Distance: 78.0 degrees, Travel Time: 1153.7499020308514 seconds\n",
            "Distance: 79.0 degrees, Travel Time: 1168.5415674415035 seconds\n",
            "Distance: 80.0 degrees, Travel Time: 1183.3332328521553 seconds\n",
            "Distance: 81.0 degrees, Travel Time: 1198.1248982628074 seconds\n",
            "Distance: 82.0 degrees, Travel Time: 1212.9165636734592 seconds\n",
            "Distance: 83.0 degrees, Travel Time: 1227.7082290841113 seconds\n",
            "Distance: 84.0 degrees, Travel Time: 1242.499894494763 seconds\n",
            "Distance: 85.0 degrees, Travel Time: 1257.2915599054152 seconds\n",
            "Distance: 86.0 degrees, Travel Time: 1272.083225316067 seconds\n",
            "Distance: 87.0 degrees, Travel Time: 1286.874890726719 seconds\n",
            "Distance: 88.0 degrees, Travel Time: 1301.666556137371 seconds\n",
            "Distance: 89.0 degrees, Travel Time: 1316.458221548023 seconds\n",
            "Distance: 90.0 degrees, Travel Time: 1331.2498869586748 seconds\n",
            "Distance: 91.0 degrees, Travel Time: 1346.0415523693268 seconds\n",
            "Distance: 92.0 degrees, Travel Time: 1360.8332177799787 seconds\n",
            "Distance: 93.0 degrees, Travel Time: 1375.6248831906307 seconds\n",
            "Distance: 94.0 degrees, Travel Time: 1390.4165486012826 seconds\n",
            "Distance: 95.0 degrees, Travel Time: 1405.2082140119346 seconds\n",
            "Distance: 96.0 degrees, Travel Time: 1419.9998794225864 seconds\n",
            "Distance: 97.0 degrees, Travel Time: 1434.7915448332385 seconds\n",
            "Distance: 98.0 degrees, Travel Time: 1449.5832102438903 seconds\n",
            "Distance: 99.0 degrees, Travel Time: 1464.3748756545424 seconds\n",
            "Distance: 100.0 degrees, Travel Time: 1479.1665410651942 seconds\n"
          ]
        }
      ],
      "source": [
        "d = 0.0\n",
        "while d <= 100.0:\n",
        "  t = (d * kpd) / v\n",
        "  print(f\"Distance: {d} degrees, Travel Time: {t} seconds\")\n",
        "  d += 1.0"
      ]
    },
    {
      "cell_type": "markdown",
      "metadata": {
        "id": "OFy6perY7GEE"
      },
      "source": [
        "## Check Your Code\n",
        "\n",
        "To make sure your code is producing the right values:\n",
        "> - Set your variable used to represent the degrees between the impact and seismic station to 65 degrees<br>\n",
        "> - Your code should produce a surface-wave travel time of about 961 seconds <br>\n"
      ]
    }
  ],
  "metadata": {
    "kernelspec": {
      "display_name": "Python 3",
      "language": "python",
      "name": "python3"
    },
    "language_info": {
      "codemirror_mode": {
        "name": "ipython",
        "version": 3
      },
      "file_extension": ".py",
      "mimetype": "text/x-python",
      "name": "python",
      "nbconvert_exporter": "python",
      "pygments_lexer": "ipython3",
      "version": "3.8.5"
    },
    "colab": {
      "name": "Challenge_3_Angular_Velocity_Simple_Kinematics.ipynb",
      "provenance": []
    }
  },
  "nbformat": 4,
  "nbformat_minor": 0
}