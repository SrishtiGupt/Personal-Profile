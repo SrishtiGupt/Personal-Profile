{
  "cells": [
    {
      "cell_type": "markdown",
      "metadata": {
        "id": "B_G4eNaH7eek"
      },
      "source": [
        "# Challenge 1: Calculating the Mass of The Sun\n",
        "\n",
        "## Section 2.0: Background\n",
        "One of the most important relationships in astronomy is Kepler's laws of planetary motion. These relationships allow us to calculate the masses of astronomical objects. Kepler's third law relates the period, orbital distance, and masses of two objects:\n",
        "\n",
        "\\begin{equation}\n",
        "P^2 = \\frac{4 \\pi^2}{G (m_1 + m_2)} a^3\n",
        "\\end{equation}\n",
        "\n",
        "\n",
        "- $G$ is Newton's constant of gravitation,\n",
        "- $m_1$ and $m_2$ are the masses of the two bodies orbiting eachother,\n",
        "- $P$ is the period of their orbit, and\n",
        "- $a$ is the distance between the two objects.\n",
        "\n",
        "In the case of our Solar System, the mass of the Sun is significantly greater than the mass of any of the planets (i.e. $m_1 + m_2 \\approx m_1$), thus we can reduce the equation to:\n",
        "\n",
        "\\begin{equation}\n",
        "P^2 = \\frac{4 \\pi^2}{G \\, M} a^3,\n",
        "\\end{equation}\n",
        "\n",
        "where $M$ is the mass of the larger object.\n",
        "\n",
        "Since we know the periods and orbital separations for all of the planets, we use can calculate the mass of the object being orbited, i.e. the Sun."
      ]
    },
    {
      "cell_type": "markdown",
      "source": [
        "## Section 2.1.0: Calculating the Mass of the Sun"
      ],
      "metadata": {
        "id": "PejRM2ORfzoQ"
      }
    },
    {
      "cell_type": "markdown",
      "metadata": {
        "id": "DJE2zLO-7eek"
      },
      "source": [
        "First, pick your favorite planet. Look up its:\n",
        " - orbital period,\n",
        " - distance from the Sun (i.e. their \"semi-major axis\"), and\n",
        " - the Newtonian constant of gravitation, $G$.\n",
        "\n",
        "In the next cell, define variables using the values you looked-up. If any values are not already using SI units, perform unit conversions until all values are in SI."
      ]
    },
    {
      "cell_type": "code",
      "execution_count": 3,
      "metadata": {
        "id": "Dm_gg8Ha7eek"
      },
      "outputs": [],
      "source": [
        "import numpy as np\n",
        "\n",
        "# Orbital period of Earth (in seconds)\n",
        "P = 365.25 * 24 * 60 * 60\n",
        "\n",
        "# Semi-major axis of Earth (in meters)\n",
        "a = 1.496e11\n",
        "\n",
        "# Gravitational constant (in N m^2 / kg^2)\n",
        "G = 6.67430e-11"
      ]
    },
    {
      "cell_type": "markdown",
      "metadata": {
        "id": "bWz4S9vr7eek"
      },
      "source": [
        "Calculate the mass of the Sun."
      ]
    },
    {
      "cell_type": "code",
      "execution_count": 4,
      "metadata": {
        "id": "3cKbYPey7eek",
        "outputId": "86e9ac0e-3c33-4632-df57-5947bfb88868",
        "colab": {
          "base_uri": "https://localhost:8080/"
        }
      },
      "outputs": [
        {
          "output_type": "stream",
          "name": "stdout",
          "text": [
            "Mass of the Sun: 1.98856989105232e+30 kg\n"
          ]
        }
      ],
      "source": [
        "# Rearranging the equation: M = (4 * pi^2 * a^3) / (G * P^2)\n",
        "M_sun = (4 * np.pi**2 * a**3) / (G * P**2)"
      ]
    },
    {
      "cell_type": "markdown",
      "metadata": {
        "id": "s42_TUt87eek"
      },
      "source": [
        "Print out the mass you calculated with units:"
      ]
    },
    {
      "cell_type": "code",
      "execution_count": 5,
      "metadata": {
        "id": "-js5wqxl7eek",
        "outputId": "3ff3c463-6509-49ad-e874-9a8033b0e101",
        "colab": {
          "base_uri": "https://localhost:8080/"
        }
      },
      "outputs": [
        {
          "output_type": "stream",
          "name": "stdout",
          "text": [
            "Mass of the Sun: 1.98856989105232e+30 kg\n"
          ]
        }
      ],
      "source": [
        "print(f\"Mass of the Sun: {M_sun} kg\")"
      ]
    },
    {
      "cell_type": "markdown",
      "source": [
        "## Section 2.1.1: Choosing Another Planet"
      ],
      "metadata": {
        "id": "wtcnYu9uf7S4"
      }
    },
    {
      "cell_type": "markdown",
      "metadata": {
        "id": "s-3RMU2l7eek"
      },
      "source": [
        "Choose another planet in the Solar System, and repeat the calculation."
      ]
    },
    {
      "cell_type": "code",
      "execution_count": 6,
      "metadata": {
        "id": "uxx0IvPM7eek"
      },
      "outputs": [],
      "source": [
        "import numpy as np\n",
        "\n",
        "# Using Mars\n",
        "# Orbital period of Mars (in seconds)\n",
        "P_mars = 687 * 24 * 60 * 60\n",
        "\n",
        "# Semi-major axis of Mars (in meters)\n",
        "a_mars = 2.279e11\n",
        "\n",
        "# Gravitational constant (in N m^2 / kg^2)\n",
        "G = 6.67430e-11"
      ]
    },
    {
      "cell_type": "markdown",
      "source": [
        "Do you get the same answer?"
      ],
      "metadata": {
        "id": "OikKvt5bfEPc"
      }
    },
    {
      "cell_type": "code",
      "source": [
        "# Calculate the mass of the Sun using Mars' orbital data\n",
        "M_sun_mars = (4 * np.pi**2 * a_mars**3) / (G * P_mars**2)\n",
        "\n",
        "# Print out the mass you calculated with units:\n",
        "print(f\"Mass of the Sun (using Mars): {M_sun_mars} kg\")\n",
        "\n",
        "#the answers are slightly different"
      ],
      "metadata": {
        "id": "q237Cq4RfIAE",
        "outputId": "6692920e-ac87-488a-b5ec-8066e5619a6e",
        "colab": {
          "base_uri": "https://localhost:8080/"
        }
      },
      "execution_count": 7,
      "outputs": [
        {
          "output_type": "stream",
          "name": "stdout",
          "text": [
            "Mass of the Sun (using Mars): 1.9872203666521353e+30 kg\n"
          ]
        }
      ]
    },
    {
      "cell_type": "markdown",
      "source": [
        "## Section 2.2: Calculating the Mass of Jupiter"
      ],
      "metadata": {
        "id": "5sOLMY5jfr3Y"
      }
    },
    {
      "cell_type": "markdown",
      "metadata": {
        "id": "PyvLQlJk7eek"
      },
      "source": [
        "Kepler's laws are universal, and thus can be measure the mass of any object being orbited by something else.\n",
        "\n",
        "Measuring the mass of Jupiter. Look up the separation and period of one of Jupiter's moons and use Kepler's third law to calculate the mass of Jupiter."
      ]
    },
    {
      "cell_type": "code",
      "execution_count": 10,
      "metadata": {
        "id": "nYd6gf697eek",
        "outputId": "7e638454-b6bc-494f-ffd5-519cb4f3c977",
        "colab": {
          "base_uri": "https://localhost:8080/"
        }
      },
      "outputs": [
        {
          "output_type": "stream",
          "name": "stdout",
          "text": [
            "Mass of Jupiter (using Io): 1.8988106780388832e+27 kg\n"
          ]
        }
      ],
      "source": [
        "# Using Jupiter's moon Io\n",
        "# Orbital period of Io (in seconds) - 1.769 Earth days\n",
        "P_io = 1.769 * 24 * 60 * 60\n",
        "\n",
        "# Semi-major axis of Io (in meters) - 421,700 km\n",
        "a_io = 421.7e6\n",
        "\n",
        "# Calculate the mass of Jupiter using Io's orbital data\n",
        "# Assuming Mass of Io is much smaller than Mass of Jupiter (m1 + m2 ≈ m1)\n",
        "M_jupiter = (4 * np.pi**2 * a_io**3) / (G * P_io**2)\n",
        "\n",
        "# Print out the mass you calculated with units:\n",
        "print(f\"Mass of Jupiter (using Io): {M_jupiter} kg\")"
      ]
    },
    {
      "cell_type": "markdown",
      "source": [
        "## Section 2.3 Calculating the Mass of a Supermassive Black Hole"
      ],
      "metadata": {
        "id": "lH60Fc_zgUDQ"
      }
    },
    {
      "cell_type": "markdown",
      "metadata": {
        "id": "ILbfugNp7eek"
      },
      "source": [
        "Orbits of stars in the center of the Milky Way point to the existance of a supermassive black hole.\n",
        "\n",
        "![Galactic center orbits](https://github.com/CIERA-Northwestern/REACHpy/blob/main/Module_1/images/1280px-Galactic_centre_orbits.png?raw=1)\n",
        "\n",
        "How massive is the object that they are orbiting?\n",
        "\n",
        "Look-up the period and distance (i.e. semi-major axis) of the star S2, and calculate the mass of that object. [Here is the Wikipedia page for S2](https://en.wikipedia.org/wiki/S2_(star)).\n",
        "\n",
        "Convert the semi-major axis from arcseconds (\") to radians. There are 3600 arcseconds in a degree and 180 degrees in $\\pi$ radians.\n",
        "\n",
        "We can convert the semi-major axis from radians to parsecs. Multiply the angle between the S2 and the object it orbits (in radians) by the distance to the source from us (in parsecs). This is referred to as the small angle approximation, but we will not cover the details in this Challenge problem. You should then convert from parsecs to SI units.\n",
        "\n",
        "Finally, calculate the mass of object being orbited in SI units."
      ]
    },
    {
      "cell_type": "code",
      "execution_count": 13,
      "metadata": {
        "id": "vV1-Djx47eek",
        "outputId": "8db77482-b51c-4f30-fdb7-2ce518e72523",
        "colab": {
          "base_uri": "https://localhost:8080/"
        }
      },
      "outputs": [
        {
          "output_type": "stream",
          "name": "stdout",
          "text": [
            "Mass of the central object (using S2): 8.161333658814629e+33 kg\n"
          ]
        }
      ],
      "source": [
        "# From Wikipedia page for S2:\n",
        "# Period of S2 (in years)\n",
        "P_s2_years = 16.0518\n",
        "\n",
        "# Semi-major axis of S2 (in milliarcseconds)\n",
        "a_s2_mas = 12.458\n",
        "\n",
        "# Distance to the Galactic center (in parsecs)\n",
        "d_galactic_center_pc = 8.178e3 # from another reliable source for galactic center distance\n",
        "\n",
        "# Convert period from years to seconds\n",
        "P_s2 = P_s2_years * 365.25 * 24 * 60 * 60\n",
        "\n",
        "# Convert semi-major axis from milliarcseconds to arcseconds\n",
        "a_s2_arcsec = a_s2_mas / 1000\n",
        "\n",
        "# Convert semi-major axis from arcseconds to radians\n",
        "a_s2_rad = a_s2_arcsec * (np.pi / (180 * 3600))\n",
        "\n",
        "# Convert semi-major axis from radians to parsecs using small angle approximation\n",
        "a_s2_pc = a_s2_rad * d_galactic_center_pc\n",
        "\n",
        "# Convert semi-major axis from parsecs to meters\n",
        "# 1 parsec = 3.08567758149e16 meters\n",
        "a_s2 = a_s2_pc * 3.08567758149e16\n",
        "\n",
        "# Calculate the mass of the central object (assuming mass of S2 is negligible)\n",
        "M_central = (4 * np.pi**2 * a_s2**3) / (G * P_s2**2)\n",
        "\n",
        "# Print out the mass calculated with units\n",
        "print(f\"Mass of the central object (using S2): {M_central} kg\")"
      ]
    },
    {
      "cell_type": "markdown",
      "metadata": {
        "id": "33sPfsAE7eek"
      },
      "source": [
        "How many Suns does the black hole weigh?"
      ]
    },
    {
      "cell_type": "code",
      "execution_count": 14,
      "metadata": {
        "id": "CExG8Hv37eek",
        "outputId": "fb51e269-806c-40b0-e33e-ede93036ac3d",
        "colab": {
          "base_uri": "https://localhost:8080/"
        }
      },
      "outputs": [
        {
          "output_type": "stream",
          "name": "stdout",
          "text": [
            "The black hole weighs approximately 4104.12 Suns.\n"
          ]
        }
      ],
      "source": [
        "print(f\"The black hole weighs approximately {M_solar_masses:.2f} Suns.\")"
      ]
    },
    {
      "cell_type": "markdown",
      "metadata": {
        "id": "FtGhw_HU7eek"
      },
      "source": [
        "Astronomers often measure masses in terms of the mass of the Sun, because units of grams or kilograms are not easy to interpret with such large numbers. Display the mass of the object at the center of the Milky Way in units of \"Solar masses.\""
      ]
    },
    {
      "cell_type": "code",
      "execution_count": 15,
      "metadata": {
        "id": "Di9nn2f97eek",
        "outputId": "9e919aee-a48b-4305-e992-774f85ed897d",
        "colab": {
          "base_uri": "https://localhost:8080/"
        }
      },
      "outputs": [
        {
          "output_type": "stream",
          "name": "stdout",
          "text": [
            "Mass of the central object (using S2): 4104.12 Solar masses\n"
          ]
        }
      ],
      "source": [
        "M_solar_masses = M_central / M_sun\n",
        "\n",
        "# Print the mass in Solar masses\n",
        "print(f\"Mass of the central object (using S2): {M_solar_masses:.2f} Solar masses\")"
      ]
    },
    {
      "cell_type": "code",
      "source": [],
      "metadata": {
        "id": "gHvjzuh2PKds"
      },
      "execution_count": null,
      "outputs": []
    }
  ],
  "metadata": {
    "kernelspec": {
      "display_name": "Python 3",
      "language": "python",
      "name": "python3"
    },
    "language_info": {
      "codemirror_mode": {
        "name": "ipython",
        "version": 3
      },
      "file_extension": ".py",
      "mimetype": "text/x-python",
      "name": "python",
      "nbconvert_exporter": "python",
      "pygments_lexer": "ipython3",
      "version": "3.8.5"
    },
    "colab": {
      "provenance": []
    }
  },
  "nbformat": 4,
  "nbformat_minor": 0
}