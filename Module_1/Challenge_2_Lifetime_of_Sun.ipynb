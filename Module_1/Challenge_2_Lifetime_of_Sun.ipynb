{
  "cells": [
    {
      "cell_type": "markdown",
      "metadata": {
        "id": "EiAW0Dbs8Kco"
      },
      "source": [
        "# Challenge 2: How Long Do Stars Live?\n",
        "\n",
        "The Sun produces 400 trillion trillion watts of energy every second - that's enough to power our current energy use for 500,000 years! But where does all of that energy come from?"
      ]
    },
    {
      "cell_type": "markdown",
      "source": [
        "## Section 1: Gravitational potential energy"
      ],
      "metadata": {
        "id": "qg9hue3quErM"
      }
    },
    {
      "cell_type": "markdown",
      "source": [
        "In the nineteenth century, this was a major question. Early astronomers assumed that the Sun's energy came from gravitational energy that was stored when a cloud of gas collapsed to form it. Let's estimate how much energy that would be. The gravitational potential energy of the Sun can be estimated from the following equation:\n",
        "\n",
        "\\begin{equation}\n",
        "E = \\frac{3}{5} \\frac{G \\, M^2}{R}.\n",
        "\\end{equation}\n",
        "\n",
        "In this formula\n",
        " - $G$ is the Newtonian constant of gravitation,\n",
        " - $M$ is the mass of the Sun, and\n",
        " - $R$ is the radius of the sun.\n",
        "\n",
        "Calculate the gravitational potential energy of the Sun."
      ],
      "metadata": {
        "id": "gT3LDJi0uDmc"
      }
    },
    {
      "cell_type": "code",
      "execution_count": 1,
      "metadata": {
        "id": "yN15xbZt8Kco",
        "outputId": "4034fb86-e8bd-4f12-9151-f84abdadbede",
        "colab": {
          "base_uri": "https://localhost:8080/"
        }
      },
      "outputs": [
        {
          "output_type": "stream",
          "name": "stdout",
          "text": [
            "E=2.2771152698576966e+41\n"
          ]
        }
      ],
      "source": [
        "G = 6.674e-11  # Newtonian constant of gravitation (N m^2 / kg^2)\n",
        "M = 1.989e30  # Mass of the Sun (kg)\n",
        "R = 6.957e8   # Radius of the Sun (m)\n",
        "\n",
        "E = (3/5) * (G * M**2) / R\n",
        "print(f\"{E=}\")"
      ]
    },
    {
      "cell_type": "markdown",
      "metadata": {
        "id": "swpHXL2E8Kco"
      },
      "source": [
        "The Sun's luminosity (the energy production rate) of $3.839\\times10^{26}$ W (watts). One watt is equal to 1 Joule s$^{-1}$ or 1 kg m$^{2}$ s$^{-3}$. From the gravitational potential energy that you calculated, how long could the Sun radiate energy at its current luminosity? List your answer in years."
      ]
    },
    {
      "cell_type": "code",
      "execution_count": 2,
      "metadata": {
        "id": "nVvnoXcl8Kco",
        "outputId": "ac538211-5c01-428f-9d7b-812e1bcffc2d",
        "colab": {
          "base_uri": "https://localhost:8080/"
        }
      },
      "outputs": [
        {
          "output_type": "stream",
          "name": "stdout",
          "text": [
            "time_in_years=18795891.803573046\n"
          ]
        }
      ],
      "source": [
        "L = 3.839e26  # Sun's luminosity (W)\n",
        "seconds_per_year = 365.25 * 24 * 60 * 60\n",
        "\n",
        "time_in_seconds = E / L\n",
        "time_in_years = time_in_seconds / seconds_per_year\n",
        "\n",
        "print(f\"{time_in_years=}\")"
      ]
    },
    {
      "cell_type": "markdown",
      "source": [
        "The value you calculated is known as the Kelvin-Helmholz timescale.\n",
        "\n",
        "The Earth is 4.5 billion years old. How does the value you calculated compare to the age of the Earth?"
      ],
      "metadata": {
        "id": "HpA11yBwuY9o"
      }
    },
    {
      "cell_type": "code",
      "source": [
        "age_of_earth = 4.5e9  # years\n",
        "\n",
        "print(f\"The Kelvin-Helmholz timescale ({time_in_years:.2e} years) is significantly shorter than the age of the Earth ({age_of_earth:.2e} years).\")\n",
        "print(f\"The Kelvin-Helmholz timescale is approximately {age_of_earth / time_in_years:.2f} times shorter than the age of the Earth.\")"
      ],
      "metadata": {
        "id": "3_qR4pXst1ic",
        "outputId": "63d01590-8df9-4a47-9d18-c44d31e3580f",
        "colab": {
          "base_uri": "https://localhost:8080/"
        }
      },
      "execution_count": 3,
      "outputs": [
        {
          "output_type": "stream",
          "name": "stdout",
          "text": [
            "The Kelvin-Helmholz timescale (1.88e+07 years) is significantly shorter than the age of the Earth (4.50e+09 years).\n",
            "The Kelvin-Helmholz timescale is approximately 239.41 times shorter than the age of the Earth.\n"
          ]
        }
      ]
    },
    {
      "cell_type": "markdown",
      "source": [
        "## Section 2: Nuclear energy"
      ],
      "metadata": {
        "id": "GczHRnzJuNyA"
      }
    },
    {
      "cell_type": "markdown",
      "metadata": {
        "id": "zlHGINIO8Kco"
      },
      "source": [
        "Albert Einstein's famous equation, $E = m \\, c^2$, helps solve this problem. Physically, mass can become energy, and energy can become mass. For the Sun, this happens when hydrogen undergos nuclear fusion to create helium.\n",
        "\n",
        "Look up the mass of the hydrogen atom, and the mass of the helium atom. Does four times the mass of the hydrogen atom equal the mass of the helium atom?"
      ]
    },
    {
      "cell_type": "code",
      "execution_count": 4,
      "metadata": {
        "id": "JcEqvDGZ8Kco",
        "outputId": "676610aa-50ff-4f8e-9234-fdebc57be796",
        "colab": {
          "base_uri": "https://localhost:8080/"
        }
      },
      "outputs": [
        {
          "output_type": "stream",
          "name": "stdout",
          "text": [
            "Mass of Hydrogen-1 atom: 1.6735e-27 kg\n",
            "Mass of Helium-4 atom: 6.6465e-27 kg\n",
            "Four times the mass of Hydrogen-1 atom: 6.6941e-27 kg\n",
            "Difference (4 * mass_H - mass_He): 4.7652e-29 kg\n",
            "Four times the mass of the hydrogen atom is not equal to the mass of the helium atom.\n",
            "The difference in mass is converted into energy during nuclear fusion (mass defect).\n",
            "Mass defect per fusion event: 4.7652e-29 kg\n",
            "Energy released per fusion event: 4.2828e-12 J\n"
          ]
        }
      ],
      "source": [
        "mass_hydrogen_amu = 1.007825\n",
        "mass_helium_amu = 4.002603\n",
        "amu_to_kg = 1.66053906660e-27\n",
        "\n",
        "mass_hydrogen_kg = mass_hydrogen_amu * amu_to_kg\n",
        "mass_helium_kg = mass_helium_amu * amu_to_kg\n",
        "\n",
        "four_times_mass_hydrogen = 4 * mass_hydrogen_kg\n",
        "\n",
        "print(f\"Mass of Hydrogen-1 atom: {mass_hydrogen_kg:.4e} kg\")\n",
        "print(f\"Mass of Helium-4 atom: {mass_helium_kg:.4e} kg\")\n",
        "print(f\"Four times the mass of Hydrogen-1 atom: {four_times_mass_hydrogen:.4e} kg\")\n",
        "\n",
        "difference = four_times_mass_hydrogen - mass_helium_kg\n",
        "print(f\"Difference (4 * mass_H - mass_He): {difference:.4e} kg\")\n",
        "\n",
        "if abs(difference) < 1e-30:\n",
        "  print(\"Four times the mass of the hydrogen atom is approximately equal to the mass of the helium atom.\")\n",
        "else:\n",
        "  print(\"Four times the mass of the hydrogen atom is not equal to the mass of the helium atom.\")\n",
        "  print(\"The difference in mass is converted into energy during nuclear fusion (mass defect).\")\n",
        "\n",
        "mass_defect_kg = four_times_mass_hydrogen - mass_helium_kg\n",
        "\n",
        "c = 299792458\n",
        "\n",
        "energy_released_per_fusion = mass_defect_kg * c**2\n",
        "\n",
        "print(f\"Mass defect per fusion event: {mass_defect_kg:.4e} kg\")\n",
        "print(f\"Energy released per fusion event: {energy_released_per_fusion:.4e} J\")\n"
      ]
    },
    {
      "cell_type": "markdown",
      "metadata": {
        "id": "c7AmMq_C8Kco"
      },
      "source": [
        "You should have found that 4 hydrogen atoms are more massive than a single helium atom. This missing mass is what powers the Sun. Also, see [here](https://www.youtube.com/watch?v=23e-SnQvCaA).\n",
        "\n",
        "\n",
        "Calculate the mass energy of the Sun ($E$) using $E=m\\,c^2$ by using the mass of the Sun for $m$, and using the speed of light for $c$."
      ]
    },
    {
      "cell_type": "code",
      "execution_count": 5,
      "metadata": {
        "id": "KzGLRN3J8Kco",
        "outputId": "aa337767-fe70-491f-a0f1-6e6b91b40877",
        "colab": {
          "base_uri": "https://localhost:8080/"
        }
      },
      "outputs": [
        {
          "output_type": "stream",
          "name": "stdout",
          "text": [
            "The mass energy of the Sun (E=mc^2) is: 1.7876e+47 J\n"
          ]
        }
      ],
      "source": [
        "c = 299792458  # Speed of light (m/s)\n",
        "M_sun = 1.989e30  # Mass of the Sun (kg)\n",
        "\n",
        "E_mass_energy = M_sun * c**2\n",
        "\n",
        "print(f\"The mass energy of the Sun (E=mc^2) is: {E_mass_energy:.4e} J\")"
      ]
    },
    {
      "cell_type": "markdown",
      "metadata": {
        "id": "Rp56tpI98Kco"
      },
      "source": [
        "Given this amount of energy, and the Sun's luminosity listed earlier, how long could nuclear reactions power the Sun? List your result in years."
      ]
    },
    {
      "cell_type": "code",
      "execution_count": 6,
      "metadata": {
        "id": "wSPCOaj98Kco",
        "outputId": "ef1b8916-9827-4078-bdb9-293e5cc443ff",
        "colab": {
          "base_uri": "https://localhost:8080/"
        }
      },
      "outputs": [
        {
          "output_type": "stream",
          "name": "stdout",
          "text": [
            "Nuclear reactions could power the Sun for approximately 1.48e+13 years.\n"
          ]
        }
      ],
      "source": [
        "time_in_seconds_nuclear = E_mass_energy / L\n",
        "time_in_years_nuclear = time_in_seconds_nuclear / seconds_per_year\n",
        "\n",
        "print(f\"Nuclear reactions could power the Sun for approximately {time_in_years_nuclear:.2e} years.\")"
      ]
    },
    {
      "cell_type": "markdown",
      "metadata": {
        "id": "xvSLGK328Kco"
      },
      "source": [
        "If we consider the fusion of hydrogen into helium above, only a small fraction of the total mass going in to the reaction is converted into energy, with the remainder going into energy, i.e.\n",
        "\\begin{equation}\n",
        "4 \\, \\times \\, ^1_1H \\rightarrow \\, ^4_2He + \\epsilon.\n",
        "\\end{equation}\n",
        "Calculate what fraction of the initial total mass is converted into energy from this reaction."
      ]
    },
    {
      "cell_type": "code",
      "execution_count": 7,
      "metadata": {
        "id": "vlyy76d-8Kco",
        "outputId": "a1f32d4b-9ef7-404e-a7ce-192a40b78919",
        "colab": {
          "base_uri": "https://localhost:8080/"
        }
      },
      "outputs": [
        {
          "output_type": "stream",
          "name": "stdout",
          "text": [
            "Fraction of initial mass converted into energy: 7.1185e-03\n"
          ]
        }
      ],
      "source": [
        "initial_mass = four_times_mass_hydrogen\n",
        "\n",
        "mass_converted_to_energy = mass_defect_kg\n",
        "\n",
        "fraction_converted = mass_converted_to_energy / initial_mass\n",
        "\n",
        "print(f\"Fraction of initial mass converted into energy: {fraction_converted:.4e}\")"
      ]
    },
    {
      "cell_type": "markdown",
      "metadata": {
        "id": "ls8qOa7w8Kco"
      },
      "source": [
        "Now, adjust your calculation for the lifetime of the Sun using this efficiency factor."
      ]
    },
    {
      "cell_type": "code",
      "execution_count": 8,
      "metadata": {
        "id": "5b5y_9JI8Kco",
        "outputId": "c75f8579-2d73-4191-e110-ed130a3b2bd4",
        "colab": {
          "base_uri": "https://localhost:8080/"
        }
      },
      "outputs": [
        {
          "output_type": "stream",
          "name": "stdout",
          "text": [
            "More realistic energy available from fusion: 1.2725e+44 J\n",
            "Realistic nuclear lifetime of the Sun based on efficiency: 1.05e+10 years.\n"
          ]
        }
      ],
      "source": [
        "mass_available_for_fusion = 0.10 * M_sun\n",
        "\n",
        "realistic_energy_from_fusion = mass_available_for_fusion * fraction_converted * c**2\n",
        "\n",
        "realistic_time_in_seconds_nuclear = realistic_energy_from_fusion / L\n",
        "realistic_time_in_years_nuclear = realistic_time_in_seconds_nuclear / seconds_per_year\n",
        "\n",
        "print(f\"More realistic energy available from fusion: {realistic_energy_from_fusion:.4e} J\")\n",
        "print(f\"Realistic nuclear lifetime of the Sun based on efficiency: {realistic_time_in_years_nuclear:.2e} years.\")"
      ]
    },
    {
      "cell_type": "markdown",
      "metadata": {
        "id": "tvjTFvNr8Kco"
      },
      "source": [
        "Only the central region of the Sun, the \"core\", is sufficiently hot and dense for hydrogen to fuse into helium. Thus, only some of the core will be used to power the life of a star.\n",
        "\n",
        "What happens when the core has turned all of its Hydrogen into Helium? Without anything powering it, the Sun will start to collapse in on itself, and eventually the density and temperatures get high enough to start fusing heavier elements into even heavier elements. If a star is massive enough (the Sun isn't!), this will continue until the core is made of iron. Why iron? Well, take a look at this plot:\n",
        "\n",
        "![Fusion binding energy](https://github.com/CIERA-Northwestern/REACHpy/blob/ideaspy_updates/Module_1/images/fusion.png?raw=1)\n",
        "\n",
        "Atoms can only fuse together if the resulting atom is more tightly bound than its component elements. Once you get up to iron (Fe), it turns out that all more massive elements are less tightly bound, and so fusion can't happen any more. Instead, the star collapses, bounces off of this dense iron core, and explodes in a *supernova*!\n",
        "\n",
        "![Artist's depiction of SN2019ehk](https://github.com/CIERA-Northwestern/REACHpy/blob/ideaspy_updates/Module_1/images/2019ehk-AMG_final-500x500.png?raw=1)<br />\n",
        "Above is an artist’s depiction of SN2019ehk (courtesy of Aaron M. Geller, Northwestern University)."
      ]
    }
  ],
  "metadata": {
    "kernelspec": {
      "display_name": "Python 3",
      "language": "python",
      "name": "python3"
    },
    "language_info": {
      "codemirror_mode": {
        "name": "ipython",
        "version": 3
      },
      "file_extension": ".py",
      "mimetype": "text/x-python",
      "name": "python",
      "nbconvert_exporter": "python",
      "pygments_lexer": "ipython3",
      "version": "3.8.5"
    },
    "colab": {
      "name": "Challenge_2_Lifetime_of_Sun.ipynb",
      "provenance": []
    }
  },
  "nbformat": 4,
  "nbformat_minor": 0
}