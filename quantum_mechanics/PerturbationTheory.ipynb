{
  "cells": [
    {
      "cell_type": "markdown",
      "metadata": {
        "id": "ywHZK-f9wVTf"
      },
      "source": [
        "# Perturbation Theory"
      ]
    },
    {
      "cell_type": "markdown",
      "metadata": {
        "id": "2Jxj9nUvwVTf"
      },
      "source": [
        "* **Author:**\n",
        "\n",
        "* **Date:**\n",
        "\n",
        "* **Time spent on this assignment:**"
      ]
    },
    {
      "cell_type": "markdown",
      "metadata": {
        "id": "ExLwyXARsoHl"
      },
      "source": [
        "## Basic instructions\n",
        "\n",
        "* you can copy this notebook to your Google Colab account (icon at the top of this page; please use your UIUC account!) and work there.\n",
        "* you may also work locally on your own computer if you prefer by downloading the `.ipynb` file (also an icon on top of this page).\n",
        "* Ask for help in office hours or on Campuswire.\n",
        "* To submit your work:\n",
        "  * Make sure you answer all interpretation questions! Those will be taken into account for the grading.\n",
        "  * Convert the notebook to a good-quality PDF (see notes at the bottom)\n",
        "  * Submission will be on gradescope."
      ]
    },
    {
      "cell_type": "code",
      "execution_count": null,
      "metadata": {
        "id": "JpUbPcO9wVTg",
        "tags": [
          "hide-output"
        ],
        "outputId": "06f5072d-ce7f-48cd-c6e5-322de4863183"
      },
      "outputs": [
        {
          "data": {
            "text/plain": [
              "datetime.datetime(2025, 2, 11, 14, 47, 18, 388710)"
            ]
          },
          "execution_count": 2,
          "metadata": {},
          "output_type": "execute_result"
        }
      ],
      "source": [
        "import numpy as np\n",
        "from functools import partial\n",
        "import pylab as plt\n",
        "import scipy\n",
        "import numpy as np\n",
        "import scipy\n",
        "import matplotlib.pyplot as plt\n",
        "import math\n",
        "from matplotlib.animation import FuncAnimation\n",
        "from IPython.display import HTML\n",
        "import numpy.polynomial.hermite as Herm\n",
        "import math\n",
        "import scipy.optimize\n",
        "from functools import partial\n",
        "import matplotlib.pyplot as plt\n",
        "from matplotlib.ticker import MaxNLocator\n",
        "\n",
        "import matplotlib.animation as animation\n",
        "from IPython.display import HTML\n",
        "def resetMe(keepList=[]):\n",
        "    ll=%who_ls\n",
        "    keepList=keepList+['FuncAnimation','Herm','HTML','resetMe','scipy','np','plt','math','jax','jnp','jit','grad','HTML','animation','animateMe_singlePendula','partial','pyscf','MaxNLocator']\n",
        "    for iiii in keepList:\n",
        "        if iiii in ll:\n",
        "            ll.remove(iiii)\n",
        "    for iiii in ll:\n",
        "        jjjj=\"^\"+iiii+\"$\"\n",
        "        %reset_selective -f {jjjj}\n",
        "    ll=%who_ls\n",
        "    plt.rcParams.update({\"font.size\": 14})\n",
        "    return\n",
        "resetMe()\n",
        "import datetime;datetime.datetime.now()"
      ]
    },
    {
      "cell_type": "markdown",
      "metadata": {
        "id": "UZ4YhOxlwVTg"
      },
      "source": [
        "## Exercise 1.  Two Particles in a one-dimensional Harmonic Oscillator"
      ]
    },
    {
      "cell_type": "markdown",
      "metadata": {
        "id": "dYi_ShFxwVTg"
      },
      "source": [
        "So far we've looked at the interaction of a single particle in a one-dimensional Harmonic oscillator potential.  In this exercise, we are going to go beyond this and look at two distinguishable particles in a Harmonic oscillator potential.   We are going to start by assuming those particles are not interacting and then we are going to introduce a repulsive interaction between them.  \n",
        "\n",
        "Suppose we can represent the wave-function for a single particle as  $\\phi_a(x)$ or $\\phi_b(x)$, then the wave-function for two (non-interacting) particles can be represented as a product of any of the single-particle wave-functions - an example two-particle wave-function might be something like\n",
        "\n",
        "$$\\Psi(x_1,x_2) = \\phi_a(x_1)\\phi_a(x_2)$$\n",
        "\n",
        "or it could be\n",
        "\n",
        "$$\\Psi(x_1,x_2) = \\phi_b(x_1)\\phi_a(x_2)$$\n",
        "\n",
        "Previously on a computer, we were able to represent the single-particle wave-functions as a vector `phi_a` or `phi_b` that was the length of our grid (say 200 points).  To represent the two particle wave-function, we can represent it by a vector of  length $200^2$ points - we need an amplitude for every possible value of $x_1$ and $x_2$.  To get that vector, we need to use a linear-algebra tool called the Kronecker product.  For this last example, we would have  `Psi=np.kron(phi_b,phi_a)`.\n",
        "\n",
        "It is important to realize that that is very different from just multiplying the two wavefuctions!\n",
        "Without interactions, the two particles live in their own, separate Hilbert spaces.\n",
        "In Dirac notation, the same would be written as\n",
        "\n",
        "$$\\ket{\\Psi} = \\ket{\\phi_a}\\otimes\\ket{\\phi_b}$$\n",
        "\n",
        "where $\\otimes$ is the Kronecker product.\n",
        "\n",
        "\n"
      ]
    },
    {
      "cell_type": "markdown",
      "metadata": {
        "id": "0VhB-UbFwVTg"
      },
      "source": [
        "## a.  A two particle wave-function"
      ]
    },
    {
      "cell_type": "markdown",
      "metadata": {
        "id": "9YnkuKmzwVTh"
      },
      "source": [
        "Suppose we are working on grid\n",
        "```\n",
        "L=20\n",
        "xs = np.linspace(-L/2,L/2,200)\n",
        "```\n",
        "\n",
        "We then might have a one-particle wave-function `phi_a=np.cos(xs*2*np.pi/L)` and another one particle wave-function `phi_b=np.cos(xs*4*np.pi/L)`\n",
        "\n",
        "Go ahead and\n",
        "* plot these two wave-functions $\\phi_a$ and $\\phi_b$.\n",
        "* make the vector for the wave-function $\\Psi(x_1,x_2)= \\phi_a(x_1)\\phi_b(x_2)$\n",
        "* Verify this new vector is of length $200$^2\n",
        "\n",
        "As a reminder on the numerical tools we are using:\n",
        "* our preferred tool for plotting functions is [matplotlib](https://matplotlib.org/stable/).\n",
        "* For plotting simple functions, we can use the [plot](https://matplotlib.org/stable/api/_as_gen/matplotlib.pyplot.plot.html) function.\n",
        "* Any function from the `np` domain is part or [numpy](https://numpy.org/doc/stable/)\n",
        "* Both matplotlib and numpy have evolved into de-fact standard and daily-use tools for physicists. They come with excellent online documentation. Consult it often when running into problems with syntax or if you struggle to understand any functionality."
      ]
    },
    {
      "cell_type": "markdown",
      "metadata": {
        "id": "S7b1b2fIwVTh"
      },
      "source": [
        "<div><img src=\"https://clark.physics.illinois.edu/246img/AnsStart.svg\" width=200 align=left alt=\"Answer (start)\"></img><br></div>"
      ]
    },
    {
      "cell_type": "code",
      "execution_count": 2,
      "metadata": {
        "id": "BZs32tShwVTh",
        "tags": [
          "answer-cell"
        ],
        "colab": {
          "base_uri": "https://localhost:8080/",
          "height": 453
        },
        "outputId": "5eb08249-1c3e-4723-8992-c7d922a46c8a"
      },
      "outputs": [
        {
          "output_type": "stream",
          "name": "stdout",
          "text": [
            "200\n"
          ]
        },
        {
          "output_type": "display_data",
          "data": {
            "text/plain": [
              "<Figure size 640x480 with 1 Axes>"
            ],
            "image/png": "[encoded data removed]"
          },
          "metadata": {}
        }
      ],
      "source": [
        "L=20\n",
        "xs = np.linspace(-L/2,L/2,200)\n",
        "phi_a=np.cos(xs*2*np.pi/L)\n",
        "phi_b=np.cos(xs*4*np.pi/L)\n",
        "phi_ab = phi_a*phi_b\n",
        "\n",
        "plt.plot(phi_a)\n",
        "plt.plot(phi_b)\n",
        "print(len(phi_ab))\n"
      ]
    },
    {
      "cell_type": "markdown",
      "source": [
        "the vector has length 200^2!"
      ],
      "metadata": {
        "id": "BVAgPZW1t6LE"
      }
    },
    {
      "cell_type": "markdown",
      "metadata": {
        "id": "zSN_1d3-wVTh"
      },
      "source": [
        "<div><img src=\"https://clark.physics.illinois.edu/246img/AnsEnd.svg\" width=200 align=left alt=\"Answer (end)\"></img><br></div>"
      ]
    },
    {
      "cell_type": "markdown",
      "metadata": {
        "id": "khR7VKqewVTh"
      },
      "source": [
        "We now want to plot our wave-function $\\Psi(x_1,x_2)$.  To do this, we want to put $x_1$ on the x-axis and $x_2$ on the y-axis.  Then we can use contours or height to represent the amplitude of the joint wavefunction. This can be used to infer the probability of simultaneously having one particle at $x_1$ and another at $x_2$ (which is of course $|\\Psi(x_1, x_2)|^2$ -- feel free to plot that as well. Use `np.abs` to get the absolute of the wavefunction).  \n",
        "For example, the diagonal of your plot ($x=y$) is showing you how likely the two particles are for being on top of each other.\n",
        "\n",
        "We can set up this plot using\n",
        "```\n",
        "def Plot2d_help(xs,ys,Z,plot_3d=False):\n",
        "    X, Y = np.meshgrid(xs, ys)\n",
        "    Z = Z.reshape((len(xs),len(ys)))\n",
        "    if plot_3d==True:\n",
        "        fig = plt.figure()\n",
        "        ax = fig.add_subplot(111, projection='3d')\n",
        "        ax.plot_surface(X, Y, Z, cmap='viridis')\n",
        "        plt.show()\n",
        "    else:\n",
        "        plt.contourf(X, Y, Z, cmap='viridis')\n",
        "        plt.axis('equal')\n",
        "        plt.colorbar()\n",
        "        plt.xlim(-5,5)\n",
        "        plt.ylim(-5,5)\n",
        "        plt.show()\n",
        "    return\n",
        "\n",
        "Plot2d = partial(Plot2d_help,x_s,x_s)\n",
        "```\n",
        "\n",
        "and then calling\n",
        "\n",
        "```\n",
        "Plot2d(Psi,plot_3d=False)\n",
        "```\n",
        "\n",
        "Go ahead and plot your two particle wave-function that you've produced above. (you can also check what happens when you set `plot_3d=True`).\n",
        "\n",
        "**Think about why the result you are getting is reasonable. Write a short note in a separate text or markdown cell in which you interpret the plot, and reason why (or why not) it makes sense from what you know about the physics of the problem.**"
      ]
    },
    {
      "cell_type": "markdown",
      "metadata": {
        "id": "mCESClarwVTh"
      },
      "source": [
        "<div><img src=\"https://clark.physics.illinois.edu/246img/AnsStart.svg\" width=200 align=left alt=\"Answer (start)\"></img><br></div>"
      ]
    },
    {
      "cell_type": "code",
      "execution_count": 4,
      "metadata": {
        "id": "f32R1dF4wVTh",
        "tags": [
          "answer-cell"
        ],
        "colab": {
          "base_uri": "https://localhost:8080/",
          "height": 180
        },
        "outputId": "3822ecbe-665e-45a8-db2f-c387bdab0124"
      },
      "outputs": [
        {
          "output_type": "error",
          "ename": "NameError",
          "evalue": "name 'Psi' is not defined",
          "traceback": [
            "\u001b[0;31m---------------------------------------------------------------------------\u001b[0m",
            "\u001b[0;31mNameError\u001b[0m                                 Traceback (most recent call last)",
            "\u001b[0;32m<ipython-input-4-fef391f0e675>\u001b[0m in \u001b[0;36m<cell line: 0>\u001b[0;34m()\u001b[0m\n\u001b[1;32m     18\u001b[0m \u001b[0mPlot2d\u001b[0m \u001b[0;34m=\u001b[0m \u001b[0mpartial\u001b[0m\u001b[0;34m(\u001b[0m\u001b[0mPlot2d_help\u001b[0m\u001b[0;34m,\u001b[0m\u001b[0mxs\u001b[0m\u001b[0;34m,\u001b[0m\u001b[0mxs\u001b[0m\u001b[0;34m)\u001b[0m\u001b[0;34m\u001b[0m\u001b[0;34m\u001b[0m\u001b[0m\n\u001b[1;32m     19\u001b[0m \u001b[0;34m\u001b[0m\u001b[0m\n\u001b[0;32m---> 20\u001b[0;31m \u001b[0mPlot2d\u001b[0m\u001b[0;34m(\u001b[0m\u001b[0mPsi\u001b[0m\u001b[0;34m,\u001b[0m\u001b[0mplot_3d\u001b[0m\u001b[0;34m=\u001b[0m\u001b[0;32mFalse\u001b[0m\u001b[0;34m)\u001b[0m\u001b[0;34m\u001b[0m\u001b[0;34m\u001b[0m\u001b[0m\n\u001b[0m",
            "\u001b[0;31mNameError\u001b[0m: name 'Psi' is not defined"
          ]
        }
      ],
      "source": [
        "def Plot2d_help(xs,ys,Z,plot_3d=False):\n",
        "    X, Y = np.meshgrid(xs, ys)\n",
        "    Z = Z.reshape((len(xs),len(ys)))\n",
        "    if plot_3d==True:\n",
        "        fig = plt.figure()\n",
        "        ax = fig.add_subplot(111, projection='3d')\n",
        "        ax.plot_surface(X, Y, Z, cmap='viridis')\n",
        "        plt.show()\n",
        "    else:\n",
        "        plt.contourf(X, Y, Z, cmap='viridis')\n",
        "        plt.axis('equal')\n",
        "        plt.colorbar()\n",
        "        plt.xlim(-5,5)\n",
        "        plt.ylim(-5,5)\n",
        "        plt.show()\n",
        "    return\n",
        "\n",
        "Plot2d = partial(Plot2d_help,xs,xs)\n",
        "\n"
      ]
    },
    {
      "cell_type": "markdown",
      "metadata": {
        "id": "hyid_uHvwVTh"
      },
      "source": [
        "<div><img src=\"https://clark.physics.illinois.edu/246img/AnsEnd.svg\" width=200 align=left alt=\"Answer (start)\"></img><br></div>"
      ]
    },
    {
      "cell_type": "markdown",
      "metadata": {
        "id": "NvpZ6zgUwVTh"
      },
      "source": [
        "### b.  The Simple Harmonic Oscillator: Non-interacting wave-functions"
      ]
    },
    {
      "cell_type": "markdown",
      "metadata": {
        "id": "xbcqlZAkwVTh"
      },
      "source": [
        "We are going to work with two particles in the simple Harmonic oscillator.   We know that the Hamiltonian for a single particle in a Harmonic oscillator is\n",
        "\n",
        "$$\n",
        "H^\\textrm{SHO}(x) = -\\frac{1}{2}\\frac{\\partial^2}{\\partial x^2} + \\frac{1}{2} x^2\n",
        "$$\n",
        "\n",
        "and then the Hamiltonian for two non-interacting particles is\n",
        "\n",
        "$$\n",
        "H_0 = H^\\textrm{SHO}(x_1) + H^\\textrm{SHO}(x_2)\n",
        "$$\n",
        "\n",
        "Our first goal will be to work with just $H^\\textrm{SHO}(x)$ (the one particle Hamiltonian) and build the eigenstates and eigenvalues.  \n",
        "\n",
        "It will be convenient to represent everything inside a class:\n",
        "\n",
        "```\n",
        "class SHO:\n",
        "   def __init__(self):\n",
        "        self.xs = np.linspace(-L/2,L/2,200)\n",
        "        self.delta_x=self.xs[1]-self.xs[0]\n",
        "        self.Build_H_SHO()\n",
        "        self.evals_oneParticle,self.evecs_oneParticle=np.linalg.eigh(self.H_SHO)\n",
        "        self.oneParticleStates=len(self.evals_oneParticle)\n",
        "        self.V = self.Interaction()\n",
        "    def Build_H_SHO(self):\n",
        "        # set up the H^SHO matrix and get the eigenvalues\n",
        "        #### do stuff\n",
        "        self.H_SHO=# the H you built.\n",
        "    def Interaction(self):\n",
        "        pass\n",
        "\n",
        "```\n",
        "which we can initialize with\n",
        "\n",
        "```\n",
        "H=SHO()\n",
        "```\n",
        "\n",
        "The only big difference with working in a class is that to access the variables of the class (and the functions) we need to prepend `self.` to everything that is local within the class (but not to variables that are local within a function)\n",
        "\n",
        "You now need to write `Build_H_SHO(self)` which should build the Hamiltonian for the single particle eigenstates. To do this:\n",
        "\n",
        "* Because our grid is length 200, initialize a zero matrix the size of the grid - i.e. `H0_oneParticle=np.zeros((200,200))`\n",
        "* Loop `i` over the 200 elements of your grid:\n",
        "    * On the diagonal  (`H0_oneParticle[i,i]`) put the potential (`0.5*self.xs[i]**2`).\n",
        "    * Recalling that the stencil for the second derivative $(-1/2) \\partial^2/\\partial x^2$ is $1/2 (2 f(x)  - f(x+\\delta) - f(x-\\delta))/\\delta^2$ also add $0.5 \\times 2/\\delta^2$ to the diagonal\n",
        "    * Because of the second derivative stencil also put $0.5 \\times (-1/\\delta^2)$ on the element right above and below the diagonal - i.e. `H0_oneParticle[i+1,i]` and `H0_oneParticle[i,i+1]`\n",
        "\n",
        "Once you write the full one-particle Hamiltonian notice that the `__init__` function should then diagonalize it.    This means that if you call\n",
        "`H.evecs_oneParticle[:,i]` you should get the i'th eigenstate of the one-particle Harmonic oscillator.  \n",
        "\n",
        "Go ahead and plot (in one dimension) the lowest two eigenstates and make sure that they are correct (i.e. what you know the lowest eigenstates of the Harmonic oscillator are).  You can plot with `plt.plot(H.xs,H.evecs_oneParticle[:,0])`.  Also verify that the two lowest eigenenergies (i.e `H0.evals_oneParticle[0]` for the lowest energy) are correct.\n",
        "\n",
        "\n",
        "\n"
      ]
    },
    {
      "cell_type": "markdown",
      "metadata": {
        "id": "_-nofk6NwVTi"
      },
      "source": [
        "<div><img src=\"https://clark.physics.illinois.edu/246img/AnsStart.svg\" width=200 align=left alt=\"Answer (start)\"></img><br></div>"
      ]
    },
    {
      "cell_type": "code",
      "execution_count": null,
      "metadata": {
        "id": "V4ekBnD2wVTi",
        "tags": [
          "answer-cell"
        ]
      },
      "outputs": [],
      "source": [
        "###ANSWER HERE"
      ]
    },
    {
      "cell_type": "markdown",
      "metadata": {
        "id": "W8Cazmc-wVTi"
      },
      "source": [
        "<div><img src=\"https://clark.physics.illinois.edu/246img/AnsEnd.svg\" width=200 align=left alt=\"Answer (start)\"></img><br></div>"
      ]
    },
    {
      "cell_type": "markdown",
      "metadata": {
        "id": "xBXwVoTwwVTi"
      },
      "source": [
        "### c.  Two Particle Non-interacting Eigenstates"
      ]
    },
    {
      "cell_type": "markdown",
      "metadata": {
        "id": "eETAdMUhwVTi"
      },
      "source": [
        "Now that you have the single particle non-interacting eigenstates, we need to be able to get the two-particle non-interacting eigenstates using `np.kron`.  \n",
        "\n",
        "Add a function to your class `get_eigenstate(self,n)`  so that when you call `H0.get_eigenstate(4)` it returns the fourth eigenstate of the non-interacting problem.  The $n$'th eigenstate of the non-interacting Harmonic oscillator should be\n",
        "\n",
        "$$\n",
        "\\Psi_{n}(x_1,x_2) = \\phi_{n//200}(x_1) \\phi_{n \\% 200}(x_2)\n",
        "$$\n",
        "\n",
        "where $\\phi_i$ is the $i$'th eigenstate of the non-interacting Harmonic oscillator that you've already stored in `self.evecs_oneParticle`.\n",
        "Note on the indexing: in the vector of $\\Psi_{n}(x_1,x_2)$, eigenstates are not ordered by energy, given how we construct the two-particle wavefunction: $\\Psi_0 = \\phi_0 \\phi_0$, $\\Psi_1 = \\phi_0 \\phi_1$, ..., $\\Psi_{199} = \\phi_0 \\phi_{199}$, $\\Psi_{200} = \\phi_1 \\phi_0$, ..., $\\Psi_{200 \\times 200 - 1} = \\phi_{199} \\phi_{199}$.\n",
        "\n",
        "Also write a function `get_eigenvalue(self,n)` which returns the $n'$th eigenvalue (recalling that the eigenvalue of the problem is just the sum of the one-particle eigenstates).\n",
        "\n",
        "(These eigenvectors and eigenvalues won't be ordered by energy.  This is ok)\n",
        "Also write a function `get_eigenvalue(self,n)` which returns the $n'$th eigenvalue (recalling that the eigenvalue of the problem is just the sum of the one-particle eigenstates).\n",
        "\n",
        "Check that the first couple eigenvalues `H.get_eigenvalue(0), H.get_eigenvalue(1)` are correct.  Also plot your ground state `Plot2d(H.get_eigenstate(0)`.   Think about what it's telling you.\n",
        "\n",
        "\n",
        "Go ahead and do this and then comment on the following thing about the ground state\n",
        "\n",
        "* Is it symmetric - why or why not?\n",
        "* Is it likely for the particles to be in the same place?\n",
        "* Does one particles location depend on where the other particle is?\n"
      ]
    },
    {
      "cell_type": "markdown",
      "metadata": {
        "id": "r_roWvKiwVTi"
      },
      "source": [
        "<div><img src=\"https://clark.physics.illinois.edu/246img/AnsStart.svg\" width=200 align=left alt=\"Answer (start)\"></img><br></div>"
      ]
    },
    {
      "cell_type": "code",
      "execution_count": null,
      "metadata": {
        "id": "9Acx0qWAwVTi",
        "tags": [
          "answer-cell"
        ]
      },
      "outputs": [],
      "source": [
        "###ANSWER HERE"
      ]
    },
    {
      "cell_type": "markdown",
      "metadata": {
        "id": "nMVVCxD-wVTi"
      },
      "source": [
        "<div><img src=\"https://clark.physics.illinois.edu/246img/AnsEnd.svg\" width=200 align=left alt=\"Answer (start)\"></img><br></div>"
      ]
    },
    {
      "cell_type": "markdown",
      "metadata": {
        "id": "oguTRrjVwVTi"
      },
      "source": [
        "###   d. The Interaction"
      ]
    },
    {
      "cell_type": "markdown",
      "metadata": {
        "id": "axi_BpCtwVTi"
      },
      "source": [
        "Now we would like to understand what happens when we add an interaction between the two particles:  the two particles like to be apart and not touch each other.  Let us define a new interacting Hamiltonian\n",
        "\n",
        "\n",
        "$$\n",
        "H = H_0(x_1,x_2) + V(x_1,x_2)\n",
        "$$\n",
        "\n",
        "where the interaction between the two particles is\n",
        "\n",
        "$$\n",
        "V(x_1,x_2) = e^{-2(x_1-x_2)^2}\n",
        "$$\n",
        "\n",
        "will eventually be treated as a perturbation.\n",
        "\n",
        "We now need to fill in the interaction piece of our Hamiltonian by writing the function `Interaction()` in our class which should generate the interaction and return a vector of length $200^2$ (this is the right size because it is telling us for each value of $x_1$ and $x_2$ what is $V(x_1,x_2)$).\n",
        "\n",
        "It is easiest to create a $200 \\times 200$ matrix where the rows represent the $x_1$ and the columns represent $x_2$.  Then we can resize it `V.resize(200**2)` to make it into the appropriate size vector.\n",
        "\n",
        "To create the matrix, you can use `x_1,x_2=np.meshgrid(H.xs,H.xs)` to create matrices you need to subtract.  To understand what `meshgrid` has done, it's useful to plot them with\n",
        "\n",
        "```\n",
        "contour=plt.contour(H.xs,H.xs,x_1,levels=30,vmin=-10,vmax=10,cmap='hsv')\n",
        "values=np.arange(-10,11)\n",
        "cbar = plt.colorbar(contour)\n",
        "cbar.set_ticks(values)\n",
        "plt.show()\n",
        "```\n",
        "for both $x_1$ and $x_2$ to see what those two different matrices look like and then to plot\n",
        "```\n",
        "contour=plt.contour(H.xs,H.xs,x_1-x_2,levels=30,cmap='hsv')\n",
        "plt.colorbar()\n",
        "plt.show()\n",
        "```\n",
        "to plot what their difference looks like.\n",
        "\n",
        "Once you've made `x_1-x_2` you can use this difference to make the full interaction (`np.exp` exponentiates and `**` is how you take things to a power).  Then you can resize it properly and return it from the function.\n",
        "\n",
        "To check that everything is working go ahead and plot `Plot2d(H.V)` and understand if that's what you expected.\n",
        "Comment on the result, comparing it to what you already know about the physics from the course.\n",
        "\n"
      ]
    },
    {
      "cell_type": "markdown",
      "metadata": {
        "id": "HK9ymR9twVTi"
      },
      "source": [
        "<div><img src=\"https://clark.physics.illinois.edu/246img/AnsStart.svg\" width=200 align=left alt=\"Answer (start)\"></img><br></div>"
      ]
    },
    {
      "cell_type": "code",
      "execution_count": null,
      "metadata": {
        "id": "0gu8Ec-_wVTj",
        "tags": [
          "answer-cell"
        ]
      },
      "outputs": [],
      "source": [
        "###ANSWER HERE"
      ]
    },
    {
      "cell_type": "markdown",
      "metadata": {
        "id": "z2gAYAV2wVTj"
      },
      "source": [
        "<div><img src=\"https://clark.physics.illinois.edu/246img/AnsEnd.svg\" width=200 align=left alt=\"Answer (start)\"></img><br></div>"
      ]
    },
    {
      "cell_type": "markdown",
      "metadata": {
        "id": "JGSWUtnvwVTj"
      },
      "source": [
        "### e. First order correction to the energy"
      ]
    },
    {
      "cell_type": "markdown",
      "metadata": {
        "id": "GyAhsC2JwVTj"
      },
      "source": [
        "We are now ready to put everything together to get our first order correction to the energy.\n",
        "\n",
        "Let us write a function `FirstOrderEnergy(H)` which takes the Hamiltonian and return the first order correction `E1` which is\n",
        "\n",
        "$$\n",
        "E_1 = \\langle n^{(0)} | V | n^{(0)} \\rangle\n",
        "$$\n",
        "\n",
        "where $|n^{(0)}\\rangle$ is the ground state wave-function of $H_0$.\n",
        "\n",
        "Naively you might want to compute this by turning $V$ into a $200^2 \\times 200^2$ matrix with the potential down the diagonal.  While correct, this will cause your computer to run out of RAM and crash.  Instead you can compute $\\langle n^{(0)}| V$ by doing  `np.multiply(H.get_eigenstate(0).conjugate(),H.V)`.  This is much more efficient because it scales linearly with the size of the potential.  \n",
        "\n",
        "\n",
        "Report $E_1$ and $E_0+E_1$."
      ]
    },
    {
      "cell_type": "markdown",
      "metadata": {
        "id": "tLJs6mlGwVTj"
      },
      "source": [
        "<div><img src=\"https://clark.physics.illinois.edu/246img/AnsStart.svg\" width=200 align=left alt=\"Answer (start)\"></img><br></div>"
      ]
    },
    {
      "cell_type": "code",
      "execution_count": null,
      "metadata": {
        "id": "aEZcyN8xwVTj",
        "tags": [
          "answer-cell"
        ]
      },
      "outputs": [],
      "source": [
        "###ANSWER HERE"
      ]
    },
    {
      "cell_type": "markdown",
      "metadata": {
        "id": "3V0_1TJcwVTj"
      },
      "source": [
        "<div><img src=\"https://clark.physics.illinois.edu/246img/AnsEnd.svg\" width=200 align=left alt=\"Answer (end)\"></img><br></div>"
      ]
    },
    {
      "cell_type": "markdown",
      "metadata": {
        "id": "iVwiBR3swVTj"
      },
      "source": [
        "### f. First order correction to the wave-function"
      ]
    },
    {
      "cell_type": "markdown",
      "metadata": {
        "id": "gmurbWj5wVTj"
      },
      "source": [
        "The first order correction to the wave-function is\n",
        "\n",
        "$$\n",
        "|n^{(1)} \\rangle = \\sum_{k \\neq n} \\frac{\\langle k^{(0)} | V  | n^{(0)} \\rangle }{E_n^0 - E_k^0} |k^{(0)}\\rangle\n",
        "$$\n",
        "\n",
        "Go ahead and write a function `FirstOrderWaveFunction(H)` which returns the  correction `n1`.  You will have to loop over the number of eigenstates `H.numStates` and add on the appropraite term.  Remember to use `@` to do matrix multiplication and `*` to multiply a scalar times a vector (which will be needed when you multiply everything else by $|k^{(0)}\\rangle$).  This should be a $200^2$ vector.   Make a 2d plot both of `n1` (which tells you how the correction is made) and `n0+n1` (which tells you what the new wave-function looks like).  What is this telling about how the perturbation is changing the wave-function?\n"
      ]
    },
    {
      "cell_type": "markdown",
      "metadata": {
        "id": "s3lpufu4wVTj"
      },
      "source": [
        "<div><img src=\"https://clark.physics.illinois.edu/246img/AnsStart.svg\" width=200 align=left alt=\"Answer (start)\"></img><br></div>"
      ]
    },
    {
      "cell_type": "code",
      "execution_count": null,
      "metadata": {
        "id": "Dxbxc6QjwVTj",
        "tags": [
          "answer-cell"
        ]
      },
      "outputs": [],
      "source": [
        "###ANSWER HERE"
      ]
    },
    {
      "cell_type": "markdown",
      "metadata": {
        "id": "lN27NDXPwVTq"
      },
      "source": [
        "<div><img src=\"https://clark.physics.illinois.edu/246img/AnsEnd.svg\" width=200 align=left alt=\"Answer (end)\"></img><br></div>"
      ]
    },
    {
      "cell_type": "markdown",
      "metadata": {
        "id": "bYiH3x1XwVTq"
      },
      "source": [
        "### g. Second order correction to the energy"
      ]
    },
    {
      "cell_type": "markdown",
      "metadata": {
        "id": "ncMeidphwVTq"
      },
      "source": [
        "There are two (equivalent) ways to get the energy to second order.  \n",
        "\n",
        "Either you can do\n",
        "\n",
        "$$\n",
        "E_2 = \\sum_{k \\neq n} \\frac{ |\\langle k^{(0)} | V | n^{(0)} \\rangle|^2}{E_n^{(0)}-E_k^{(0)}}\n",
        "$$\n",
        "\n",
        "which uses only the eigenstates from the 0'th order wave-function or\n",
        "\n",
        "$$\n",
        "\\widetilde{E_2} = \\langle n^{(1)} | V | n^{(0)}\\rangle\n",
        "$$\n",
        "\n",
        "Write functions that compute the second order energy in both ways and verify that they are the same.\n",
        "\n"
      ]
    },
    {
      "cell_type": "markdown",
      "metadata": {
        "id": "fACVLMpKwVTq"
      },
      "source": [
        "<div><img src=\"https://clark.physics.illinois.edu/246img/AnsStart.svg\" width=200 align=left alt=\"Answer (start)\"></img><br></div>"
      ]
    },
    {
      "cell_type": "code",
      "execution_count": null,
      "metadata": {
        "id": "oeL2vSXFwVTq",
        "tags": [
          "answer-cell"
        ]
      },
      "outputs": [],
      "source": [
        "###ANSWER HERE"
      ]
    },
    {
      "cell_type": "markdown",
      "metadata": {
        "id": "dVa53ehVwVTq"
      },
      "source": [
        "<div><img src=\"https://clark.physics.illinois.edu/246img/AnsEnd.svg\" width=200 align=left alt=\"Answer (end)\"></img><br></div>"
      ]
    },
    {
      "cell_type": "markdown",
      "metadata": {
        "id": "J-sWXflwwVTq"
      },
      "source": [
        "### h. Exact Answer"
      ]
    },
    {
      "cell_type": "markdown",
      "metadata": {
        "id": "s-K3vvUBwVTq"
      },
      "source": [
        "Now we are going to try to get the exact answer.\n",
        "\n",
        "To get the part of the Hamiltonian for the interaction we now do need to make a matrix where $V$ is on the diagonal. Before we were avoiding that because doing so would consume all our RAM. Now, we are going to generate it in a sparse matrix to avoid this problem by doing\n",
        "```\n",
        "V=scipy.sparse.diags(H.V)\n",
        "```\n",
        "\n",
        "Now we also need to get the Hamiltonian for the non-interacting piece.  We already have the one-particle Hamiltonian `H.H0`.  As we needed to do when we want from the one-particle wave-function to the two-particle wave-function, we need to take some kronecker products to get the two-particle Hamiltonian.  Formally this is $H^\\textrm{SHO}\\otimes I + I \\otimes H^\\textrm{SHO}$.  We can generate this in python in a sparse matrix by doing\n",
        "```\n",
        "H0_sparse=scipy.sparse.kronsum(H.H_SH0,H.H_SH0)\n",
        "```\n",
        "\n",
        "Now we can generate the full sparse matrix `H_sparse` by adding these two terms.\n",
        "\n",
        "Now, using\n",
        "```\n",
        "e,v=scipy.sparse.linalg.eigsh(H_kron,k=4,which='SA')\n",
        "```\n",
        "you can get the ground state energy $E_0$ and the exact wavefunction $|\\Psi\\rangle $. Do this and report the eigenenergy as well as make a 2d plot of the true wave-function.  How does the plot compare against your first order perturbative correction?\n",
        "\n",
        "Also plot\n",
        "* Cumulative Energy as a function of perturbation order and the exact energy as a horizontal line on this plot\n",
        "*  Difference between the exact energy and the cumulative perturbative energy (on a log scale)\n",
        "* The absolute value of the pertubative correction $|E^{(i)}|$ as a function of perturbation order (on a log scale)\n",
        "\n",
        "\n"
      ]
    },
    {
      "cell_type": "markdown",
      "metadata": {
        "id": "5_tAAGeuwVTq"
      },
      "source": [
        "<div><img src=\"https://clark.physics.illinois.edu/246img/AnsStart.svg\" width=200 align=left alt=\"Answer (start)\"></img><br></div>"
      ]
    },
    {
      "cell_type": "code",
      "execution_count": null,
      "metadata": {
        "id": "zZOZbWB8wVTq",
        "tags": [
          "answer-cell"
        ]
      },
      "outputs": [],
      "source": [
        "###ANSWER HERE"
      ]
    },
    {
      "cell_type": "code",
      "execution_count": null,
      "metadata": {
        "id": "LoqbKLf5wVTq",
        "tags": [
          "answer-cell"
        ]
      },
      "outputs": [],
      "source": [
        "###ANSWER HERE"
      ]
    },
    {
      "cell_type": "markdown",
      "metadata": {
        "id": "zZ3Q9UmJwVTr"
      },
      "source": [
        "<div><img src=\"https://clark.physics.illinois.edu/246img/AnsEnd.svg\" width=200 align=left alt=\"Answer (start)\"></img><br></div>"
      ]
    },
    {
      "cell_type": "markdown",
      "metadata": {
        "id": "ZdoOqOCNwVTr"
      },
      "source": [
        "### i. Higher order corrections to the energy  (*optional*)"
      ]
    },
    {
      "cell_type": "markdown",
      "metadata": {
        "id": "h5V0uEYMwVTr"
      },
      "source": [
        "**This exercise is optional**"
      ]
    },
    {
      "cell_type": "markdown",
      "metadata": {
        "id": "eydzycrhwVTr"
      },
      "source": [
        "In a large majority of cases, if you're using perturbation theory it's only out to second order in the energy.  Nonetheless, you can go to higher order in perturbation theory and (depending on the convergence of the series) get better results.  There's a separate question in what cases, it is easy to do so with limited computer time.  In this situation, let's not worry too much about that and just compute the perturbative corrections out to 30'th order.\n",
        "\n",
        "To get the k'th order correction to the wave-function you can do\n",
        "\n",
        "$$\n",
        "|n^{(m)}\\rangle = \\sum_{j \\neq n} \\frac{1}{E_0^{(0)}-E_j^{(0)}} |j\\rangle  \\left( - \\langle j^{(0)} | V | n^{(k-1)}\\rangle  + \\sum_{k=1}^{m-1} E^{(k)} \\langle j^{(0)} | n^{(m-k)}\\rangle \\right)\n",
        "$$\n",
        "\n",
        "and then use\n",
        "\n",
        "$$\n",
        "E_0^{(m+1)}=\\langle n^{(0)} | V | n^{(m)}\\rangle\n",
        "$$\n",
        "\n",
        "You can iterate these equations over and over again until you reach any arbitrary order in perturbation theory.\n",
        "\n",
        " Use this to get the corrected energy out to 30'th order in perturbation theory..\n",
        "\n",
        " Store your energies in wave-functions in an array `Psis` and `Es` respectively (including the orders you'e already computed).  Plot the 2d version of the 30'th order wave-function and plot the same plots with respect to the energy that you've plotted aboe.\n"
      ]
    },
    {
      "cell_type": "markdown",
      "metadata": {
        "id": "TuSk_4kZwVTr"
      },
      "source": [
        "<div><img src=\"https://clark.physics.illinois.edu/246img/AnsStart.svg\" width=200 align=left alt=\"Answer (start)\"></img><br></div>"
      ]
    },
    {
      "cell_type": "code",
      "execution_count": null,
      "metadata": {
        "id": "bybi0W2MwVTr",
        "tags": [
          "answer-cell"
        ]
      },
      "outputs": [],
      "source": [
        "###ANSWER HERE"
      ]
    },
    {
      "cell_type": "markdown",
      "metadata": {
        "id": "pb6nHvbiwVTr"
      },
      "source": [
        "<div><img src=\"https://clark.physics.illinois.edu/246img/AnsEnd.svg\" width=200 align=left alt=\"Answer (end)\"></img><br></div>"
      ]
    },
    {
      "cell_type": "markdown",
      "metadata": {
        "id": "ee-btjUhsoIP"
      },
      "source": [
        "## Printing as PDF\n",
        "\n",
        "Hopefully just printing to pdf creates a nice version of your document to submit.\n",
        "\n",
        "If that is not the case, here is a robust albeit somewhat complicated solution that has worked in previous years:\n",
        "\n",
        "Insert this snippet at the bottom of your notebook\n",
        "\n",
        "``\n",
        "from google.colab import drive\n",
        "drive.mount('/content/drive')\n",
        "``\n",
        "\n",
        "Refresh your files tab (the folder icon on the left panel of the screen)\n",
        "\n",
        "Paste this code at the end of your notebook, with the appropriate path\n",
        "\n",
        "``\n",
        "!jupyter nbconvert --to html \"/content/drive/MyDrive/PathToAssignment/AssignmentName.ipynb\"\n",
        "``\n",
        "\n",
        "This should generate an html file for your Jupyter notebook, which is saved in your drive.\n",
        "Print this generated html file to a pdf file and submit it to canvas."
      ]
    },
    {
      "cell_type": "markdown",
      "metadata": {
        "id": "Cq7jCDAqsoIP"
      },
      "source": []
    }
  ],
  "metadata": {
    "colab": {
      "provenance": []
    },
    "kernelspec": {
      "display_name": "labcore",
      "language": "python",
      "name": "python3"
    },
    "language_info": {
      "codemirror_mode": {
        "name": "ipython",
        "version": 3
      },
      "file_extension": ".py",
      "mimetype": "text/x-python",
      "name": "python",
      "nbconvert_exporter": "python",
      "pygments_lexer": "ipython3",
      "version": "3.10.15"
    }
  },
  "nbformat": 4,
  "nbformat_minor": 0
}